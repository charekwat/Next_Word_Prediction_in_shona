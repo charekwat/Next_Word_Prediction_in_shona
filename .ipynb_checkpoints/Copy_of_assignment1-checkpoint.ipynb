{
 "cells": [
  {
   "cell_type": "markdown",
   "id": "0821e096",
   "metadata": {
    "id": "0821e096"
   },
   "source": [
    "### 1. Dataset"
   ]
  },
  {
   "cell_type": "code",
   "execution_count": null,
   "id": "a930081c",
   "metadata": {
    "id": "a930081c"
   },
   "outputs": [],
   "source": [
    " file = open(\"/content/drive/MyDrive/shona_text.txt\",\"r\")\n",
    "shona_text = file.read()"
   ]
  },
  {
   "cell_type": "code",
   "execution_count": null,
   "id": "56EfGiQG9C1H",
   "metadata": {
    "colab": {
     "base_uri": "https://localhost:8080/"
    },
    "id": "56EfGiQG9C1H",
    "outputId": "d4fbf745-d34a-40ca-f5c5-8f7cc3c85ac7"
   },
   "outputs": [
    {
     "name": "stdout",
     "output_type": "stream",
     "text": [
      "Mounted at /content/drive\n"
     ]
    }
   ],
   "source": [
    "from google.colab import drive\n",
    "drive.mount('/content/drive')"
   ]
  },
  {
   "cell_type": "code",
   "execution_count": null,
   "id": "8N4iNGbUEXc5",
   "metadata": {
    "colab": {
     "base_uri": "https://localhost:8080/",
     "height": 1000
    },
    "id": "8N4iNGbUEXc5",
    "outputId": "9cbf687f-df87-4b75-c669-c59d9deb3c33"
   },
   "outputs": [
    {
     "data": {
      "application/vnd.google.colaboratory.intrinsic+json": {
       "type": "string"
      },
      "text/plain": [
       "'\\n   “Mwanangu ndiri kufara zvikuru kuona wave\\nkukwanisa kudya sadza woga kudai, izvi\\nzvinoratidza kuti wanaya, upenyu hwadzoka\\nkwauri. Mapipi, akashanda basa guru kwazvo,\\nndinotoshaya kuti ndomutenda nei. Ndakanga\\nndarasikirwa newe, mwanakomana wangu,\\nbaba vangu, chireramhuri. Chokwadi, ndanga\\nndopishana mupfungwa kuti ko, ndakatadzei\\nko kunaSamatenga, ndepapi pandakaposhera\\nvadzimu vokwangu nevekwako.\\n   “Zvandakabva kuno ndichiti ndoenda seri\\nkwechikomo, kunaPiriviri, ndakaerera nzira yose\\nmisodzi iri pamatama, vaipesana neni\\nvaikahadzika zvakanyanya asi vachityira kure\\nkubvunza chikonzero, vashoma vaive nezvivindi\\nndivo vairovera moyo yavo pamabwe kwave\\nkubvunza. Ipapo handaivanza kwete,\\nndaivaudza kuti ndasiya mwanakomana\\nwangu arere parupasa, achitandaza kwazvo.\\nKo, ndaigovanzei izvo zvichinzi bundu rako\\nwoga nderiri mumoyo, repaziso unosvinwa\\nnavamwe?\\n   “Chiona zvino nenji\\nrandakasvikosanganidzana naro kwaMapipi?\\nNdichiri chinhambwe toriro, ndakaona achiita\\nkuhwitaira nekunyuruka akananga kwandiri.\\nIzvozvo ziso raive rakanzi dhee sere\\nchidhambakura. Ndakatombotya ndikati, hezvo,\\nzvandichabvamburwa nen’anga iyi. Ave pedyo\\nneni akatanga kuhukura achireva mashoko\\naiganhuka ganhuka asi achinzikwa zvawo…”\\n   “Munoreva kuti makaenda moga kuna Piriviri\\namai?” Charles akabvunza achitsenga nyama\\nyehanga yakagochwa, izvozvo aive akakomba\\nchikomo chesadza, ziya rati teu kuratidza kuti\\nakanga ari garira nzara yamukohomesa.\\n   VaMujakari vakabubudza maoko ndokuridza\\nrutsamwa vachitarira divi. Vakamboita nguva\\nvakatsveyamisa musoro saizvozvo,\\nvakazotarira kumwanakomana wavo\\nndokutaura vachiti, “Ndakaenda ndoga ini, wati\\nkana waringana nemadzudzo uchange wotya\\nzvekare? Vakuru vakati, kana wasasikwa\\nhauchatyi kununa, vakareva nekuziva ipapo.\\nNdakabva pano pamba rusvisvisvi ndiye kabu\\nmunzira munhindo yaityisa kukunda mhondoro,\\n”\\n   “Ko, mai Taida nanaTambudzai vakasarirei?”\\n   Zvevana vaduku zvingatevedzwa?\\nPandakamuka, vaive vakafa nehope kuti rororo\\nndokuvamutsa wanei vose vati gogogo,\\nndoudzwa kuti, amai kuchakasviba uku. Ipapo\\nndakabva ndati sarai zvenyu, mwana unorwara\\nndewangu. Zvisinei hazvo, izvi usaita basa\\nnazvo, chakakosha kuti wararama, izvozvo\\nbedzi ndizvo zvandatarirana nazvo zvino.\\nChimwe chandinoda kuti uzive ndizvo\\nndakanzwa kwaMapipi. Gara paya ndanga\\nndaperera pokuti kudii?”\\n   Mashoko okuti amai vake vaive vaenda voga\\nkuhakata akamutsamwisa zvikuru zvikapa kuti\\nabve aguta pakarepo, akageza mako\\nndokusaidzira ndiro kure. “Magumisira pokuti\\nMapipi akakutambirai muchiri kure…”\\n   “Ehunde, ndizvozvo chaizvo,” vakadaro\\nndokunyemwerera vachisiya pachena meno\\nainge enhika. “Mashoko aakataura anditambira\\nsaizvozvo akandityisa zvikuru…”\\n   “Akati kudii? Akataura chakandirwarisa\\nhere?”\\n   VaMujakari vakaguguna huma ndokuringa\\npasi kwekanguva kwave kuzosimudza musoro\\npava paya. “Hongu ndainzwa zvangu kuti\\nmurume uyu inyanzvi pamashopeshope asi\\nhandina kuziva kuti kusvika pakadaro.\\nNdikakuudza kuti akandidana nezita\\nrokuberekwa naro ungazvibvuma? Ave pedyo\\nneni akakwiruka achiti, ko, nhaiwe Marwei\\nzvoworega mwana achimonyororwa mutsiba\\nsehuku yomusvuvu ndiko kungwara here ikoko?\\nPandakati ndishamise muromo kuti ndibvunze\\nzvaaireva akabva andiganhura achiti, ko inga\\nnyoka waisiya yakati mone mugudza…”\\n   “Ndiko kuti kudii ikoko?” Charles akanga\\nachakabatwa nerima, pasina chiedza chaaiona\\npamashoko aamai vake.\\n   “Neniwo ndakashaya shumo yazvo\\npakuvamba asi paakadzokorodza akabva\\nadudza achinge airondedzera. Akazotaura\\nzvizhinji amira mberi kwangu kuti zute, haana\\nkana kunditendera kusvika pamusasa wake.\\nHunzi, vanhu vaviri avo vanopatisa mwana\\nwako hauvaoni? Ivavo ndivo vakaruka zano\\nrokupfuudza mwanakomana wako kuti ivo\\nvasare vachisasana zvavo nekuti rudo rwavo\\nrwakomba sebudzi rembeu. Akabva anditi ringa\\nmukati mechanza changu ichi uone vanhu\\nvandinoreva, handina kunonoka ndakabva\\nndaita sokureva kwake pekare pekare.”\\n   Charles akakahadzika kwazvo nekutaura\\nkwakadai. “Aiedza kureva kuti chii nemashoko\\naya uye makaona ani muchanza make zvaakati\\nuyai muone vanhu vacho?”\\n   VaMujakari vakambogegedera kuseka\\nndokuzopedzisira nekachikwee kakatetepera.\\n“Mwanangu, kana vakuru vachireva zviya,\\nchimboteya nzeve, inga vekare vakareva kuti\\nmukuru mukuru hanga haigari pfunde uye\\nmuromo wevakuru hauwiri pasi? Rega\\nndisarove imbwa ndakaviga mupinyi, Makina\\nnaSekai ndivo vanhu vakabatwa kuhakata…”\\n   Charles akasvetuka kubva pachigaro\\nndokusvikoti kwati nemadziro akavhura romo\\nseshuramurove yadzipwa nezimhashumuroyi.\\nAkamboita nguva akadaro ndokuzobvunza\\nachiti, “Zvanzi Sekai naMakina vadii nhai\\namai? Ipapo handina kunyatsopabata ini.”\\n   “Ndivo zve vakatsvaga bvungairo rinova\\nravakakuteya naro kuti apo paunenge wauya\\nkuno ribve rakutibvura pamoyo vanhu vagoti\\nndini ndakakuroya. Chinangwa chavo kuda\\nkukupfuudza nekuti vanoda kuti vagosara\\nvachisasana pamwe nekutora imba yako.\\nKuwedzera kundibaya pamoyo nenhudziro\\ndzake akatizve kana naiye mwana uyo\\nhaasi…”\\n   “Kwete amai, chimirai ipapo!” Akaganduka\\nCharles. “Uko kwamave kuenda hakuchaiti,\\nndapota zvangu, chiregai amai. Zvandanzwa\\nzvakwana, chindisiyai ndakadaro. Makaita\\nbasa nekuita kuti ndirarame, handizivi\\nzvamakapiwa ikoko kuti mundirape nazvo asi\\nndinotenda. Zvandave kunzwa zvakanaka\\nkudai mushure memazuva mashoma\\nndichadzokera kuKaroi…”\\n   “Iwo mushonga waakakupa wakabva kure\\nkure kusingasviki dzedu tsoka. Dai pasina\\nmuturura une ukasha wandakapiwa naMapipi\\nkuti ugonwa uri mumaheu wati wairarama\\nhere? Izvozvi Sekai ave nemazuva maviri\\nadzokera kuKaroi achiti anombonotarisa\\nkumba kuti kwakadii, aripi nazvino? Kutarisa\\nimba kuti yakadii kungada vhiki yose? Hauoni\\nvari kutopurana nemudiwa wake kuti\\nzvawararama kudai, vochiita ripi zano?”\\n   Charles haana kuzopindura, akaramba\\nanyerere zvake sematsi, aona kuti vakanga\\nvachisina mashoko, akawoneka ndokutora\\nmugomo wokudiridzisa bindu ndiye kwitu. Ave\\npanze akadana muzukuru wake Solomon\\nndokubata vodzika zasi, kurwizi Mwami. Ava\\nVaMujakari vakasara vachikosora kosora\\npamwe nekugeza huro kasingagumi.\\n   Manheru emusi iwoyo Sekai akadzoka kubva\\nkuKaroi, murume wake akamutambira\\nnemufaro wemisi yose, mashoko aakanga\\nanzwa masikati acho naamai vake haana\\nkumusudurutsa paari. Kana ari Taida akabva\\narambira muruoko rwake sechiringazuva.\\nVaMujakari nevanasikana vavo ndivo vasina\\nkushanduka pamuitiro wavo wokumuratidza\\nruvengo, iyewo haana kuita hany’a nazvo,\\nzvakanga zvava muropa.\\n   Kupera kwemazuva matatu kubva zvadzoka\\nSekai, Charles akawoneka amai vake\\nndokudzokera kumba nemhuri yake, iye zvino\\nakanga anyatsosimba, nyama dzadzokedzana.\\nSemunhu akanga afadzwa nekurapiswa\\nkwaakanga aitwa naamai vake, akatorawo\\nMavis ndokudzokera naye kuti anopedzisa\\natachimendi chinova chinhu chakafadza\\nVaMujakari zvikuru.\\n   Zuva rakatevera rakare raasvika muKaroi umo\\nakanga abva vhiki mbiri dzakanga dzapfuura,\\noenda kubasa akapfuura nekukanzuru uko\\nakasvikoteterera kuvakuru vepo kuti vatendere\\nhanzvadzi yake kupedzisa atachimendi.\\nChikumbiro chake chakazotambirwa mushure\\nmokuzvidemba kwenguva refu, vavariro yaive\\nyokufadza amai vake. Akazopfuurira kwake\\nachisiya Mavis atogara muhosi, izvozvo\\nzvakamupa kuenda akasimudzira mafudzi\\nsezvinongoita vazhinji kana vakwanisa kubata\\nbasa rinorema.\\n   Kwapera mwedzi mitatu kubva zvaadzoka\\nmuKaroi, Mavis akapedza atachimendi\\nndokubva adzokera kumusha, iye zvino akanga\\nagara zvakanaka pasina misikanzwa asi\\nnaamaiguru vake pakanga pasina nyaya kana\\nmamuka sei zvayo, yaingove njake njake.\\nKuenda kwake kwakaita kuti Sekai asare\\nachitura befu sezvinonzi akanga ari mutirongo\\nyeKhami.\\n   Hongu, Sekai ainge ati azorora nekuenda\\nkwatete vake asi mufaro wake hauna kudzoka\\nwose nekuda kwetsika yakanga yoitwa\\nnaCharles, akanga achisiri uya wemisi yose. Iye\\nzvino akanga odzoka pamba usiku,\\nachisvikopinda mumachira asina kudya, kuti\\nabvunze hakuna aimudavira. Kuita ikoko\\nkwakazokwidza mutarara rimwe reiwayo\\nmazuva apo Charles akadzoka akararadza,\\nchinova chinhu chaakanga asati amboita\\nkubva zvaamuziva.\\n   Sekai akashushikana kwazvo musi uyu,\\ndzimwe pfungwa dzakamuti siya zvakadaro,\\nungazvidenhera mago asi dzimwe\\ndzakapokana dzichiti, ko, rudo rwacho\\nrukagova rwupi? Sadza raakanga asiya neusavi\\nhwehove dzakapiswa mumafuta harina\\nkubatwa, hombarume yakangosvikoti pfee\\nmumachira ndiye ngo ngo ngo, wanike\\nyopwatitsa ngonono kari kekutanga.\\n   Sekai akabva muimba yokutandarira\\nmaakanga achisvusvudzira mwana kuti arare\\nndokusvikorova rova Charles nembama\\nkumusana asi rume harina kumuka,\\nrakatowedzera kukuya ngonono. Akatozoita\\nzvekubata nesimba achimuzungunutsa.\\nZvaaifungira handizvo zvakazoitika, Charles\\nakangoti fugu gudza ndokubva amuka mbama\\nyakamunanga padama.\\n   “Uri kundimutsirei pfambi iwe?” Charles\\nakakwiruka akadzvondora ziso dzvuku kuna\\nSekai.\\U000f1733\\n**Zimbabwe Shona N...\\n\\U000f07dd\\n\\U000f1608\\n\\U000f1919\\n\\U000f1853\\n\\n**Zimbabwe Shona\\nNovels**\\n\\U000f167a\\nPublic group\\n\\U000f078b\\n113K members\\n\\n\\n\\n\\n\\n\\U000f1903\\nInvite\\nVideos\\nAnnouncements\\nEvents\\n\\nWrite something...\\n\\U000f0604\\n\\U000f0792\\nVideo\\nMost relevant\\nSORT\\nEdmore Gwanzura\\nEdmore Gwanzura\\n10h\\U000f078b\\U000f07e1\\n\\U000f07dd\\nTAIDA\\n\\nEdmore Gwanzura (Prof G) +263773434749\\n\\nChitsauko 14\\n\\n   “Mwanangu ndiri kufara zvikuru ku...see more\\n\\n42\\n\\U000f0925 42\\n\\U000f0926 34\\n\\U000f0927 \\n\\nWrite a comment...\\nManasseh Nyamukondiwa\\nManasseh\\nNyamukondiwa►**Zimbabwe\\nShona Novels**\\n10h\\U000f078b\\U000f07e1\\n\\U000f07dd\\nPatrick stories\\nPatrick stories\\n14h\\U000f078b\\U000f07e1\\n*\"ZVAMATISIYA\"*\\n\\nSTORY CREATED BY PATRICK STORIES.\\n\\n+27676644458\\n\\nCHAPTER 16\\n\\nMAI TRISH\\n\\nzvakauya mumusoro mangu zvaiva\\nzvakawanda kuburikidza nezvakanga\\nzvaitika kuna Jessica manheru aya.\\n\\nNdakatadza kana kuzvidzora mushure\\nmekuzvirangarira kuita kuona kari kavision\\nkaiva kachiitika kusvika pakubudisa\\nmisodzi zvokuti ndakasvika kakudzamisa\\npfungwa nendangariro pamwe chete.\\n\\n\" Kuti! Baba Trish vanechekuita nezvaitika\\nizvi here? Why vasipo pano pamba ini\\nndavasiya varipo vangadai vaenda kupi?\\nMari yavarikunzi vakaonekwa\\nvachitambidzwa nababa Kelly yaiva yei.\"\\nZvese izvi zvakanga zvichiuya mukati\\nmepfungwa dzangu zvekuti handina kuona\\nvakasvika nguvai ini.\\n\\nNdakaona mutsoka mavo musina shangu\\nzvakandinetsa.\\n\\nIpapo ndakatanga kupukuta misodzi nokuti\\nndakanga ndisingade vazive zvaiva\\nzvaitika kuna Jessica.\\n\\nNdakanzwa murume wangu ava\\nkundibvunza..\\n\\n\"Kwavabva kwakanaka here kunoita usvike\\nnekuchema kudai? Ndiani afa\\nzvaunochema kudai  Mai Trish.\"\\n\\nIni kuti ndivaudze zvakanga\\nzvisingakwanisike nokuti zvinhu izvi \\nmaitikiro azvo anondirwadza uye kuona\\nmurume vangu arimo munyaya idzi.\\n\\n\"Baba Trish! Murikubva kupi manheru ano\\naya musina bhutsu mugumbo.\" Apa ndaiva\\nndazvipira kubvunza. Ko, kwaiva kusiri\\nkufa ndekupi nokuti hapana kwaiva kusiri\\nkufa zvose zvakanga zvakangofanana\\nchete..\\n\\n\"Haunganzwisisa mudzimai kana\\nndikakuudza nezvazvo kwandanga ndiri.\\nUnoona ndanga ndaenda kunoona\\nkamupurisa ako kuitira zvinonetsa\\nmangwana nevana ava uye kuramba\\nkwaita Jessica kugara pano kwatibatsira\\nkubva mumamwe matambudziko edu\\natinosangana nawo.\" Kutaura kwavo\\nkwakaita ndirambe ndakanyarara ndikati\\nndichavabvunza Mangwana kwakachena.\\n\\nNdakapinda mumba nekupinda\\nmumagumbeze ndokutorara hope chaidzo.\\n\\nKunze kuchienda ndaifanirwa\\nkunosangana naBaba Tapiwa tichionesana\\ntingaite sei tikwanise kubvisa vana ava\\nmunhara unda iyi.\\n\\nNdakasangana nawo tikakuru kura\\nndokuona zvakakodzera kuvaendesa\\nkwaiva nemunin\\'ina wangu Tambudzai\\nakanga achishanda paMutoko. Taifanirwa\\nkuvakwidza bhazi kuti azovagarire..\\n\\nIni handina kukwanisa kuperekedza\\nndakadzokera kumba ndiri munzira\\nndakasangana nevakomana vatatu avo\\nvakati..\\n\\n\"Mhamha makadii zvenyu? Tinokumbirawo\\nkubvunza tinoda kuona musikana anonzi\\nJessica akafirwa nevabereki vake ini\\nndinoitwa Brendon, uyu umwe anonzi Tofi,\\nasi zita rake anonzi Tofirei zvake... Koita\\nuyu anoitwa Pardon.\" Akadaro mukomana\\numwe akanga ari pedyo neni aiwa achiputa\\nmbanje yake iyo yakandikanganisa\\nndikatanga kukosora..\\n\\n\"Mukwasha! Madii mamira kuputa mbanje\\nyenyu iri kundikanganisa.\" Ndakataura\\nndichidaro handina kuziva ndaiva\\nndazvisikira moto muziso chaiko\\nndakaerekana ndabatwa huro hwangu\\nndakuita ku..............\\n\\nMAI TAPIWA\\n\\n Ndakanga ndine imwe tsoro yandakanga\\nndinayo. Uye ndakarwadziwa kuti mwana\\nweshamwari yangu opinda panguva\\nyakaoma Kelly.\\n\\n Ndakaona kuti mwana uyu akanga akuda\\nkuenderera ndaifanirwa kufunga imwe\\ntsoro yangu yandanga ndinayo. Tsoro\\nyandanga ndafunga yakanga\\nisingakwanisi kumuregerera yakanga\\nisingarambi. Ndakatuma munhu kuti\\nanomurepa kana achinge amurepa\\nomuuraya. Ndizvo zvandakanga ndichida\\noenda kuno murasa kurwizi. Zvekuti haafi\\nakaonekwa zvachose body yake. Kana ivo\\nbaba Tapiwa vakatozvishaya kuti munhu\\nuyu chii,chaari  kunyengerera  chaiko. Ini\\nndakanga ndichiziva kuti chifumi\\nchamangwana ichi murume wangu\\narikuenda. Kwaari kuda kuenda\\nkwaMurehwa pane zvaanga achida kunoita\\nikoko. Ini handina kuda kumungwadza kuti\\nazive kuti rwendo rwake ndakanga\\nndaruudzwa kudhara kuti, arikuda kuenda\\nkunoita nezvei. Izvi ndakaita kuti asazviona\\nkana achinge aenda ikoko madhiri ose\\nanenge ava bho. Murume wandakanga\\nndatuma akanga achiteera sezvazviri. Uye\\nzuva iri ndakaita kurara ndine mufaro\\nvakaita kuzadzwa mumoyo ndaiti baba\\nava vakaura rwendo runo. Chakandinetsa\\nndichekuti kwaiva kwava kuma past 8\\ndzema nheru apo murume wangu akangoti\\narikunzwa mudumbu. Akabuda achiita\\nkumhanya achienda kutoilet. Ini\\nnechemumoyo ndakangoti tichaona\\nkuchawira tsvimbo nedohwe. Nokuti zvinhu\\nzvako zvese zvava padhuze uye tichaona\\nkuti kana waenda uku vana ava uchavaona\\nsei. Uchazongonzwa kuti ava makuva\\nchete.\\n\\nNokuti zvandiri kuronga hazvifi zvakaenda\\nmudondo zvamuchose. Kubuda kwaakaita\\nndakasara ndikarara, asi munhu haana\\nkudzoka sezvakandinetsa. Kuti iwo\\nmudumbu umu! mudumbu rudzii unoita\\nkuti munhu aite gore rose ari kuchimbuzi.\\nAsingadzoki ndakafunga kuti pamwe\\naenda kuno rara muroom mai rara Tapiwa.\\nNdakatarisa muimba mairara Tapiwa\\nndikaona hamuna, muimba yekubikira\\nhamuna. Ndakaenda kutoilet ndakawana\\nmusina kana munhu zvachose.\\nNemataigezera makanga musina munhu.\\nIzvi zvakaita kuti ndirohwe nehana nokuti\\nchingava chiri chii chaitika ichi.\\nNdakadzokera kuno rara ndakanga\\nndisisina kugadzikana mupfungwa\\ndzangu. Nokuti ndakanga ndichida kuziva\\nmunhu aiwa  arikupi. Nokuti, rwendo rwake\\ntaiva tamugadzirira kuti, akwanise\\nkufamba zvakanaka. Asi ichi chaitika\\nhandichazivi kuti chaiva chava chii.\\nNdakasvika pakubatwa nehope ndikarara\\nkunze kuchiedza ndakaenda kuno sangana\\nnemurume uyu. Wandakanga\\nndichifanirwa kusangana naye ipapo\\nndakashamisika kunzwa kuti, atadza kuita\\nzvanda kanga ndamutuma. Zvinova\\nzvakandirwadza zvisingaiti nokuti,\\nndakanga ndisina kutarisira zvakadai.\\nNdakaita kubaikana chaiko, asi ndakati\\nhazvinetsi. Ndakamuudza kuti, \"horaiti\\nsezvo iwe zvawatadza wakatadza\\nkumuteera here? Zvawakaona kuti,\\naperekedzwa nemudzimai waSabhuku?.\\nNokuti mudzimai waSabhuku handioni\\nanedhiri nokuti arikutoedza kuvanyengerera\\nkuitira kuti tikwanise kupinda mavari. Uye\\nhandioni pane chakaipa wakatadza\\nkuvateera kumba kwavo here?\\nUkaita izvozvo nokuti ndinofanirwa kuita\\nzvinhu izvi nekukurumbidza pasina\\ndambudziko.\"\\n\\n\"Nokuti simbi inorohwa ichapisa. Ukada\\nkuzoirova yatonhora zvinhu zvinoenda\\nmudondo.\" Ndakadaro ndikanzwa avakuti\\n\"Mai Tapiwa\" handidi kukunyeperai,\\nndaedza zvose zvandinokwanise kusvika\\npamba apa asi ndapererwa. Nokuti\\nzvandaona zvacho kuti ndikuudzei muno\\nkwanisa kuzviramba. Ndaona murume\\nwenyu akarara padoor kuti, ndipinde\\nzvakanga zvisingaiti. Nokuti zvaizotora\\nkunetsa ayizondiona ndiri mukati ndozoita\\nsei. Zvamati murume wenyu nhasi\\nanerwendo hazvina hazvo kuipa nokuti\\nndiro zuva randichaona kuti ndingaite sei,\\nkana ndichinge ndapedza kuita\\nzvandinenge ndaita hazvinetsi imba yavari\\nkugara iyi. Ndiye huswa ndinosiya\\nndavapisira mukati  zvose zvofamba\\nzvakanaka. Hapana kana anofungira kana\\nSabhuku chaivo havafungiri. Nokuti\\nSabhuku chaivo ndakanzwa kuti vana ava\\nvakaramba kugara kumba kwaSabhuku.\\nZvinova zvakavanetsa uye manheru\\nvakanga vaenda kunotaura neumwe\\nmupurisa wedu uyu asina zvinobatsira uyu.\\nUye ishamwari yangu. Ndiye andiudza kuti\\nachauyiswa kuti ange achiongorora vana\\nava kuti hapana  ari kuvatambudza here?.\\nNdiye arikuita nyaya yekuti\\nvasashungurudzwe. Uye mumwe munhu\\nanofanirwa kuti adzikamiswe ndiSabhuku.\\nHongu! toziva kuti anofarira doro, asi\\nanofanirwa kudzikamiswa kuma shops\\nkwaanoenda uku. Kungotenga doro kana\\nkumupfuudza kumuisira muchetura\\nmudoro. Zvinenge zvakanaka kuitira kuti\\nmadhiri edu abve asununguka. Nokuti\\ntikatadza kupfuudza Sabhuku hapana\\nzvatinenge tichiita. Murume wenyu baba\\nTapiwa hapachisina zviripo nokuti\\nvakangobvuma chete kuenda zvinenge\\nzvava munzira yakanaka. Uye handifungi\\nkuti mai Sabhuku vakataura nezvazvo kuti\\nndizvo zvakanga zvichida kuitwa mwana\\nizvi.\"\\n\\nKutaura kwemurume uyu ndakaona kuti\\nakanga achirevesa. Ndakati iwe ita\\nzvingakwanisa kuita. Asi kuti upisire vana\\nava mumba hazvingaiti nokuti vanogona\\nkufungira isu vanhu. Nokuti dhiri iri ndini\\nchete ndiri kuri ziva hakuna mumwe ari\\nkuriziva kunze kwako iwe neni chete. Uye\\nkana ari murume wangu hazvinetsi\\nndichatamba naye kusvika zvanaka.Ndakadaro ndika kuparadzana\\nkwandakaita.\\n\\nIni ndakadzoka kumba ndakasvika\\nndichiona baba Tapiwa varipo. Handina\\nkutaura ndakango bvunza kuti. \"Ko, nayi\\nmurume wangu? wakarara kupi manheru.\"\\nHaana kutaura akangoti akanga aenda\\nkunooneka vana uye akatadza kudzoka\\nkumba. Nokuti nguva dzaiva dzaenda\\nakasarudza kuvata ikoko. Ndakangoti\\nnechemumoyo ndakati  unofunga kuti inini\\nndini ndino bvuma kunyeperwa here? Ini\\nndichiziva  ndava kuziva chokwadii chese.\\nChiri kuitika pauri, nhasi ndiro zuva rako\\nrekupedzisira kuonana nevana ava.\\n\\nMurume wangu akatora bag rake.\\nNdokubuda pamba akaoneka zvakanaka\\nuye akasiya ati \"Tapiwa ndiri kudzoka\\nmwana wangu uye handisi kutora nguva.\\nNdinovimba kuti ndichagara ikoko mazuva\\nmaviri ndodzoka kwamuri kuno. Handisi\\nkutora nguva yakareba kugarako.\"\\n\\nAkadaro murume wangu achitora bag rake\\nndakada kumuperekedza asi akaramba.\\nKubuda kwaakaita pamba handina kuona\\nkuti akafamba sei. Uye ndakafonera\\nmukomana uya ndikati izvezvi unofanirwa\\nkuchirinda mwanasikana uyu. Asi\\nndakashamisika kunzwa achitaura kuti\\nJessica nevana vamai vake kutaura\\nkwandiri kuita kudai handisi kuvaona. Uye\\nndakapedzisira kuvaona vachiperekedza\\nmurume wenyu. Baba Tapiwa handizivi\\nkuti vaenda kupi. Nokuti vakanga\\nvakatakura mabag akawanda handizivi\\nkuti, mabag avaiva vakatakura akawanda\\nvangava vaenda kupi.\\n\\nIzvi zvakaita kuti ndipererwe. Hapana kuita\\nnguva ndakaona murume wangu adzoka.\\nAsina bag akazara madhaka akati iye\\nFr|tt[akanga asangana netsaona. Uye akwanisa\\nkubuda asi paarohwa pacho atadza kuona\\nkuti vana vanga vachimuperekedza kuti\\nvafamba sei? Uye haana kukwanisa kuona\\nkuti vari kupi. Izvi zvakandinetsa kuti,\\nmurume uyu angadai ateera vana ava.\\nZvakandinetsa chaiko nekudya moyo\\nwangu. \\U000f1733\\n**Zimbabwe Shona N...\\n\\U000f07dd\\n\\U000f1608\\n\\U000f1919\\n\\U000f1853\\n\\n**Zimbabwe Shona\\nNovels**\\n\\U000f167a\\nPublic group\\n\\U000f078b\\n113K members\\n\\n\\n\\n\\n\\n\\U000f1903\\nInvite\\nVideos\\nAnnouncements\\nEvents\\n\\nWrite something...\\n\\U000f0604\\n\\U000f0792\\nVideo\\nMost relevant\\nSORT\\nEdmore Gwanzura\\nEdmore Gwanzura\\n10h\\U000f078b\\U000f07e1\\n\\U000f07dd\\nTAIDA\\n\\nEdmore Gwanzura (Prof G) +263773434749\\n\\nChitsauko 14\\n\\n   “Mwanangu ndiri kufara zvikuru ku...see more\\n\\n42\\n\\U000f0925 42\\n\\U000f0926 34\\n\\U000f0927 \\n\\nWrite a comment...\\nManasseh Nyamukondiwa\\nManasseh\\nNyamukondiwa►**Zimbabwe\\nShona Novels**\\n10h\\U000f078b\\U000f07e1\\n\\U000f07dd\\nPatrick stories\\nPatrick stories\\n14h\\U000f078b\\U000f07e1\\n*\"ZVAMATISIYA\"*\\n\\nSTORY CREATED BY PATRICK STORIES.\\n\\n+27676644458\\n\\nCHAPTER 16\\n\\nMAI TRISH\\n\\nzvakauya mumusoro mangu zvaiva\\nzvakawanda kuburikidza nezvakanga\\nzvaitika kuna Jessica manheru aya.\\n\\nNdakatadza kana kuzvidzora mushure\\nmekuzvirangarira kuita kuona kari kavision\\nkaiva kachiitika kusvika pakubudisa\\nmisodzi zvokuti ndakasvika kakudzamisa\\npfungwa nendangariro pamwe chete.\\n\\n\" Kuti! Baba Trish vanechekuita nezvaitika\\nizvi here? Why vasipo pano pamba ini\\nndavasiya varipo vangadai vaenda kupi?\\nMari yavarikunzi vakaonekwa\\nvachitambidzwa nababa Kelly yaiva yei.\"\\nZvese izvi zvakanga zvichiuya mukati\\nmepfungwa dzangu zvekuti handina kuona\\nvakasvika nguvai ini.\\n\\nNdakaona mutsoka mavo musina shangu\\nzvakandinetsa.\\n\\nIpapo ndakatanga kupukuta misodzi nokuti\\nndakanga ndisingade vazive zvaiva\\nzvaitika kuna Jessica.\\n\\nNdakanzwa murume wangu ava\\nkundibvunza..\\n\\n\"Kwavabva kwakanaka here kunoita usvike\\nnekuchema kudai? Ndiani afa\\nzvaunochema kudai  Mai Trish.\"\\n\\nIni kuti ndivaudze zvakanga\\nzvisingakwanisike nokuti zvinhu izvi \\nmaitikiro azvo anondirwadza uye kuona\\nmurume vangu arimo munyaya idzi.\\n\\n\"Baba Trish! Murikubva kupi manheru ano\\naya musina bhutsu mugumbo.\" Apa ndaiva\\nndazvipira kubvunza. Ko, kwaiva kusiri\\nkufa ndekupi nokuti hapana kwaiva kusiri\\nkufa zvose zvakanga zvakangofanana\\nchete..\\n\\n\"Haunganzwisisa mudzimai kana\\nndikakuudza nezvazvo kwandanga ndiri.\\nUnoona ndanga ndaenda kunoona\\nkamupurisa ako kuitira zvinonetsa\\nmangwana nevana ava uye kuramba\\nkwaita Jessica kugara pano kwatibatsira\\nkubva mumamwe matambudziko edu\\natinosangana nawo.\" Kutaura kwavo\\nkwakaita ndirambe ndakanyarara ndikati\\nndichavabvunza Mangwana kwakachena.\\n\\nNdakapinda mumba nekupinda\\nmumagumbeze ndokutorara hope chaidzo.\\n\\nKunze kuchienda ndaifanirwa\\nkunosangana naBaba Tapiwa tichionesana\\ntingaite sei tikwanise kubvisa vana ava\\nmunhara unda iyi.\\n\\nNdakasangana nawo tikakuru kura\\nndokuona zvakakodzera kuvaendesa\\nkwaiva nemunin\\'ina wangu Tambudzai\\nakanga achishanda paMutoko. Taifanirwa\\nkuvakwidza bhazi kuti azovagarire..\\n\\nIni handina kukwanisa kuperekedza\\nndakadzokera kumba ndiri munzira\\nndakasangana nevakomana vatatu avo\\nvakati..\\n\\n\"Mhamha makadii zvenyu? Tinokumbirawo\\nkubvunza tinoda kuona musikana anonzi\\nJessica akafirwa nevabereki vake ini\\nndinoitwa Brendon, uyu umwe anonzi Tofi,\\nasi zita rake anonzi Tofirei zvake... Koita\\nuyu anoitwa Pardon.\" Akadaro mukomana\\numwe akanga ari pedyo neni aiwa achiputa\\nmbanje yake iyo yakandikanganisa\\nndikatanga kukosora..\\n\\n\"Mukwasha! Madii mamira kuputa mbanje\\nyenyu iri kundikanganisa.\" Ndakataura\\nndichidaro handina kuziva ndaiva\\nndazvisikira moto muziso chaiko\\nndakaerekana ndabatwa huro hwangu\\nndakuita ku..............\\n\\nMAI TAPIWA\\n\\n Ndakanga ndine imwe tsoro yandakanga\\nndinayo. Uye ndakarwadziwa kuti mwana\\nweshamwari yangu opinda panguva\\nyakaoma Kelly.\\n\\n Ndakaona kuti mwana uyu akanga akuda\\nkuenderera ndaifanirwa kufunga imwe\\ntsoro yangu yandanga ndinayo. Tsoro\\nyandanga ndafunga yakanga\\nisingakwanisi kumuregerera yakanga\\nisingarambi. Ndakatuma munhu kuti\\nanomurepa kana achinge amurepa\\nomuuraya. Ndizvo zvandakanga ndichida\\noenda kuno murasa kurwizi. Zvekuti haafi\\nakaonekwa zvachose body yake. Kana ivo\\nbaba Tapiwa vakatozvishaya kuti munhu\\nuyu chii,chaari  kunyengerera  chaiko. Ini\\nndakanga ndichiziva kuti chifumi\\nchamangwana ichi murume wangu\\narikuenda. Kwaari kuda kuenda\\nkwaMurehwa pane zvaanga achida kunoita\\nikoko. Ini handina kuda kumungwadza kuti\\nazive kuti rwendo rwake ndakanga\\nndaruudzwa kudhara kuti, arikuda kuenda\\nkunoita nezvei. Izvi ndakaita kuti asazviona\\nkana achinge aenda ikoko madhiri ose\\nanenge ava bho. Murume wandakanga\\nndatuma akanga achiteera sezvazviri. Uye\\nzuva iri ndakaita kurara ndine mufaro\\nvakaita kuzadzwa mumoyo ndaiti baba\\nava vakaura rwendo runo. Chakandinetsa\\nndichekuti kwaiva kwava kuma past 8\\ndzema nheru apo murume wangu akangoti\\narikunzwa mudumbu. Akabuda achiita\\nkumhanya achienda kutoilet. Ini\\nnechemumoyo ndakangoti tichaona\\nkuchawira tsvimbo nedohwe. Nokuti zvinhu\\nzvako zvese zvava padhuze uye tichaona\\nkuti kana waenda uku vana ava uchavaona\\nsei. Uchazongonzwa kuti ava makuva\\nchete.\\n\\nNokuti zvandiri kuronga hazvifi zvakaenda\\nmudondo zvamuchose. Kubuda kwaakaita\\nndakasara ndikarara, asi munhu haana\\nkudzoka sezvakandinetsa. Kuti iwo\\nmudumbu umu! mudumbu rudzii unoita\\nkuti munhu aite gore rose ari kuchimbuzi.\\nAsingadzoki ndakafunga kuti pamwe\\naenda kuno rara muroom mai rara Tapiwa.\\nNdakatarisa muimba mairara Tapiwa\\nndikaona hamuna, muimba yekubikira\\nhamuna. Ndakaenda kutoilet ndakawana\\nmusina kana munhu zvachose.\\nNemataigezera makanga musina munhu.\\nIzvi zvakaita kuti ndirohwe nehana nokuti\\nchingava chiri chii chaitika ichi.\\nNdakadzokera kuno rara ndakanga\\nndisisina kugadzikana mupfungwa\\ndzangu. Nokuti ndakanga ndichida kuziva\\nmunhu aiwa  arikupi. Nokuti, rwendo rwake\\ntaiva tamugadzirira kuti, akwanise\\nkufamba zvakanaka. Asi ichi chaitika\\nhandichazivi kuti chaiva chava chii.\\nNdakasvika pakubatwa nehope ndikarara\\nkunze kuchiedza ndakaenda kuno sangana\\nnemurume uyu. Wandakanga\\nndichifanirwa kusangana naye ipapo\\nndakashamisika kunzwa kuti, atadza kuita\\nzvanda kanga ndamutuma. Zvinova\\nzvakandirwadza zvisingaiti nokuti,\\nndakanga ndisina kutarisira zvakadai.\\nNdakaita kubaikana chaiko, asi ndakati\\nhazvinetsi. Ndakamuudza kuti, \"horaiti\\nsezvo iwe zvawatadza wakatadza\\nkumuteera here? Zvawakaona kuti,\\naperekedzwa nemudzimai waSabhuku?.\\nNokuti mudzimai waSabhuku handioni\\nanedhiri nokuti arikutoedza kuvanyengerera\\nkuitira kuti tikwanise kupinda mavari. Uye\\nhandioni pane chakaipa wakatadza\\nkuvateera kumba kwavo here?\\nUkaita izvozvo nokuti ndinofanirwa kuita\\nzvinhu izvi nekukurumbidza pasina\\ndambudziko.\"\\n\\n\"Nokuti simbi inorohwa ichapisa. Ukada\\nkuzoirova yatonhora zvinhu zvinoenda\\nmudondo.\" Ndakadaro ndikanzwa avakuti\\n\"Mai Tapiwa\" handidi kukunyeperai,\\nndaedza zvose zvandinokwanise kusvika\\npamba apa asi ndapererwa. Nokuti\\nzvandaona zvacho kuti ndikuudzei muno\\nkwanisa kuzviramba. Ndaona murume\\nwenyu akarara padoor kuti, ndipinde\\nzvakanga zvisingaiti. Nokuti zvaizotora\\nkunetsa ayizondiona ndiri mukati ndozoita\\nsei. Zvamati murume wenyu nhasi\\nanerwendo hazvina hazvo kuipa nokuti\\nndiro zuva randichaona kuti ndingaite sei,\\nkana ndichinge ndapedza kuita\\nzvandinenge ndaita hazvinetsi imba yavari\\nkugara iyi. Ndiye huswa ndinosiya\\nndavapisira mukati  zvose zvofamba\\nzvakanaka. Hapana kana anofungira kana\\nSabhuku chaivo havafungiri. Nokuti\\nSabhuku chaivo ndakanzwa kuti vana ava\\nvakaramba kugara kumba kwaSabhuku.\\nZvinova zvakavanetsa uye manheru\\nvakanga vaenda kunotaura neumwe\\nmupurisa wedu uyu asina zvinobatsira uyu.\\nUye ishamwari yangu. Ndiye andiudza kuti\\nachauyiswa kuti ange achiongorora vana\\nava kuti hapana  ari kuvatambudza here?.\\nNdiye arikuita nyaya yekuti\\nvasashungurudzwe. Uye mumwe munhu\\nanofanirwa kuti adzikamiswe ndiSabhuku.\\nHongu! toziva kuti anofarira doro, asi\\nanofanirwa kudzikamiswa kuma shops\\nkwaanoenda uku. Kungotenga doro kana\\nkumupfuudza kumuisira muchetura\\nmudoro. Zvinenge zvakanaka kuitira kuti\\nmadhiri edu abve asununguka. Nokuti\\ntikatadza kupfuudza Sabhuku hapana\\nzvatinenge tichiita. Murume wenyu baba\\nTapiwa hapachisina zviripo nokuti\\nvakangobvuma chete kuenda zvinenge\\nzvava munzira yakanaka. Uye handifungi\\nkuti mai Sabhuku vakataura nezvazvo kuti\\nndizvo zvakanga zvichida kuitwa mwana\\nizvi.\"\\n\\nKutaura kwemurume uyu ndakaona kuti\\nakanga achirevesa. Ndakati iwe ita\\nzvingakwanisa kuita. Asi kuti upisire vana\\nava mumba hazvingaiti nokuti vanogona\\nkufungira isu vanhu. Nokuti dhiri iri ndini\\nchete ndiri kuri ziva hakuna mumwe ari\\nkuriziva kunze kwako iwe neni chete. Uye\\nkana ari murume wangu hazvinetsi\\nndichatamba naye kusvika zvanaka.\\n\\nNdakadaro ndika kuparadzana\\nkwandakaita.\\n\\nIni ndakadzoka kumba ndakasvika\\nndichiona baba Tapiwa varipo. Handina\\nkutaura ndakango bvunza kuti. \"Ko, nayi\\nmurume wangu? wakarara kupi manheru.\"\\nHaana kutaura akangoti akanga aenda\\nkunooneka vana uye akatadza kudzoka\\nkumba. Nokuti nguva dzaiva dzaenda\\nakasarudza kuvata ikoko. Ndakangoti\\nnechemumoyo ndakati  unofunga kuti inini\\nndini ndino bvuma kunyeperwa here? Ini\\nndichiziva  ndava kuziva chokwadii chese.\\nChiri kuitika pauri, nhasi ndiro zuva rako\\nrekupedzisira kuonana nevana ava.\\n\\nMurume wangu akatora bag rake.\\nNdokubuda pamba akaoneka zvakanaka\\nuye akasiya ati \"Tapiwa ndiri kudzoka\\nmwana wangu uye handisi kutora nguva.\\nNdinovimba kuti ndichagara ikoko mazuva\\nmaviri ndodzoka kwamuri kuno. Handisi\\nkutora nguva yakareba kugarako.\"\\n\\nAkadaro murume wangu achitora bag rake\\nndakada kumuperekedza asi akaramba.\\nKubuda kwaakaita pamba handina kuona\\nkuti akafamba sei. Uye ndakafonera\\nmukomana uya ndikati izvezvi unofanirwa\\nkuchirinda mwanasikana uyu. Asi\\nndakashamisika kunzwa achitaura kuti\\nJessica nevana vamai vake kutaura\\nkwandiri kuita kudai handisi kuvaona. Uye\\nndakapedzisira kuvaona vachiperekedza\\nmurume wenyu. Baba Tapiwa handizivi\\nkuti vaenda kupi. Nokuti vakanga\\nvakatakura mabag akawanda handizivi\\nkuti, mabag avaiva vakatakura akawanda\\nvangava vaenda kupi.\\n\\nIzvi zvakaita kuti ndipererwe. Hapana kuita\\nnguva ndakaona murume wangu adzoka.\\nAsina bag akazara madhaka akati iye\\nakanga asangana netsaona. Uye akwanisa\\nkubuda asi paarohwa pacho atadza kuona\\nkuti vana vanga vachimuperekedza kuti\\nvafamba sei? Uye haana kukwanisa kuona\\nkuti vari kupi. Izvi zvakandinetsa kuti,\\nmurume uyu angadai ateera vana ava.\\nZvakandinetsa chaiko nekudya moyo\\nwangu. Zvekuti ndakasvika paku..\\n\\nEn\\n\\n\\n\\n\\n   VaMujakari vakasvikopinda ndokugara\\nparukukwe rwaive munhasi mechoto kwave\\nkukwazisa vaeni vavo zvakanaka naka.\\nZvekukwazisana zvapera, mumba makamboita\\nrunyararo kwekanguva ivo ndokuzodzima\\nrunyararo irworwo vamene. “Ko, kwakanaka\\nhere kwamauya muchipumha dova nhai baba\\nTamuka?”\\n   Baba Tamuka vakaombera maoko\\nvakazvityora kwavo nekuti vaiziva chembere iyi\\nisiri yokutsunya nerurimi. “Amai muchiona\\ntauya kudai, kudhorobha hakuna kumira\\nzvakanaka …”\\n   “Seizve?” VaMujakari vakadaro vachirova\\nmhino yavo nemunwe wekasiyamwa.\\n   “Baba Taida varwara, izvozvi tavasiya\\nkuchipatara…”\\n   “Baba Taida ndiani?”\\n   Baba Tamuka vakapeka peka kuvamwe vavo\\nvavakanga vauya navo vachiratidza\\nkukatyamara kwazvo. Vakazotarisa kumwene\\nwomubvunzo ndokupindura vachiti, “Ndinoreva\\nCharles amai, marivara zita romuzukuru su?”\\n   VaMujakari vakatanga vakekedza setseketsa\\nndokuti, “Ndichimuziviswa nani? Iye mukadzi\\nwake handiti ndiko kutouya ikoku? Anomboda\\nzvekuno here? Mwana wamunoreva\\ntinongonzwa neware sezvimbambaira\\nzvemaputukezi asi hatati tamuona wo isu,”\\npakarepo vakasusumha mutsipa vachisomha\\nkumusana kwaSekai. “Heya, ndiye akaberekwa\\nuyu?”\\n   “Ndiyeyu amai,” Sekai ndiye akadavira zvino.\\n   “Hooo, aiwa zvanaka tamuona wo zvedu, ko,\\nisu vana Nyunyu tinozoratidzwa mwana rave\\ngondora ka, usiri ihwo hurwere hwamauya\\nnahwo maiti taizomuona kudai? Tave muguva\\npada.”\\n   Kutaura kwaVaMujakari kwakashamisa Sekai\\nzvakanyanya sezvo aiziva kuti ivo ndivo vaive\\nvakaramba kuona mwana kana kuita\\nmhemberero dzokufarira kuberekwa kwake.\\nHunzi kugarisana huzivana, pane zvose\\nzvaaipomerwa naamwene vake, akaramba\\nanyerere, hakuna kana chimwechete\\nchaakapindura, akazviidza rema. \\n   “Ndine hurombo amai nezvingadai zvakaitika\\nkumashure, iye zvino dai mabatsira muroora\\nwenyu padambudziko iri, Chiremba atipa zuva\\nrimwe bedzi, ati urwere hwacho hausi\\nhwemuchipatara naizvozvo apa kurudziro\\nyokuti kana zvakwanisika, hama ngadzifambe\\nnaye, zvichida angawana rubatsiro kuchivanhu.\\nIyi ndiyo nyaya yatisvitsa pano rupumhadova\\nsekureva kwamaita. Ndapota amai, tsvakai\\nmoyo wokuregerera tiite chipatakamwe.”\\n   “Ndakunzwa zvangu baba Tamuka asi\\nzvinondishamisa kuti munhu akabva zuro pano\\nanga arwara nguvai? Handiti akasimuka pano\\nzvitsvene tsvene achiti aida kurara ave kumba\\nkuitira kuenda kubasa?” Vakatarira kwaive\\nnemuroora wavo ndokubvunza. “Nhai Sekai,\\nchii chaitika kune mumwe wako? Arwarei\\nmunhu abva pano ruriramakava achiti\\nomhanyira kubasa?”\\n   “Zvinoratidza kuti zvavakabva kuno havana\\nkupinda mumba nokuti ini chaiye ndini\\nnyakuvaona mambakwedza vakati kwasvata\\npamusiwo,” baba Tamuka vakakasira kudavira.\\n“Ndakambofunga kuti zvimwe vakarohwa\\nnezvinhu…”\\n   “Zvaani imo mudhorobheni?” VaMujakari\\nvakadaro vachirovanisa huni muchoto. “Ndaiti\\nndezvekuno kuruzevha bedzi ka ini, bva regai\\nndigadzirire, ndiende nemi, ndikachengeta\\nchigumbu, ndingapumhwa uroyi naVaNhakata.\\n”\\n   Kutaura kwavakaita VaMujakari, vakabva\\nvasimuka ndiye kweda panze apo vakabva\\nvasangana naTambudzai naMavis vachibva\\nkutsime. Havana kuita nguva navo,\\nvakangozivisa Tambudzai kuti akurumbidze\\nkugadzirira nokuti vaida kuenda pamwechete\\nnaye.\\n   Ivo vasikana vakati vapedza kukwazisa vaeni,\\nvakabva vaita mupitipiti, kuchiti Tambudzai\\nkugadzirira zverwendo, uyu Mavis achishenaira\\npachoto kudziisa munya pamwe nekubika\\nmuriwo wechomoriya wavakanga vabva nawo\\nkubindu. Zvose izvi zvakaitwa makare muimba\\nyokubikira maive mugere vaeni. Mavis\\nachipedza kugadzira zvokudya, VaMujakari\\nvakabva vapindamo vatopedza zvose\\nzverwendo, izvozvo vaive vapfeka rokwe\\nremavara ehanga, mumusoro vaturika bhareta\\ndema, mutsoka vakanga vakakwava tenisi\\nyetomi.\\n   “Ko, nhai Mavis, wagodziisa munya koga, ko,\\nwati vaeni votsunyawo iwoyu? Iye zvi ndanga\\nndichiti uri kukubvura sadza remunhu wose zve\\nini.”\\n   “Kwete amai, regai zvenyu, takaguta isu,\\ntauya tadya,” vakanyepa zvavo baba Tamuka.\\n   “Zvino mugoti masvika pamusha paamai\\npachii kana muchibva musina kumbotiwo\\ntsunyei mundiro kana kutsamhura muriwo\\nzvako?” Vakadaro vave kutoshamba maoko\\nvagere parupasa rwavo. “Chiregai ndiite\\nzvekukurumbidza, meso enyu anondiudza kuti\\nndakunonokerai kwazvo. Zvinodaro sezvo muri\\nimi mune pikicha yezvamasiya Charisi akaita,\\nTambudzai ndiye achatinonotsa nekuda\\nkupoda poda kwake, anozvitarisa pagirazi\\nsezvinonzi ari kunoonana naKwini Eriza\\nweBhiriteni.”\\n   Chiri chokwadiwo, Tambudzai haana kuzodya\\nnekuti panguva yaakauya muimba yokubikira\\nmaive navamwe, amai vake vainge\\nvachangopedza kudya ndokumuudza kuti\\npakanga pachisina nguva yokutamba nayo.\\nChipi chipi, vakapinda mumotokari ndiye hutu\\nvakadziva kuMadokero.\\n   Nekuda kwekuti motokari yakambovafira\\nmunzira, vakazosvika muKaroi na1\\ndzemasikati. Vachingoti godi pagedhi\\nrechipatara, Chiremba uyo akanga ave kuenda\\nkumba kwake kunodya akabva avadana nezwi\\nrepamusoro soro uku achivaninira neruoko\\nkuratidza kuti akanga akarindira kusvika kwavo\\nnemeso akatsvuka.\\n   “Nditeverei,” akadaro Chiremba pasina kana\\nkukwazisana, izvozvo aiita kukanda nhanho\\nakananga kuimba yevarwere vakanyanyisa.\\n“Amai varipo pakati penyu apa ka?”\\n   “Hongu Chiremba,” baba Tamuka ndivo\\nvakadavira. “Ndivo vari shure avo.”\\n   “Amai maita zvakanaka kuuya,” Chiremba\\nakadaro pasina kana kucheuka. “Ndinodavira\\nkuti zvizhinji maudzwa nechekare. Ndapota\\nzvangu, torai mukomana mufambe naye,\\nneniwo ndakakurira muvanhu, ndinoziva\\npanogumira mishonga yedu yechirumbi iyi.”\\n   “Ndinokutenda mwanangu, nhasi chaiye\\nhatirari pamba,” VaMujakari vakadaro\\nvachinzunzutira vakabereka maoko kumusana.\\n“Rinodoka ndawa pamuzinda waMapipi,\\nchitopota chinoshura mare, ikoko hakuna\\nchinokonekwa kana zvapo.”\\n   Vapinda muimba yairapirwa Charles,\\nChiremba akavatungamirira pamubhedha\\npaaive. Ainge arere akatarira mudenga, pasina\\nkuzungunuka kana kubwaira, akanga akangoti\\nkwasva rurimi sembwa yadzimba tsvana.\\nKutaridzika kwake kwakaita kuti vose vasvimhe\\nmisodzi.\\n   “Maona zvandanga ndichireva ka amai?”\\nChiremba akadaro meso ari pachiso\\nchaCharles.\\n   VaMujakari pane kuti vadavire zvavakanga\\nvabvunzwa, vakangobubudza maoko avo\\nndokuti, “Mwanangu Charisi, amai vako ndauya\\nkuzokutora kuti ndikurapise nenzira yedu\\nyechivanhu.”\\n   Vakadzokorodza mashoko iwayo katatu.\\nZvino vakati vachipedza kutaura ketatu, vose\\nvakashamiswa kuona Charles obwaira bwaira\\nnekubva amedza mate ndiye koso koso.\\nHapana akati bufu, vose vaingoonekwa\\nnekungurungudza pamwe nekupeterana meso\\nkusara kwaTambudzai uyo\\naingunonyemwerera zvake akaringa hanzvadzi\\nyake. Nguva yakareyo ndiyo yakasvika Makina,\\nakapindamo achiita kutumhuka sebhiza rabva\\nmukumhanya.\\n   “Ko, zvadiizve nhai mai Taida?” Akadaro\\nachipfekera nemukati mavamwe kuti aswedere\\npedyo.\\n   “Mumwe wenyu akangoti achidzoka…” Sekai\\nhaana kuzopedzisa mashoko Ake aganhurwa\\nnaVaMujakari.\\n   “Iwe! Iwe Sekai! Heya, marangana kuti muuye\\nkuzopemberera kufa kwemwana wangu nhai?\\nUnoti handizivi kuti iwe naMakina wako muri\\nnzenza? Iye dumbuzenene uyu anonyepera\\nushamwari uku achitanha chinga muhova\\ndzake. Ptuuu! Ndasvipa ini, nyasire, mapurwa\\navanhu…”\\n   “Amai mungandidaro chokwadi? Charles\\nndichimuona somunun’una wangu chaiye,\\nmadirei kudzimbira moyo wangu muchidaro?\\nZvisinei hazvo nezvipomero zvamunondizora,\\nchiregai ndimuonewo nekunzwa\\nchamurwadza…”\\n   “Hamba! Ndati buda muno, nhudza yomunhu.\\nHamba wena, out!” Vakapedzisira kudaro\\nvomusairira pamwe nekumudinhidza\\nkumusana nezvibhakera zvaibva patwuoko\\ntwainge mbariro.\\n   “Amai mungadaro mwana achirwara\\nzvakadai? Ndinoziva kuti kurwara\\nkwemukomana kwakushunhai zvakanyanya asi\\ndai machirega zvizhinji matarisa…”\\n   “Handidi kumuona munhu uyu Dhokota, ndati\\nnadha! Handidi zvangu kana nepaduku,\\nangapatisa iye Charisi kwete ini Jurieti Marwei\\nKufakwembwa, handipatiswi neshiye dzakadai\\nini. Ngaabude, handidi kumuona mumeso angu\\nzvekare, kana mati agare ini ndini ndochienda\\nzvangu,” vakapedzisira kudaro vodhanaira\\nvakatarira kumusiwo.\\n   “Kwete amai, zvaabuda wani. Chiregai aende\\nzvake, imi mungagoenda sei muri imi\\nwandanga ndakamirira nguva dzose idzi?\\nChirongai zvekuti mutakure mwana mufambe\\nkuchiri kuchena sekubvumirana kwataita.\\nNdinozofara zvakanyanya kana modzoka pano\\nmuchindiudza kuti mukomana anaya kana\\nkumuona achizvifambira amene,” Chiremba\\nakadaro akatarisa VaMujakari nemeso azere\\nkuzvirereka.\\n   Tambudzai akavanhanhukira ndokudzoka\\nnavo achivasesedza. “Amai musarasiswe\\nchinangwa chedu chokuuya kuno, muregei\\nMakina atoenda kare. Imi chiitai kuti titore\\nCherles sezvarehwa naChiremba. Tarirai baba\\nTamuka vari pano kuti vatibatsire, ngatichiregai\\nkuita kuti vaore moyo, kana iye Charles handiti\\nmunoona kuti abwaira pamasvika pedo,\\nzvichireva kukosha kwamakaita?”\\naba Tamuka vakadzoka vadungamidzana\\nnemudzimai wavo pamwe nedangwe ravo\\nTamuka aive mukomana wefomu yetatu.\\nKuuya kwakaita vatatu ava, akabva asimudza\\nmwana wake ndiye bo kumusana, pafudzi\\nakapakatira bhegi raive nembatya dzemwana\\nava varume vaviri ndokubatsirana kutakura\\nCharles vomuisa mumotokari.\\n   “Nhaimi, ko chave chii zvekare ichi?” Ava\\nndaamai Tamuka vakadaro apo vainge\\nvotevera mushure meava vakanga vakatakura\\nmurwere. “Baba Taida, varware zvekudai,\\nzvauya sei? Iye munhu watinoziva\\nakazvisimbira mazuva ose aya?”\\n   “Ndiri kutozvishaya ini amai Tamuka.\\nVakabva kubasa nezuro kwave kupfuurira\\nkuenda kumusha vachiti vanoronga nyaya\\nyatete Mavy vari kuda kuroorwa,” akataura\\nmashoko okupedzisira nekusada kufukura\\nhapwa.\\n   “Handei zvedu kuchipatara asi ini ndiri kuona\\nzviri zvechivanhu izvi, kana baba Tamuka\\nndavadaro pavauya vachindiudza marwarire\\nacho.”\\n   Vakashandisa Peugeot 504 yababa Tamuka,\\nvakagoti voitsika zvekuratidza kuti vaive\\nvanonokerwa. Havana kutora nguva kuti\\nvasvike pachipatara, vakatambirwawo\\nzvakanaka kwazvo nanamukoti. Vakaita wo\\nrombo rakanaka kuwana Chiremba\\nachangopinda kuti aone varwere vaive\\nvakapiwa mibhedha.\\n   Chiremba achiona murwere mutsva uyu,\\nakambosiya vamwe vose ndokubatsira iyeye.\\nAva vakanga vauya naye, vakamboburitswa\\nmuimba yaaiongororwa, vaingoona vanamukoti\\nvachiita bindawapinda makare mo, kwaive\\nkukwidza nekudzika, kudzika nekukwidza.\\nMaitiro aiita vanasikana ava airatidza kuti vaive\\nnechido nebasa ravo zvikuru, kupikira nechido\\nchokubatsira ruzhinji kwete nekuda muripo\\nkoga.\\n   Sekai nevavakidzani vake vaive vamire panze\\nmu\\n\\n\\n'"
      ]
     },
     "execution_count": 3,
     "metadata": {},
     "output_type": "execute_result"
    }
   ],
   "source": [
    "shona_text"
   ]
  },
  {
   "cell_type": "code",
   "execution_count": null,
   "id": "8ab0IugcGqi5",
   "metadata": {
    "colab": {
     "base_uri": "https://localhost:8080/"
    },
    "id": "8ab0IugcGqi5",
    "outputId": "3b422474-d8b2-483e-da7b-f6a75b6a43a6"
   },
   "outputs": [
    {
     "name": "stdout",
     "output_type": "stream",
     "text": [
      "“Mwanangu ndiri kufara zvikuru kuona wave kukwanisa kudya sadza woga kudai, izvi zvinoratidza kuti wanaya, upenyu hwadzoka kwauri. Mapipi, akashanda basa guru kwazvo, ndinotoshaya kuti ndomutenda nei. Ndakanga ndarasikirwa newe, mwanakomana wangu, baba vangu, chireramhuri. Chokwadi, ndanga ndopishana mupfungwa kuti ko, ndakatadzei ko kunaSamatenga, ndepapi pandakaposhera vadzimu vokwangu nevekwako. “Zvandakabva kuno ndichiti ndoenda seri kwechikomo, kunaPiriviri, ndakaerera nzira yose misodzi iri pamatama, vaipesana neni vaikahadzika zvakanyanya asi vachityira kure kubvunza chikonzero, vashoma vaive nezvivindi ndivo vairovera moyo yavo pamabwe kwave kubvunza. Ipapo handaivanza kwete, ndaivaudza kuti ndasiya mwanakomana wangu arere parupasa, achitandaza kwazvo. Ko, ndaigovanzei izvo zvichinzi bundu rako woga nderiri mumoyo, repaziso unosvinwa navamwe? “Chiona zvino nenji randakasvikosanganidzana naro kwaMapipi? Ndichiri chinhambwe toriro, ndakaona achiita kuhwitaira nekunyuruka akananga kwandiri. Izvozvo ziso raive rakanzi dhee sere chidhambakura. Ndakatombotya ndikati, hezvo, zvandichabvamburwa nen’anga iyi. Ave pedyo neni akatanga kuhukura achireva mashoko aiganhuka ganhuka asi achinzikwa zvawo…” “Munoreva kuti makaenda moga kuna Piriviri amai?” Charles akabvunza achitsenga nyama yehanga yakagochwa, izvozvo aive akakomba chikomo chesadza, ziya rati teu kuratidza kuti akanga ari garira nzara yamukohomesa. VaMujakari vakabubudza maoko ndokuridza rutsamwa vachitarira divi. Vakamboita nguva vakatsveyamisa musoro saizvozvo, vakazotarira kumwanakomana wavo ndokutaura vachiti, “Ndakaenda ndoga ini, wati kana waringana nemadzudzo uchange wotya zvekare? Vakuru vakati, kana wasasikwa hauchatyi kununa, vakareva nekuziva ipapo. Ndakabva pano pamba rusvisvisvi ndiye kabu munzira munhindo yaityisa kukunda mhondoro, ” “Ko, mai Taida nanaTambudzai vakasarirei?” Zvevana vaduku zvingatevedzwa? Pandakamuka, vaive vakafa nehope kuti rororo ndokuvamutsa wanei vose vati gogogo, ndoudzwa kuti, amai kuchakasviba uku. Ipapo ndakabva ndati sarai zvenyu, mwana unorwara ndewangu. Zvisinei hazvo, izvi usaita basa nazvo, chakakosha kuti wararama, izvozvo bedzi ndizvo zvandatarirana nazvo zvino. Chimwe chandinoda kuti uzive ndizvo ndakanzwa kwaMapipi. Gara paya ndanga ndaperera pokuti kudii?” Mashoko okuti amai vake vaive vaenda voga kuhakata akamutsamwisa zvikuru zvikapa kuti abve aguta pakarepo, akageza mako ndokusaidzira ndiro kure. “Magumisira pokuti Mapipi akakutambirai muchiri kure…” “Ehunde, ndizvozvo chaizvo,” vakadaro ndokunyemwerera vachisiya pachena meno ainge enhika. “Mashoko aakataura anditambira saizvozvo akandityisa zvikuru…” “Akati kudii? Akataura chakandirwarisa here?” VaMujakari vakaguguna huma ndokuringa pasi kwekanguva kwave kuzosimudza musoro pava paya. “Hongu ndainzwa zvangu kuti murume uyu inyanzvi pamashopeshope asi handina kuziva kuti kusvika pakadaro. Ndikakuudza kuti akandidana nezita rokuberekwa naro ungazvibvuma? Ave pedyo neni akakwiruka achiti, ko, nhaiwe Marwei zvoworega mwana achimonyororwa mutsiba sehuku yomusvuvu ndiko kungwara here ikoko? Pandakati ndishamise muromo kuti ndibvunze zvaaireva akabva andiganhura achiti, ko inga nyoka waisiya yakati mone mugudza…” “Ndiko kuti kudii ikoko?” Charles akanga achakabatwa nerima, pasina chiedza chaaiona pamashoko aamai vake. “Neniwo ndakashaya shumo yazvo pakuvamba asi paakadzokorodza akabva adudza achinge airondedzera. Akazotaura zvizhinji amira mberi kwangu kuti zute, haana kana kunditendera kusvika pamusasa wake. Hunzi, vanhu vaviri avo vanopatisa mwana wako hauvaoni? Ivavo ndivo vakaruka zano rokupfuudza mwanakomana wako kuti ivo vasare vachisasana zvavo nekuti rudo rwavo rwakomba sebudzi rembeu. Akabva anditi ringa mukati mechanza changu ichi uone vanhu vandinoreva, handina kunonoka ndakabva ndaita sokureva kwake pekare pekare.” Charles akakahadzika kwazvo nekutaura kwakadai. “Aiedza kureva kuti chii nemashoko aya uye makaona ani muchanza make zvaakati uyai muone vanhu vacho?” VaMujakari vakambogegedera kuseka ndokuzopedzisira nekachikwee kakatetepera. “Mwanangu, kana vakuru vachireva zviya, chimboteya nzeve, inga vekare vakareva kuti mukuru mukuru hanga haigari pfunde uye muromo wevakuru hauwiri pasi? Rega ndisarove imbwa ndakaviga mupinyi, Makina naSekai ndivo vanhu vakabatwa kuhakata…” Charles akasvetuka kubva pachigaro ndokusvikoti kwati nemadziro akavhura romo seshuramurove yadzipwa nezimhashumuroyi. Akamboita nguva akadaro ndokuzobvunza achiti, “Zvanzi Sekai naMakina vadii nhai amai? Ipapo handina kunyatsopabata ini.” “Ndivo zve vakatsvaga bvungairo rinova ravakakuteya naro kuti apo paunenge wauya kuno ribve rakutibvura pamoyo vanhu vagoti ndini ndakakuroya. Chinangwa chavo kuda kukupfuudza nekuti vanoda kuti vagosara vachisasana pamwe nekutora imba yako. Kuwedzera kundibaya pamoyo nenhudziro dzake akatizve kana naiye mwana uyo haasi…” “Kwete amai, chimirai ipapo!” Akaganduka Charles. “Uko kwamave kuenda hakuchaiti, ndapota zvangu, chiregai amai. Zvandanzwa zvakwana, chindisiyai ndakadaro. Makaita basa nekuita kuti ndirarame, handizivi zvamakapiwa ikoko kuti mundirape nazvo asi ndinotenda. Zvandave kunzwa zvakanaka kudai mushure memazuva mashoma ndichadzokera kuKaroi…” “Iwo mushonga waakakupa wakabva kure kure kusingasviki dzedu tsoka. Dai pasina muturura une ukasha wandakapiwa naMapipi kuti ugonwa uri mumaheu wati wairarama here? Izvozvi Sekai ave nemazuva maviri adzokera kuKaroi achiti anombonotarisa kumba kuti kwakadii, aripi nazvino? Kutarisa imba kuti yakadii kungada vhiki yose? Hauoni vari kutopurana nemudiwa wake kuti zvawararama kudai, vochiita ripi zano?” Charles haana kuzopindura, akaramba anyerere zvake sematsi, aona kuti vakanga vachisina mashoko, akawoneka ndokutora mugomo wokudiridzisa bindu ndiye kwitu. Ave panze akadana muzukuru wake Solomon ndokubata vodzika zasi, kurwizi Mwami. Ava VaMujakari vakasara vachikosora kosora pamwe nekugeza huro kasingagumi. Manheru emusi iwoyo Sekai akadzoka kubva kuKaroi, murume wake akamutambira nemufaro wemisi yose, mashoko aakanga anzwa masikati acho naamai vake haana kumusudurutsa paari. Kana ari Taida akabva arambira muruoko rwake sechiringazuva. VaMujakari nevanasikana vavo ndivo vasina kushanduka pamuitiro wavo wokumuratidza ruvengo, iyewo haana kuita hany’a nazvo, zvakanga zvava muropa. Kupera kwemazuva matatu kubva zvadzoka Sekai, Charles akawoneka amai vake ndokudzokera kumba nemhuri yake, iye zvino akanga anyatsosimba, nyama dzadzokedzana. Semunhu akanga afadzwa nekurapiswa kwaakanga aitwa naamai vake, akatorawo Mavis ndokudzokera naye kuti anopedzisa atachimendi chinova chinhu chakafadza VaMujakari zvikuru. Zuva rakatevera rakare raasvika muKaroi umo akanga abva vhiki mbiri dzakanga dzapfuura, oenda kubasa akapfuura nekukanzuru uko akasvikoteterera kuvakuru vepo kuti vatendere hanzvadzi yake kupedzisa atachimendi. Chikumbiro chake chakazotambirwa mushure mokuzvidemba kwenguva refu, vavariro yaive yokufadza amai vake. Akazopfuurira kwake achisiya Mavis atogara muhosi, izvozvo zvakamupa kuenda akasimudzira mafudzi sezvinongoita vazhinji kana vakwanisa kubata basa rinorema. Kwapera mwedzi mitatu kubva zvaadzoka muKaroi, Mavis akapedza atachimendi ndokubva adzokera kumusha, iye zvino akanga agara zvakanaka pasina misikanzwa asi naamaiguru vake pakanga pasina nyaya kana mamuka sei zvayo, yaingove njake njake. Kuenda kwake kwakaita kuti Sekai asare achitura befu sezvinonzi akanga ari mutirongo yeKhami. Hongu, Sekai ainge ati azorora nekuenda kwatete vake asi mufaro wake hauna kudzoka wose nekuda kwetsika yakanga yoitwa naCharles, akanga achisiri uya wemisi yose. Iye zvino akanga odzoka pamba usiku, achisvikopinda mumachira asina kudya, kuti abvunze hakuna aimudavira. Kuita ikoko kwakazokwidza mutarara rimwe reiwayo mazuva apo Charles akadzoka akararadza, chinova chinhu chaakanga asati amboita kubva zvaamuziva. Sekai akashushikana kwazvo musi uyu, dzimwe pfungwa dzakamuti siya zvakadaro, ungazvidenhera mago asi dzimwe dzakapokana dzichiti, ko, rudo rwacho rukagova rwupi? Sadza raakanga asiya neusavi hwehove dzakapiswa mumafuta harina kubatwa, hombarume yakangosvikoti pfee mumachira ndiye ngo ngo ngo, wanike yopwatitsa ngonono kari kekutanga. Sekai akabva muimba yokutandarira maakanga achisvusvudzira mwana kuti arare ndokusvikorova rova Charles nembama kumusana asi rume harina kumuka, rakatowedzera kukuya ngonono. Akatozoita zvekubata nesimba achimuzungunutsa. Zvaaifungira handizvo zvakazoitika, Charles akangoti fugu gudza ndokubva amuka mbama yakamunanga padama. “Uri kundimutsirei pfambi iwe?” Charles akakwiruka akadzvondora ziso dzvuku kuna Sekai.󱜳 **Zimbabwe Shona N... 󰟝 󱘈 󱤙 󱡓 **Zimbabwe Shona Novels** 󱙺 Public group 󰞋 K members 󱤃 Invite Videos Announcements Events Write something... 󰘄 󰞒 Video Most relevant SORT Edmore Gwanzura Edmore Gwanzura h󰞋󰟡 󰟝 TAIDA Edmore Gwanzura (Prof G) + Chitsauko “Mwanangu ndiri kufara zvikuru ku...see more 󰤥 󰤦 󰤧 Write a comment... Manasseh Nyamukondiwa Manasseh Nyamukondiwa►**Zimbabwe Shona Novels** h󰞋󰟡 󰟝 Patrick stories Patrick stories h󰞋󰟡 *\"ZVAMATISIYA\"* STORY CREATED BY PATRICK STORIES. + CHAPTER MAI TRISH zvakauya mumusoro mangu zvaiva zvakawanda kuburikidza nezvakanga zvaitika kuna Jessica manheru aya. Ndakatadza kana kuzvidzora mushure mekuzvirangarira kuita kuona kari kavision kaiva kachiitika kusvika pakubudisa misodzi zvokuti ndakasvika kakudzamisa pfungwa nendangariro pamwe chete. \" Kuti! Baba Trish vanechekuita nezvaitika izvi here? Why vasipo pano pamba ini ndavasiya varipo vangadai vaenda kupi? Mari yavarikunzi vakaonekwa vachitambidzwa nababa Kelly yaiva yei.\" Zvese izvi zvakanga zvichiuya mukati mepfungwa dzangu zvekuti handina kuona vakasvika nguvai ini. Ndakaona mutsoka mavo musina shangu zvakandinetsa. Ipapo ndakatanga kupukuta misodzi nokuti ndakanga ndisingade vazive zvaiva zvaitika kuna Jessica. Ndakanzwa murume wangu ava kundibvunza.. \"Kwavabva kwakanaka here kunoita usvike nekuchema kudai? Ndiani afa zvaunochema kudai Mai Trish.\" Ini kuti ndivaudze zvakanga zvisingakwanisike nokuti zvinhu izvi maitikiro azvo anondirwadza uye kuona murume vangu arimo munyaya idzi. \"Baba Trish! Murikubva kupi manheru ano aya musina bhutsu mugumbo.\" Apa ndaiva ndazvipira kubvunza. Ko, kwaiva kusiri kufa ndekupi nokuti hapana kwaiva kusiri kufa zvose zvakanga zvakangofanana chete.. \"Haunganzwisisa mudzimai kana ndikakuudza nezvazvo kwandanga ndiri. Unoona ndanga ndaenda kunoona kamupurisa ako kuitira zvinonetsa mangwana nevana ava uye kuramba kwaita Jessica kugara pano kwatibatsira kubva mumamwe matambudziko edu atinosangana nawo.\" Kutaura kwavo kwakaita ndirambe ndakanyarara ndikati ndichavabvunza Mangwana kwakachena. Ndakapinda mumba nekupinda mumagumbeze ndokutorara hope chaidzo. Kunze kuchienda ndaifanirwa kunosangana naBaba Tapiwa tichionesana tingaite sei tikwanise kubvisa vana ava munhara unda iyi. Ndakasangana nawo tikakuru kura ndokuona zvakakodzera kuvaendesa kwaiva nemunin'ina wangu Tambudzai akanga achishanda paMutoko. Taifanirwa kuvakwidza bhazi kuti azovagarire.. Ini handina kukwanisa kuperekedza ndakadzokera kumba ndiri munzira ndakasangana nevakomana vatatu avo vakati.. \"Mhamha makadii zvenyu? Tinokumbirawo kubvunza tinoda kuona musikana anonzi Jessica akafirwa nevabereki vake ini ndinoitwa Brendon, uyu umwe anonzi Tofi, asi zita rake anonzi Tofirei zvake... Koita uyu anoitwa Pardon.\" Akadaro mukomana umwe akanga ari pedyo neni aiwa achiputa mbanje yake iyo yakandikanganisa ndikatanga kukosora.. \"Mukwasha! Madii mamira kuputa mbanje yenyu iri kundikanganisa.\" Ndakataura ndichidaro handina kuziva ndaiva ndazvisikira moto muziso chaiko ndakaerekana ndabatwa huro hwangu ndakuita ku.............. MAI TAPIWA Ndakanga ndine imwe tsoro yandakanga ndinayo. Uye ndakarwadziwa kuti mwana weshamwari yangu opinda panguva yakaoma Kelly. Ndakaona kuti mwana uyu akanga akuda kuenderera ndaifanirwa kufunga imwe tsoro yangu yandanga ndinayo. Tsoro yandanga ndafunga yakanga isingakwanisi kumuregerera yakanga isingarambi. Ndakatuma munhu kuti anomurepa kana achinge amurepa omuuraya. Ndizvo zvandakanga ndichida oenda kuno murasa kurwizi. Zvekuti haafi akaonekwa zvachose body yake. Kana ivo baba Tapiwa vakatozvishaya kuti munhu uyu chii,chaari kunyengerera chaiko. Ini ndakanga ndichiziva kuti chifumi chamangwana ichi murume wangu arikuenda. Kwaari kuda kuenda kwaMurehwa pane zvaanga achida kunoita ikoko. Ini handina kuda kumungwadza kuti azive kuti rwendo rwake ndakanga ndaruudzwa kudhara kuti, arikuda kuenda kunoita nezvei. Izvi ndakaita kuti asazviona kana achinge aenda ikoko madhiri ose anenge ava bho. Murume wandakanga ndatuma akanga achiteera sezvazviri. Uye zuva iri ndakaita kurara ndine mufaro vakaita kuzadzwa mumoyo ndaiti baba ava vakaura rwendo runo. Chakandinetsa ndichekuti kwaiva kwava kuma past dzema nheru apo murume wangu akangoti arikunzwa mudumbu. Akabuda achiita kumhanya achienda kutoilet. Ini nechemumoyo ndakangoti tichaona kuchawira tsvimbo nedohwe. Nokuti zvinhu zvako zvese zvava padhuze uye tichaona kuti kana waenda uku vana ava uchavaona sei. Uchazongonzwa kuti ava makuva chete. Nokuti zvandiri kuronga hazvifi zvakaenda mudondo zvamuchose. Kubuda kwaakaita ndakasara ndikarara, asi munhu haana kudzoka sezvakandinetsa. Kuti iwo mudumbu umu! mudumbu rudzii unoita kuti munhu aite gore rose ari kuchimbuzi. Asingadzoki ndakafunga kuti pamwe aenda kuno rara muroom mai rara Tapiwa. Ndakatarisa muimba mairara Tapiwa ndikaona hamuna, muimba yekubikira hamuna. Ndakaenda kutoilet ndakawana musina kana munhu zvachose. Nemataigezera makanga musina munhu. Izvi zvakaita kuti ndirohwe nehana nokuti chingava chiri chii chaitika ichi. Ndakadzokera kuno rara ndakanga ndisisina kugadzikana mupfungwa dzangu. Nokuti ndakanga ndichida kuziva munhu aiwa arikupi. Nokuti, rwendo rwake taiva tamugadzirira kuti, akwanise kufamba zvakanaka. Asi ichi chaitika handichazivi kuti chaiva chava chii. Ndakasvika pakubatwa nehope ndikarara kunze kuchiedza ndakaenda kuno sangana nemurume uyu. Wandakanga ndichifanirwa kusangana naye ipapo ndakashamisika kunzwa kuti, atadza kuita zvanda kanga ndamutuma. Zvinova zvakandirwadza zvisingaiti nokuti, ndakanga ndisina kutarisira zvakadai. Ndakaita kubaikana chaiko, asi ndakati hazvinetsi. Ndakamuudza kuti, \"horaiti sezvo iwe zvawatadza wakatadza kumuteera here? Zvawakaona kuti, aperekedzwa nemudzimai waSabhuku?. Nokuti mudzimai waSabhuku handioni anedhiri nokuti arikutoedza kuvanyengerera kuitira kuti tikwanise kupinda mavari. Uye handioni pane chakaipa wakatadza kuvateera kumba kwavo here? Ukaita izvozvo nokuti ndinofanirwa kuita zvinhu izvi nekukurumbidza pasina dambudziko.\" \"Nokuti simbi inorohwa ichapisa. Ukada kuzoirova yatonhora zvinhu zvinoenda mudondo.\" Ndakadaro ndikanzwa avakuti \"Mai Tapiwa\" handidi kukunyeperai, ndaedza zvose zvandinokwanise kusvika pamba apa asi ndapererwa. Nokuti zvandaona zvacho kuti ndikuudzei muno kwanisa kuzviramba. Ndaona murume wenyu akarara padoor kuti, ndipinde zvakanga zvisingaiti. Nokuti zvaizotora kunetsa ayizondiona ndiri mukati ndozoita sei. Zvamati murume wenyu nhasi anerwendo hazvina hazvo kuipa nokuti ndiro zuva randichaona kuti ndingaite sei, kana ndichinge ndapedza kuita zvandinenge ndaita hazvinetsi imba yavari kugara iyi. Ndiye huswa ndinosiya ndavapisira mukati zvose zvofamba zvakanaka. Hapana kana anofungira kana Sabhuku chaivo havafungiri. Nokuti Sabhuku chaivo ndakanzwa kuti vana ava vakaramba kugara kumba kwaSabhuku. Zvinova zvakavanetsa uye manheru vakanga vaenda kunotaura neumwe mupurisa wedu uyu asina zvinobatsira uyu. Uye ishamwari yangu. Ndiye andiudza kuti achauyiswa kuti ange achiongorora vana ava kuti hapana ari kuvatambudza here?. Ndiye arikuita nyaya yekuti vasashungurudzwe. Uye mumwe munhu anofanirwa kuti adzikamiswe ndiSabhuku. Hongu! toziva kuti anofarira doro, asi anofanirwa kudzikamiswa kuma shops kwaanoenda uku. Kungotenga doro kana kumupfuudza kumuisira muchetura mudoro. Zvinenge zvakanaka kuitira kuti madhiri edu abve asununguka. Nokuti tikatadza kupfuudza Sabhuku hapana zvatinenge tichiita. Murume wenyu baba Tapiwa hapachisina zviripo nokuti vakangobvuma chete kuenda zvinenge zvava munzira yakanaka. Uye handifungi kuti mai Sabhuku vakataura nezvazvo kuti ndizvo zvakanga zvichida kuitwa mwana izvi.\" Kutaura kwemurume uyu ndakaona kuti akanga achirevesa. Ndakati iwe ita zvingakwanisa kuita. Asi kuti upisire vana ava mumba hazvingaiti nokuti vanogona kufungira isu vanhu. Nokuti dhiri iri ndini chete ndiri kuri ziva hakuna mumwe ari kuriziva kunze kwako iwe neni chete. Uye kana ari murume wangu hazvinetsi ndichatamba naye kusvika zvanaka.Ndakadaro ndika kuparadzana kwandakaita. Ini ndakadzoka kumba ndakasvika ndichiona baba Tapiwa varipo. Handina kutaura ndakango bvunza kuti. \"Ko, nayi murume wangu? wakarara kupi manheru.\" Haana kutaura akangoti akanga aenda kunooneka vana uye akatadza kudzoka kumba. Nokuti nguva dzaiva dzaenda akasarudza kuvata ikoko. Ndakangoti nechemumoyo ndakati unofunga kuti inini ndini ndino bvuma kunyeperwa here? Ini ndichiziva ndava kuziva chokwadii chese. Chiri kuitika pauri, nhasi ndiro zuva rako rekupedzisira kuonana nevana ava. Murume wangu akatora bag rake. Ndokubuda pamba akaoneka zvakanaka uye akasiya ati \"Tapiwa ndiri kudzoka mwana wangu uye handisi kutora nguva. Ndinovimba kuti ndichagara ikoko mazuva maviri ndodzoka kwamuri kuno. Handisi kutora nguva yakareba kugarako.\" Akadaro murume wangu achitora bag rake ndakada kumuperekedza asi akaramba. Kubuda kwaakaita pamba handina kuona kuti akafamba sei. Uye ndakafonera mukomana uya ndikati izvezvi unofanirwa kuchirinda mwanasikana uyu. Asi ndakashamisika kunzwa achitaura kuti Jessica nevana vamai vake kutaura kwandiri kuita kudai handisi kuvaona. Uye ndakapedzisira kuvaona vachiperekedza murume wenyu. Baba Tapiwa handizivi kuti vaenda kupi. Nokuti vakanga vakatakura mabag akawanda handizivi kuti, mabag avaiva vakatakura akawanda vangava vaenda kupi. Izvi zvakaita kuti ndipererwe. Hapana kuita nguva ndakaona murume wangu adzoka. Asina bag akazara madhaka akati iye Fr|tt[akanga asangana netsaona. Uye akwanisa kubuda asi paarohwa pacho atadza kuona kuti vana vanga vachimuperekedza kuti vafamba sei? Uye haana kukwanisa kuona kuti vari kupi. Izvi zvakandinetsa kuti, murume uyu angadai ateera vana ava. Zvakandinetsa chaiko nekudya moyo wangu. 󱜳 **Zimbabwe Shona N... 󰟝 󱘈 󱤙 󱡓 **Zimbabwe Shona Novels** 󱙺 Public group 󰞋 K members 󱤃 Invite Videos Announcements Events Write something... 󰘄 󰞒 Video Most relevant SORT Edmore Gwanzura Edmore Gwanzura h󰞋󰟡 󰟝 TAIDA Edmore Gwanzura (Prof G) + Chitsauko “Mwanangu ndiri kufara zvikuru ku...see more 󰤥 󰤦 󰤧 Write a comment... Manasseh Nyamukondiwa Manasseh Nyamukondiwa►**Zimbabwe Shona Novels** h󰞋󰟡 󰟝 Patrick stories Patrick stories h󰞋󰟡 *\"ZVAMATISIYA\"* STORY CREATED BY PATRICK STORIES. + CHAPTER MAI TRISH zvakauya mumusoro mangu zvaiva zvakawanda kuburikidza nezvakanga zvaitika kuna Jessica manheru aya. Ndakatadza kana kuzvidzora mushure mekuzvirangarira kuita kuona kari kavision kaiva kachiitika kusvika pakubudisa misodzi zvokuti ndakasvika kakudzamisa pfungwa nendangariro pamwe chete. \" Kuti! Baba Trish vanechekuita nezvaitika izvi here? Why vasipo pano pamba ini ndavasiya varipo vangadai vaenda kupi? Mari yavarikunzi vakaonekwa vachitambidzwa nababa Kelly yaiva yei.\" Zvese izvi zvakanga zvichiuya mukati mepfungwa dzangu zvekuti handina kuona vakasvika nguvai ini. Ndakaona mutsoka mavo musina shangu zvakandinetsa. Ipapo ndakatanga kupukuta misodzi nokuti ndakanga ndisingade vazive zvaiva zvaitika kuna Jessica. Ndakanzwa murume wangu ava kundibvunza.. \"Kwavabva kwakanaka here kunoita usvike nekuchema kudai? Ndiani afa zvaunochema kudai Mai Trish.\" Ini kuti ndivaudze zvakanga zvisingakwanisike nokuti zvinhu izvi maitikiro azvo anondirwadza uye kuona murume vangu arimo munyaya idzi. \"Baba Trish! Murikubva kupi manheru ano aya musina bhutsu mugumbo.\" Apa ndaiva ndazvipira kubvunza. Ko, kwaiva kusiri kufa ndekupi nokuti hapana kwaiva kusiri kufa zvose zvakanga zvakangofanana chete.. \"Haunganzwisisa mudzimai kana ndikakuudza nezvazvo kwandanga ndiri. Unoona ndanga ndaenda kunoona kamupurisa ako kuitira zvinonetsa mangwana nevana ava uye kuramba kwaita Jessica kugara pano kwatibatsira kubva mumamwe matambudziko edu atinosangana nawo.\" Kutaura kwavo kwakaita ndirambe ndakanyarara ndikati ndichavabvunza Mangwana kwakachena. Ndakapinda mumba nekupinda mumagumbeze ndokutorara hope chaidzo. Kunze kuchienda ndaifanirwa kunosangana naBaba Tapiwa tichionesana tingaite sei tikwanise kubvisa vana ava munhara unda iyi. Ndakasangana nawo tikakuru kura ndokuona zvakakodzera kuvaendesa kwaiva nemunin'ina wangu Tambudzai akanga achishanda paMutoko. Taifanirwa kuvakwidza bhazi kuti azovagarire.. Ini handina kukwanisa kuperekedza ndakadzokera kumba ndiri munzira ndakasangana nevakomana vatatu avo vakati.. \"Mhamha makadii zvenyu? Tinokumbirawo kubvunza tinoda kuona musikana anonzi Jessica akafirwa nevabereki vake ini ndinoitwa Brendon, uyu umwe anonzi Tofi, asi zita rake anonzi Tofirei zvake... Koita uyu anoitwa Pardon.\" Akadaro mukomana umwe akanga ari pedyo neni aiwa achiputa mbanje yake iyo yakandikanganisa ndikatanga kukosora.. \"Mukwasha! Madii mamira kuputa mbanje yenyu iri kundikanganisa.\" Ndakataura ndichidaro handina kuziva ndaiva ndazvisikira moto muziso chaiko ndakaerekana ndabatwa huro hwangu ndakuita ku.............. MAI TAPIWA Ndakanga ndine imwe tsoro yandakanga ndinayo. Uye ndakarwadziwa kuti mwana weshamwari yangu opinda panguva yakaoma Kelly. Ndakaona kuti mwana uyu akanga akuda kuenderera ndaifanirwa kufunga imwe tsoro yangu yandanga ndinayo. Tsoro yandanga ndafunga yakanga isingakwanisi kumuregerera yakanga isingarambi. Ndakatuma munhu kuti anomurepa kana achinge amurepa omuuraya. Ndizvo zvandakanga ndichida oenda kuno murasa kurwizi. Zvekuti haafi akaonekwa zvachose body yake. Kana ivo baba Tapiwa vakatozvishaya kuti munhu uyu chii,chaari kunyengerera chaiko. Ini ndakanga ndichiziva kuti chifumi chamangwana ichi murume wangu arikuenda. Kwaari kuda kuenda kwaMurehwa pane zvaanga achida kunoita ikoko. Ini handina kuda kumungwadza kuti azive kuti rwendo rwake ndakanga ndaruudzwa kudhara kuti, arikuda kuenda kunoita nezvei. Izvi ndakaita kuti asazviona kana achinge aenda ikoko madhiri ose anenge ava bho. Murume wandakanga ndatuma akanga achiteera sezvazviri. Uye zuva iri ndakaita kurara ndine mufaro vakaita kuzadzwa mumoyo ndaiti baba ava vakaura rwendo runo. Chakandinetsa ndichekuti kwaiva kwava kuma past dzema nheru apo murume wangu akangoti arikunzwa mudumbu. Akabuda achiita kumhanya achienda kutoilet. Ini nechemumoyo ndakangoti tichaona kuchawira tsvimbo nedohwe. Nokuti zvinhu zvako zvese zvava padhuze uye tichaona kuti kana waenda uku vana ava uchavaona sei. Uchazongonzwa kuti ava makuva chete. Nokuti zvandiri kuronga hazvifi zvakaenda mudondo zvamuchose. Kubuda kwaakaita ndakasara ndikarara, asi munhu haana kudzoka sezvakandinetsa. Kuti iwo mudumbu umu! mudumbu rudzii unoita kuti munhu aite gore rose ari kuchimbuzi. Asingadzoki ndakafunga kuti pamwe aenda kuno rara muroom mai rara Tapiwa. Ndakatarisa muimba mairara Tapiwa ndikaona hamuna, muimba yekubikira hamuna. Ndakaenda kutoilet ndakawana musina kana munhu zvachose. Nemataigezera makanga musina munhu. Izvi zvakaita kuti ndirohwe nehana nokuti chingava chiri chii chaitika ichi. Ndakadzokera kuno rara ndakanga ndisisina kugadzikana mupfungwa dzangu. Nokuti ndakanga ndichida kuziva munhu aiwa arikupi. Nokuti, rwendo rwake taiva tamugadzirira kuti, akwanise kufamba zvakanaka. Asi ichi chaitika handichazivi kuti chaiva chava chii. Ndakasvika pakubatwa nehope ndikarara kunze kuchiedza ndakaenda kuno sangana nemurume uyu. Wandakanga ndichifanirwa kusangana naye ipapo ndakashamisika kunzwa kuti, atadza kuita zvanda kanga ndamutuma. Zvinova zvakandirwadza zvisingaiti nokuti, ndakanga ndisina kutarisira zvakadai. Ndakaita kubaikana chaiko, asi ndakati hazvinetsi. Ndakamuudza kuti, \"horaiti sezvo iwe zvawatadza wakatadza kumuteera here? Zvawakaona kuti, aperekedzwa nemudzimai waSabhuku?. Nokuti mudzimai waSabhuku handioni anedhiri nokuti arikutoedza kuvanyengerera kuitira kuti tikwanise kupinda mavari. Uye handioni pane chakaipa wakatadza kuvateera kumba kwavo here? Ukaita izvozvo nokuti ndinofanirwa kuita zvinhu izvi nekukurumbidza pasina dambudziko.\" \"Nokuti simbi inorohwa ichapisa. Ukada kuzoirova yatonhora zvinhu zvinoenda mudondo.\" Ndakadaro ndikanzwa avakuti \"Mai Tapiwa\" handidi kukunyeperai, ndaedza zvose zvandinokwanise kusvika pamba apa asi ndapererwa. Nokuti zvandaona zvacho kuti ndikuudzei muno kwanisa kuzviramba. Ndaona murume wenyu akarara padoor kuti, ndipinde zvakanga zvisingaiti. Nokuti zvaizotora kunetsa ayizondiona ndiri mukati ndozoita sei. Zvamati murume wenyu nhasi anerwendo hazvina hazvo kuipa nokuti ndiro zuva randichaona kuti ndingaite sei, kana ndichinge ndapedza kuita zvandinenge ndaita hazvinetsi imba yavari kugara iyi. Ndiye huswa ndinosiya ndavapisira mukati zvose zvofamba zvakanaka. Hapana kana anofungira kana Sabhuku chaivo havafungiri. Nokuti Sabhuku chaivo ndakanzwa kuti vana ava vakaramba kugara kumba kwaSabhuku. Zvinova zvakavanetsa uye manheru vakanga vaenda kunotaura neumwe mupurisa wedu uyu asina zvinobatsira uyu. Uye ishamwari yangu. Ndiye andiudza kuti achauyiswa kuti ange achiongorora vana ava kuti hapana ari kuvatambudza here?. Ndiye arikuita nyaya yekuti vasashungurudzwe. Uye mumwe munhu anofanirwa kuti adzikamiswe ndiSabhuku. Hongu! toziva kuti anofarira doro, asi anofanirwa kudzikamiswa kuma shops kwaanoenda uku. Kungotenga doro kana kumupfuudza kumuisira muchetura mudoro. Zvinenge zvakanaka kuitira kuti madhiri edu abve asununguka. Nokuti tikatadza kupfuudza Sabhuku hapana zvatinenge tichiita. Murume wenyu baba Tapiwa hapachisina zviripo nokuti vakangobvuma chete kuenda zvinenge zvava munzira yakanaka. Uye handifungi kuti mai Sabhuku vakataura nezvazvo kuti ndizvo zvakanga zvichida kuitwa mwana izvi.\" Kutaura kwemurume uyu ndakaona kuti akanga achirevesa. Ndakati iwe ita zvingakwanisa kuita. Asi kuti upisire vana ava mumba hazvingaiti nokuti vanogona kufungira isu vanhu. Nokuti dhiri iri ndini chete ndiri kuri ziva hakuna mumwe ari kuriziva kunze kwako iwe neni chete. Uye kana ari murume wangu hazvinetsi ndichatamba naye kusvika zvanaka. Ndakadaro ndika kuparadzana kwandakaita. Ini ndakadzoka kumba ndakasvika ndichiona baba Tapiwa varipo. Handina kutaura ndakango bvunza kuti. \"Ko, nayi murume wangu? wakarara kupi manheru.\" Haana kutaura akangoti akanga aenda kunooneka vana uye akatadza kudzoka kumba. Nokuti nguva dzaiva dzaenda akasarudza kuvata ikoko. Ndakangoti nechemumoyo ndakati unofunga kuti inini ndini ndino bvuma kunyeperwa here? Ini ndichiziva ndava kuziva chokwadii chese. Chiri kuitika pauri, nhasi ndiro zuva rako rekupedzisira kuonana nevana ava. Murume wangu akatora bag rake. Ndokubuda pamba akaoneka zvakanaka uye akasiya ati \"Tapiwa ndiri kudzoka mwana wangu uye handisi kutora nguva. Ndinovimba kuti ndichagara ikoko mazuva maviri ndodzoka kwamuri kuno. Handisi kutora nguva yakareba kugarako.\" Akadaro murume wangu achitora bag rake ndakada kumuperekedza asi akaramba. Kubuda kwaakaita pamba handina kuona kuti akafamba sei. Uye ndakafonera mukomana uya ndikati izvezvi unofanirwa kuchirinda mwanasikana uyu. Asi ndakashamisika kunzwa achitaura kuti Jessica nevana vamai vake kutaura kwandiri kuita kudai handisi kuvaona. Uye ndakapedzisira kuvaona vachiperekedza murume wenyu. Baba Tapiwa handizivi kuti vaenda kupi. Nokuti vakanga vakatakura mabag akawanda handizivi kuti, mabag avaiva vakatakura akawanda vangava vaenda kupi. Izvi zvakaita kuti ndipererwe. Hapana kuita nguva ndakaona murume wangu adzoka. Asina bag akazara madhaka akati iye akanga asangana netsaona. Uye akwanisa kubuda asi paarohwa pacho atadza kuona kuti vana vanga vachimuperekedza kuti vafamba sei? Uye haana kukwanisa kuona kuti vari kupi. Izvi zvakandinetsa kuti, murume uyu angadai ateera vana ava. Zvakandinetsa chaiko nekudya moyo wangu. Zvekuti ndakasvika paku.. En VaMujakari vakasvikopinda ndokugara parukukwe rwaive munhasi mechoto kwave kukwazisa vaeni vavo zvakanaka naka. Zvekukwazisana zvapera, mumba makamboita runyararo kwekanguva ivo ndokuzodzima runyararo irworwo vamene. “Ko, kwakanaka here kwamauya muchipumha dova nhai baba Tamuka?” Baba Tamuka vakaombera maoko vakazvityora kwavo nekuti vaiziva chembere iyi isiri yokutsunya nerurimi. “Amai muchiona tauya kudai, kudhorobha hakuna kumira zvakanaka …” “Seizve?” VaMujakari vakadaro vachirova mhino yavo nemunwe wekasiyamwa. “Baba Taida varwara, izvozvi tavasiya kuchipatara…” “Baba Taida ndiani?” Baba Tamuka vakapeka peka kuvamwe vavo vavakanga vauya navo vachiratidza kukatyamara kwazvo. Vakazotarisa kumwene womubvunzo ndokupindura vachiti, “Ndinoreva Charles amai, marivara zita romuzukuru su?” VaMujakari vakatanga vakekedza setseketsa ndokuti, “Ndichimuziviswa nani? Iye mukadzi wake handiti ndiko kutouya ikoku? Anomboda zvekuno here? Mwana wamunoreva tinongonzwa neware sezvimbambaira zvemaputukezi asi hatati tamuona wo isu,” pakarepo vakasusumha mutsipa vachisomha kumusana kwaSekai. “Heya, ndiye akaberekwa uyu?” “Ndiyeyu amai,” Sekai ndiye akadavira zvino. “Hooo, aiwa zvanaka tamuona wo zvedu, ko, isu vana Nyunyu tinozoratidzwa mwana rave gondora ka, usiri ihwo hurwere hwamauya nahwo maiti taizomuona kudai? Tave muguva pada.” Kutaura kwaVaMujakari kwakashamisa Sekai zvakanyanya sezvo aiziva kuti ivo ndivo vaive vakaramba kuona mwana kana kuita mhemberero dzokufarira kuberekwa kwake. Hunzi kugarisana huzivana, pane zvose zvaaipomerwa naamwene vake, akaramba anyerere, hakuna kana chimwechete chaakapindura, akazviidza rema. “Ndine hurombo amai nezvingadai zvakaitika kumashure, iye zvino dai mabatsira muroora wenyu padambudziko iri, Chiremba atipa zuva rimwe bedzi, ati urwere hwacho hausi hwemuchipatara naizvozvo apa kurudziro yokuti kana zvakwanisika, hama ngadzifambe naye, zvichida angawana rubatsiro kuchivanhu. Iyi ndiyo nyaya yatisvitsa pano rupumhadova sekureva kwamaita. Ndapota amai, tsvakai moyo wokuregerera tiite chipatakamwe.” “Ndakunzwa zvangu baba Tamuka asi zvinondishamisa kuti munhu akabva zuro pano anga arwara nguvai? Handiti akasimuka pano zvitsvene tsvene achiti aida kurara ave kumba kuitira kuenda kubasa?” Vakatarira kwaive nemuroora wavo ndokubvunza. “Nhai Sekai, chii chaitika kune mumwe wako? Arwarei munhu abva pano ruriramakava achiti omhanyira kubasa?” “Zvinoratidza kuti zvavakabva kuno havana kupinda mumba nokuti ini chaiye ndini nyakuvaona mambakwedza vakati kwasvata pamusiwo,” baba Tamuka vakakasira kudavira. “Ndakambofunga kuti zvimwe vakarohwa nezvinhu…” “Zvaani imo mudhorobheni?” VaMujakari vakadaro vachirovanisa huni muchoto. “Ndaiti ndezvekuno kuruzevha bedzi ka ini, bva regai ndigadzirire, ndiende nemi, ndikachengeta chigumbu, ndingapumhwa uroyi naVaNhakata. ” Kutaura kwavakaita VaMujakari, vakabva vasimuka ndiye kweda panze apo vakabva vasangana naTambudzai naMavis vachibva kutsime. Havana kuita nguva navo, vakangozivisa Tambudzai kuti akurumbidze kugadzirira nokuti vaida kuenda pamwechete naye. Ivo vasikana vakati vapedza kukwazisa vaeni, vakabva vaita mupitipiti, kuchiti Tambudzai kugadzirira zverwendo, uyu Mavis achishenaira pachoto kudziisa munya pamwe nekubika muriwo wechomoriya wavakanga vabva nawo kubindu. Zvose izvi zvakaitwa makare muimba yokubikira maive mugere vaeni. Mavis achipedza kugadzira zvokudya, VaMujakari vakabva vapindamo vatopedza zvose zverwendo, izvozvo vaive vapfeka rokwe remavara ehanga, mumusoro vaturika bhareta dema, mutsoka vakanga vakakwava tenisi yetomi. “Ko, nhai Mavis, wagodziisa munya koga, ko, wati vaeni votsunyawo iwoyu? Iye zvi ndanga ndichiti uri kukubvura sadza remunhu wose zve ini.” “Kwete amai, regai zvenyu, takaguta isu, tauya tadya,” vakanyepa zvavo baba Tamuka. “Zvino mugoti masvika pamusha paamai pachii kana muchibva musina kumbotiwo tsunyei mundiro kana kutsamhura muriwo zvako?” Vakadaro vave kutoshamba maoko vagere parupasa rwavo. “Chiregai ndiite zvekukurumbidza, meso enyu anondiudza kuti ndakunonokerai kwazvo. Zvinodaro sezvo muri imi mune pikicha yezvamasiya Charisi akaita, Tambudzai ndiye achatinonotsa nekuda kupoda poda kwake, anozvitarisa pagirazi sezvinonzi ari kunoonana naKwini Eriza weBhiriteni.” Chiri chokwadiwo, Tambudzai haana kuzodya nekuti panguva yaakauya muimba yokubikira maive navamwe, amai vake vainge vachangopedza kudya ndokumuudza kuti pakanga pachisina nguva yokutamba nayo. Chipi chipi, vakapinda mumotokari ndiye hutu vakadziva kuMadokero. Nekuda kwekuti motokari yakambovafira munzira, vakazosvika muKaroi na dzemasikati. Vachingoti godi pagedhi rechipatara, Chiremba uyo akanga ave kuenda kumba kwake kunodya akabva avadana nezwi repamusoro soro uku achivaninira neruoko kuratidza kuti akanga akarindira kusvika kwavo nemeso akatsvuka. “Nditeverei,” akadaro Chiremba pasina kana kukwazisana, izvozvo aiita kukanda nhanho akananga kuimba yevarwere vakanyanyisa. “Amai varipo pakati penyu apa ka?” “Hongu Chiremba,” baba Tamuka ndivo vakadavira. “Ndivo vari shure avo.” “Amai maita zvakanaka kuuya,” Chiremba akadaro pasina kana kucheuka. “Ndinodavira kuti zvizhinji maudzwa nechekare. Ndapota zvangu, torai mukomana mufambe naye, neniwo ndakakurira muvanhu, ndinoziva panogumira mishonga yedu yechirumbi iyi.” “Ndinokutenda mwanangu, nhasi chaiye hatirari pamba,” VaMujakari vakadaro vachinzunzutira vakabereka maoko kumusana. “Rinodoka ndawa pamuzinda waMapipi, chitopota chinoshura mare, ikoko hakuna chinokonekwa kana zvapo.” Vapinda muimba yairapirwa Charles, Chiremba akavatungamirira pamubhedha paaive. Ainge arere akatarira mudenga, pasina kuzungunuka kana kubwaira, akanga akangoti kwasva rurimi sembwa yadzimba tsvana. Kutaridzika kwake kwakaita kuti vose vasvimhe misodzi. “Maona zvandanga ndichireva ka amai?” Chiremba akadaro meso ari pachiso chaCharles. VaMujakari pane kuti vadavire zvavakanga vabvunzwa, vakangobubudza maoko avo ndokuti, “Mwanangu Charisi, amai vako ndauya kuzokutora kuti ndikurapise nenzira yedu yechivanhu.” Vakadzokorodza mashoko iwayo katatu. Zvino vakati vachipedza kutaura ketatu, vose vakashamiswa kuona Charles obwaira bwaira nekubva amedza mate ndiye koso koso. Hapana akati bufu, vose vaingoonekwa nekungurungudza pamwe nekupeterana meso kusara kwaTambudzai uyo aingunonyemwerera zvake akaringa hanzvadzi yake. Nguva yakareyo ndiyo yakasvika Makina, akapindamo achiita kutumhuka sebhiza rabva mukumhanya. “Ko, zvadiizve nhai mai Taida?” Akadaro achipfekera nemukati mavamwe kuti aswedere pedyo. “Mumwe wenyu akangoti achidzoka…” Sekai haana kuzopedzisa mashoko Ake aganhurwa naVaMujakari. “Iwe! Iwe Sekai! Heya, marangana kuti muuye kuzopemberera kufa kwemwana wangu nhai? Unoti handizivi kuti iwe naMakina wako muri nzenza? Iye dumbuzenene uyu anonyepera ushamwari uku achitanha chinga muhova dzake. Ptuuu! Ndasvipa ini, nyasire, mapurwa avanhu…” “Amai mungandidaro chokwadi? Charles ndichimuona somunun’una wangu chaiye, madirei kudzimbira moyo wangu muchidaro? Zvisinei hazvo nezvipomero zvamunondizora, chiregai ndimuonewo nekunzwa chamurwadza…” “Hamba! Ndati buda muno, nhudza yomunhu. Hamba wena, out!” Vakapedzisira kudaro vomusairira pamwe nekumudinhidza kumusana nezvibhakera zvaibva patwuoko twainge mbariro. “Amai mungadaro mwana achirwara zvakadai? Ndinoziva kuti kurwara kwemukomana kwakushunhai zvakanyanya asi dai machirega zvizhinji matarisa…” “Handidi kumuona munhu uyu Dhokota, ndati nadha! Handidi zvangu kana nepaduku, angapatisa iye Charisi kwete ini Jurieti Marwei Kufakwembwa, handipatiswi neshiye dzakadai ini. Ngaabude, handidi kumuona mumeso angu zvekare, kana mati agare ini ndini ndochienda zvangu,” vakapedzisira kudaro vodhanaira vakatarira kumusiwo. “Kwete amai, zvaabuda wani. Chiregai aende zvake, imi mungagoenda sei muri imi wandanga ndakamirira nguva dzose idzi? Chirongai zvekuti mutakure mwana mufambe kuchiri kuchena sekubvumirana kwataita. Ndinozofara zvakanyanya kana modzoka pano muchindiudza kuti mukomana anaya kana kumuona achizvifambira amene,” Chiremba akadaro akatarisa VaMujakari nemeso azere kuzvirereka. Tambudzai akavanhanhukira ndokudzoka navo achivasesedza. “Amai musarasiswe chinangwa chedu chokuuya kuno, muregei Makina atoenda kare. Imi chiitai kuti titore Cherles sezvarehwa naChiremba. Tarirai baba Tamuka vari pano kuti vatibatsire, ngatichiregai kuita kuti vaore moyo, kana iye Charles handiti munoona kuti abwaira pamasvika pedo, zvichireva kukosha kwamakaita?” aba Tamuka vakadzoka vadungamidzana nemudzimai wavo pamwe nedangwe ravo Tamuka aive mukomana wefomu yetatu. Kuuya kwakaita vatatu ava, akabva asimudza mwana wake ndiye bo kumusana, pafudzi akapakatira bhegi raive nembatya dzemwana ava varume vaviri ndokubatsirana kutakura Charles vomuisa mumotokari. “Nhaimi, ko chave chii zvekare ichi?” Ava ndaamai Tamuka vakadaro apo vainge votevera mushure meava vakanga vakatakura murwere. “Baba Taida, varware zvekudai, zvauya sei? Iye munhu watinoziva akazvisimbira mazuva ose aya?” “Ndiri kutozvishaya ini amai Tamuka. Vakabva kubasa nezuro kwave kupfuurira kuenda kumusha vachiti vanoronga nyaya yatete Mavy vari kuda kuroorwa,” akataura mashoko okupedzisira nekusada kufukura hapwa. “Handei zvedu kuchipatara asi ini ndiri kuona zviri zvechivanhu izvi, kana baba Tamuka ndavadaro pavauya vachindiudza marwarire acho.” Vakashandisa Peugeot yababa Tamuka, vakagoti voitsika zvekuratidza kuti vaive vanonokerwa. Havana kutora nguva kuti vasvike pachipatara, vakatambirwawo zvakanaka kwazvo nanamukoti. Vakaita wo rombo rakanaka kuwana Chiremba achangopinda kuti aone varwere vaive vakapiwa mibhedha. Chiremba achiona murwere mutsva uyu, akambosiya vamwe vose ndokubatsira iyeye. Ava vakanga vauya naye, vakamboburitswa muimba yaaiongororwa, vaingoona vanamukoti vachiita bindawapinda makare mo, kwaive kukwidza nekudzika, kudzika nekukwidza. Maitiro aiita vanasikana ava airatidza kuti vaive nechido nebasa ravo zvikuru, kupikira nechido chokubatsira ruzhinji kwete nekuda muripo koga. Sekai nevavakidzani vake vaive vamire panze mu\n"
     ]
    }
   ],
   "source": [
    "import re\n",
    "\n",
    "\n",
    "# Function to clean text and remove numbers\n",
    "def clean_text(text):\n",
    "    # Remove numbers using regular expression\n",
    "    text = re.sub(r'\\d+', '', text)\n",
    "\n",
    "    # Remove extra whitespaces and newline characters\n",
    "    text = ' '.join(text.split())\n",
    "\n",
    "    return text\n",
    "\n",
    "# Clean the text\n",
    "cleaned_text = clean_text(shona_text)\n",
    "\n",
    "# Print the cleaned text\n",
    "print(cleaned_text)\n"
   ]
  },
  {
   "cell_type": "code",
   "execution_count": null,
   "id": "6ZbJUzr0G6ag",
   "metadata": {
    "colab": {
     "base_uri": "https://localhost:8080/",
     "height": 1000
    },
    "id": "6ZbJUzr0G6ag",
    "outputId": "4d4bed43-0640-4b13-f05e-5015be573f89"
   },
   "outputs": [
    {
     "data": {
      "application/vnd.google.colaboratory.intrinsic+json": {
       "type": "string"
      },
      "text/plain": [
       "'“Mwanangu ndiri kufara zvikuru kuona wave kukwanisa kudya sadza woga kudai, izvi zvinoratidza kuti wanaya, upenyu hwadzoka kwauri. Mapipi, akashanda basa guru kwazvo, ndinotoshaya kuti ndomutenda nei. Ndakanga ndarasikirwa newe, mwanakomana wangu, baba vangu, chireramhuri. Chokwadi, ndanga ndopishana mupfungwa kuti ko, ndakatadzei ko kunaSamatenga, ndepapi pandakaposhera vadzimu vokwangu nevekwako. “Zvandakabva kuno ndichiti ndoenda seri kwechikomo, kunaPiriviri, ndakaerera nzira yose misodzi iri pamatama, vaipesana neni vaikahadzika zvakanyanya asi vachityira kure kubvunza chikonzero, vashoma vaive nezvivindi ndivo vairovera moyo yavo pamabwe kwave kubvunza. Ipapo handaivanza kwete, ndaivaudza kuti ndasiya mwanakomana wangu arere parupasa, achitandaza kwazvo. Ko, ndaigovanzei izvo zvichinzi bundu rako woga nderiri mumoyo, repaziso unosvinwa navamwe? “Chiona zvino nenji randakasvikosanganidzana naro kwaMapipi? Ndichiri chinhambwe toriro, ndakaona achiita kuhwitaira nekunyuruka akananga kwandiri. Izvozvo ziso raive rakanzi dhee sere chidhambakura. Ndakatombotya ndikati, hezvo, zvandichabvamburwa nen’anga iyi. Ave pedyo neni akatanga kuhukura achireva mashoko aiganhuka ganhuka asi achinzikwa zvawo…” “Munoreva kuti makaenda moga kuna Piriviri amai?” Charles akabvunza achitsenga nyama yehanga yakagochwa, izvozvo aive akakomba chikomo chesadza, ziya rati teu kuratidza kuti akanga ari garira nzara yamukohomesa. VaMujakari vakabubudza maoko ndokuridza rutsamwa vachitarira divi. Vakamboita nguva vakatsveyamisa musoro saizvozvo, vakazotarira kumwanakomana wavo ndokutaura vachiti, “Ndakaenda ndoga ini, wati kana waringana nemadzudzo uchange wotya zvekare? Vakuru vakati, kana wasasikwa hauchatyi kununa, vakareva nekuziva ipapo. Ndakabva pano pamba rusvisvisvi ndiye kabu munzira munhindo yaityisa kukunda mhondoro, ” “Ko, mai Taida nanaTambudzai vakasarirei?” Zvevana vaduku zvingatevedzwa? Pandakamuka, vaive vakafa nehope kuti rororo ndokuvamutsa wanei vose vati gogogo, ndoudzwa kuti, amai kuchakasviba uku. Ipapo ndakabva ndati sarai zvenyu, mwana unorwara ndewangu. Zvisinei hazvo, izvi usaita basa nazvo, chakakosha kuti wararama, izvozvo bedzi ndizvo zvandatarirana nazvo zvino. Chimwe chandinoda kuti uzive ndizvo ndakanzwa kwaMapipi. Gara paya ndanga ndaperera pokuti kudii?” Mashoko okuti amai vake vaive vaenda voga kuhakata akamutsamwisa zvikuru zvikapa kuti abve aguta pakarepo, akageza mako ndokusaidzira ndiro kure. “Magumisira pokuti Mapipi akakutambirai muchiri kure…” “Ehunde, ndizvozvo chaizvo,” vakadaro ndokunyemwerera vachisiya pachena meno ainge enhika. “Mashoko aakataura anditambira saizvozvo akandityisa zvikuru…” “Akati kudii? Akataura chakandirwarisa here?” VaMujakari vakaguguna huma ndokuringa pasi kwekanguva kwave kuzosimudza musoro pava paya. “Hongu ndainzwa zvangu kuti murume uyu inyanzvi pamashopeshope asi handina kuziva kuti kusvika pakadaro. Ndikakuudza kuti akandidana nezita rokuberekwa naro ungazvibvuma? Ave pedyo neni akakwiruka achiti, ko, nhaiwe Marwei zvoworega mwana achimonyororwa mutsiba sehuku yomusvuvu ndiko kungwara here ikoko? Pandakati ndishamise muromo kuti ndibvunze zvaaireva akabva andiganhura achiti, ko inga nyoka waisiya yakati mone mugudza…” “Ndiko kuti kudii ikoko?” Charles akanga achakabatwa nerima, pasina chiedza chaaiona pamashoko aamai vake. “Neniwo ndakashaya shumo yazvo pakuvamba asi paakadzokorodza akabva adudza achinge airondedzera. Akazotaura zvizhinji amira mberi kwangu kuti zute, haana kana kunditendera kusvika pamusasa wake. Hunzi, vanhu vaviri avo vanopatisa mwana wako hauvaoni? Ivavo ndivo vakaruka zano rokupfuudza mwanakomana wako kuti ivo vasare vachisasana zvavo nekuti rudo rwavo rwakomba sebudzi rembeu. Akabva anditi ringa mukati mechanza changu ichi uone vanhu vandinoreva, handina kunonoka ndakabva ndaita sokureva kwake pekare pekare.” Charles akakahadzika kwazvo nekutaura kwakadai. “Aiedza kureva kuti chii nemashoko aya uye makaona ani muchanza make zvaakati uyai muone vanhu vacho?” VaMujakari vakambogegedera kuseka ndokuzopedzisira nekachikwee kakatetepera. “Mwanangu, kana vakuru vachireva zviya, chimboteya nzeve, inga vekare vakareva kuti mukuru mukuru hanga haigari pfunde uye muromo wevakuru hauwiri pasi? Rega ndisarove imbwa ndakaviga mupinyi, Makina naSekai ndivo vanhu vakabatwa kuhakata…” Charles akasvetuka kubva pachigaro ndokusvikoti kwati nemadziro akavhura romo seshuramurove yadzipwa nezimhashumuroyi. Akamboita nguva akadaro ndokuzobvunza achiti, “Zvanzi Sekai naMakina vadii nhai amai? Ipapo handina kunyatsopabata ini.” “Ndivo zve vakatsvaga bvungairo rinova ravakakuteya naro kuti apo paunenge wauya kuno ribve rakutibvura pamoyo vanhu vagoti ndini ndakakuroya. Chinangwa chavo kuda kukupfuudza nekuti vanoda kuti vagosara vachisasana pamwe nekutora imba yako. Kuwedzera kundibaya pamoyo nenhudziro dzake akatizve kana naiye mwana uyo haasi…” “Kwete amai, chimirai ipapo!” Akaganduka Charles. “Uko kwamave kuenda hakuchaiti, ndapota zvangu, chiregai amai. Zvandanzwa zvakwana, chindisiyai ndakadaro. Makaita basa nekuita kuti ndirarame, handizivi zvamakapiwa ikoko kuti mundirape nazvo asi ndinotenda. Zvandave kunzwa zvakanaka kudai mushure memazuva mashoma ndichadzokera kuKaroi…” “Iwo mushonga waakakupa wakabva kure kure kusingasviki dzedu tsoka. Dai pasina muturura une ukasha wandakapiwa naMapipi kuti ugonwa uri mumaheu wati wairarama here? Izvozvi Sekai ave nemazuva maviri adzokera kuKaroi achiti anombonotarisa kumba kuti kwakadii, aripi nazvino? Kutarisa imba kuti yakadii kungada vhiki yose? Hauoni vari kutopurana nemudiwa wake kuti zvawararama kudai, vochiita ripi zano?” Charles haana kuzopindura, akaramba anyerere zvake sematsi, aona kuti vakanga vachisina mashoko, akawoneka ndokutora mugomo wokudiridzisa bindu ndiye kwitu. Ave panze akadana muzukuru wake Solomon ndokubata vodzika zasi, kurwizi Mwami. Ava VaMujakari vakasara vachikosora kosora pamwe nekugeza huro kasingagumi. Manheru emusi iwoyo Sekai akadzoka kubva kuKaroi, murume wake akamutambira nemufaro wemisi yose, mashoko aakanga anzwa masikati acho naamai vake haana kumusudurutsa paari. Kana ari Taida akabva arambira muruoko rwake sechiringazuva. VaMujakari nevanasikana vavo ndivo vasina kushanduka pamuitiro wavo wokumuratidza ruvengo, iyewo haana kuita hany’a nazvo, zvakanga zvava muropa. Kupera kwemazuva matatu kubva zvadzoka Sekai, Charles akawoneka amai vake ndokudzokera kumba nemhuri yake, iye zvino akanga anyatsosimba, nyama dzadzokedzana. Semunhu akanga afadzwa nekurapiswa kwaakanga aitwa naamai vake, akatorawo Mavis ndokudzokera naye kuti anopedzisa atachimendi chinova chinhu chakafadza VaMujakari zvikuru. Zuva rakatevera rakare raasvika muKaroi umo akanga abva vhiki mbiri dzakanga dzapfuura, oenda kubasa akapfuura nekukanzuru uko akasvikoteterera kuvakuru vepo kuti vatendere hanzvadzi yake kupedzisa atachimendi. Chikumbiro chake chakazotambirwa mushure mokuzvidemba kwenguva refu, vavariro yaive yokufadza amai vake. Akazopfuurira kwake achisiya Mavis atogara muhosi, izvozvo zvakamupa kuenda akasimudzira mafudzi sezvinongoita vazhinji kana vakwanisa kubata basa rinorema. Kwapera mwedzi mitatu kubva zvaadzoka muKaroi, Mavis akapedza atachimendi ndokubva adzokera kumusha, iye zvino akanga agara zvakanaka pasina misikanzwa asi naamaiguru vake pakanga pasina nyaya kana mamuka sei zvayo, yaingove njake njake. Kuenda kwake kwakaita kuti Sekai asare achitura befu sezvinonzi akanga ari mutirongo yeKhami. Hongu, Sekai ainge ati azorora nekuenda kwatete vake asi mufaro wake hauna kudzoka wose nekuda kwetsika yakanga yoitwa naCharles, akanga achisiri uya wemisi yose. Iye zvino akanga odzoka pamba usiku, achisvikopinda mumachira asina kudya, kuti abvunze hakuna aimudavira. Kuita ikoko kwakazokwidza mutarara rimwe reiwayo mazuva apo Charles akadzoka akararadza, chinova chinhu chaakanga asati amboita kubva zvaamuziva. Sekai akashushikana kwazvo musi uyu, dzimwe pfungwa dzakamuti siya zvakadaro, ungazvidenhera mago asi dzimwe dzakapokana dzichiti, ko, rudo rwacho rukagova rwupi? Sadza raakanga asiya neusavi hwehove dzakapiswa mumafuta harina kubatwa, hombarume yakangosvikoti pfee mumachira ndiye ngo ngo ngo, wanike yopwatitsa ngonono kari kekutanga. Sekai akabva muimba yokutandarira maakanga achisvusvudzira mwana kuti arare ndokusvikorova rova Charles nembama kumusana asi rume harina kumuka, rakatowedzera kukuya ngonono. Akatozoita zvekubata nesimba achimuzungunutsa. Zvaaifungira handizvo zvakazoitika, Charles akangoti fugu gudza ndokubva amuka mbama yakamunanga padama. “Uri kundimutsirei pfambi iwe?” Charles akakwiruka akadzvondora ziso dzvuku kuna Sekai.\\U000f1733 **Zimbabwe Shona N... \\U000f07dd \\U000f1608 \\U000f1919 \\U000f1853 **Zimbabwe Shona Novels** \\U000f167a Public group \\U000f078b K members \\U000f1903 Invite Videos Announcements Events Write something... \\U000f0604 \\U000f0792 Video Most relevant SORT Edmore Gwanzura Edmore Gwanzura h\\U000f078b\\U000f07e1 \\U000f07dd TAIDA Edmore Gwanzura (Prof G) + Chitsauko “Mwanangu ndiri kufara zvikuru ku...see more \\U000f0925 \\U000f0926 \\U000f0927 Write a comment... Manasseh Nyamukondiwa Manasseh Nyamukondiwa►**Zimbabwe Shona Novels** h\\U000f078b\\U000f07e1 \\U000f07dd Patrick stories Patrick stories h\\U000f078b\\U000f07e1 *\"ZVAMATISIYA\"* STORY CREATED BY PATRICK STORIES. + CHAPTER MAI TRISH zvakauya mumusoro mangu zvaiva zvakawanda kuburikidza nezvakanga zvaitika kuna Jessica manheru aya. Ndakatadza kana kuzvidzora mushure mekuzvirangarira kuita kuona kari kavision kaiva kachiitika kusvika pakubudisa misodzi zvokuti ndakasvika kakudzamisa pfungwa nendangariro pamwe chete. \" Kuti! Baba Trish vanechekuita nezvaitika izvi here? Why vasipo pano pamba ini ndavasiya varipo vangadai vaenda kupi? Mari yavarikunzi vakaonekwa vachitambidzwa nababa Kelly yaiva yei.\" Zvese izvi zvakanga zvichiuya mukati mepfungwa dzangu zvekuti handina kuona vakasvika nguvai ini. Ndakaona mutsoka mavo musina shangu zvakandinetsa. Ipapo ndakatanga kupukuta misodzi nokuti ndakanga ndisingade vazive zvaiva zvaitika kuna Jessica. Ndakanzwa murume wangu ava kundibvunza.. \"Kwavabva kwakanaka here kunoita usvike nekuchema kudai? Ndiani afa zvaunochema kudai Mai Trish.\" Ini kuti ndivaudze zvakanga zvisingakwanisike nokuti zvinhu izvi maitikiro azvo anondirwadza uye kuona murume vangu arimo munyaya idzi. \"Baba Trish! Murikubva kupi manheru ano aya musina bhutsu mugumbo.\" Apa ndaiva ndazvipira kubvunza. Ko, kwaiva kusiri kufa ndekupi nokuti hapana kwaiva kusiri kufa zvose zvakanga zvakangofanana chete.. \"Haunganzwisisa mudzimai kana ndikakuudza nezvazvo kwandanga ndiri. Unoona ndanga ndaenda kunoona kamupurisa ako kuitira zvinonetsa mangwana nevana ava uye kuramba kwaita Jessica kugara pano kwatibatsira kubva mumamwe matambudziko edu atinosangana nawo.\" Kutaura kwavo kwakaita ndirambe ndakanyarara ndikati ndichavabvunza Mangwana kwakachena. Ndakapinda mumba nekupinda mumagumbeze ndokutorara hope chaidzo. Kunze kuchienda ndaifanirwa kunosangana naBaba Tapiwa tichionesana tingaite sei tikwanise kubvisa vana ava munhara unda iyi. Ndakasangana nawo tikakuru kura ndokuona zvakakodzera kuvaendesa kwaiva nemunin\\'ina wangu Tambudzai akanga achishanda paMutoko. Taifanirwa kuvakwidza bhazi kuti azovagarire.. Ini handina kukwanisa kuperekedza ndakadzokera kumba ndiri munzira ndakasangana nevakomana vatatu avo vakati.. \"Mhamha makadii zvenyu? Tinokumbirawo kubvunza tinoda kuona musikana anonzi Jessica akafirwa nevabereki vake ini ndinoitwa Brendon, uyu umwe anonzi Tofi, asi zita rake anonzi Tofirei zvake... Koita uyu anoitwa Pardon.\" Akadaro mukomana umwe akanga ari pedyo neni aiwa achiputa mbanje yake iyo yakandikanganisa ndikatanga kukosora.. \"Mukwasha! Madii mamira kuputa mbanje yenyu iri kundikanganisa.\" Ndakataura ndichidaro handina kuziva ndaiva ndazvisikira moto muziso chaiko ndakaerekana ndabatwa huro hwangu ndakuita ku.............. MAI TAPIWA Ndakanga ndine imwe tsoro yandakanga ndinayo. Uye ndakarwadziwa kuti mwana weshamwari yangu opinda panguva yakaoma Kelly. Ndakaona kuti mwana uyu akanga akuda kuenderera ndaifanirwa kufunga imwe tsoro yangu yandanga ndinayo. Tsoro yandanga ndafunga yakanga isingakwanisi kumuregerera yakanga isingarambi. Ndakatuma munhu kuti anomurepa kana achinge amurepa omuuraya. Ndizvo zvandakanga ndichida oenda kuno murasa kurwizi. Zvekuti haafi akaonekwa zvachose body yake. Kana ivo baba Tapiwa vakatozvishaya kuti munhu uyu chii,chaari kunyengerera chaiko. Ini ndakanga ndichiziva kuti chifumi chamangwana ichi murume wangu arikuenda. Kwaari kuda kuenda kwaMurehwa pane zvaanga achida kunoita ikoko. Ini handina kuda kumungwadza kuti azive kuti rwendo rwake ndakanga ndaruudzwa kudhara kuti, arikuda kuenda kunoita nezvei. Izvi ndakaita kuti asazviona kana achinge aenda ikoko madhiri ose anenge ava bho. Murume wandakanga ndatuma akanga achiteera sezvazviri. Uye zuva iri ndakaita kurara ndine mufaro vakaita kuzadzwa mumoyo ndaiti baba ava vakaura rwendo runo. Chakandinetsa ndichekuti kwaiva kwava kuma past dzema nheru apo murume wangu akangoti arikunzwa mudumbu. Akabuda achiita kumhanya achienda kutoilet. Ini nechemumoyo ndakangoti tichaona kuchawira tsvimbo nedohwe. Nokuti zvinhu zvako zvese zvava padhuze uye tichaona kuti kana waenda uku vana ava uchavaona sei. Uchazongonzwa kuti ava makuva chete. Nokuti zvandiri kuronga hazvifi zvakaenda mudondo zvamuchose. Kubuda kwaakaita ndakasara ndikarara, asi munhu haana kudzoka sezvakandinetsa. Kuti iwo mudumbu umu! mudumbu rudzii unoita kuti munhu aite gore rose ari kuchimbuzi. Asingadzoki ndakafunga kuti pamwe aenda kuno rara muroom mai rara Tapiwa. Ndakatarisa muimba mairara Tapiwa ndikaona hamuna, muimba yekubikira hamuna. Ndakaenda kutoilet ndakawana musina kana munhu zvachose. Nemataigezera makanga musina munhu. Izvi zvakaita kuti ndirohwe nehana nokuti chingava chiri chii chaitika ichi. Ndakadzokera kuno rara ndakanga ndisisina kugadzikana mupfungwa dzangu. Nokuti ndakanga ndichida kuziva munhu aiwa arikupi. Nokuti, rwendo rwake taiva tamugadzirira kuti, akwanise kufamba zvakanaka. Asi ichi chaitika handichazivi kuti chaiva chava chii. Ndakasvika pakubatwa nehope ndikarara kunze kuchiedza ndakaenda kuno sangana nemurume uyu. Wandakanga ndichifanirwa kusangana naye ipapo ndakashamisika kunzwa kuti, atadza kuita zvanda kanga ndamutuma. Zvinova zvakandirwadza zvisingaiti nokuti, ndakanga ndisina kutarisira zvakadai. Ndakaita kubaikana chaiko, asi ndakati hazvinetsi. Ndakamuudza kuti, \"horaiti sezvo iwe zvawatadza wakatadza kumuteera here? Zvawakaona kuti, aperekedzwa nemudzimai waSabhuku?. Nokuti mudzimai waSabhuku handioni anedhiri nokuti arikutoedza kuvanyengerera kuitira kuti tikwanise kupinda mavari. Uye handioni pane chakaipa wakatadza kuvateera kumba kwavo here? Ukaita izvozvo nokuti ndinofanirwa kuita zvinhu izvi nekukurumbidza pasina dambudziko.\" \"Nokuti simbi inorohwa ichapisa. Ukada kuzoirova yatonhora zvinhu zvinoenda mudondo.\" Ndakadaro ndikanzwa avakuti \"Mai Tapiwa\" handidi kukunyeperai, ndaedza zvose zvandinokwanise kusvika pamba apa asi ndapererwa. Nokuti zvandaona zvacho kuti ndikuudzei muno kwanisa kuzviramba. Ndaona murume wenyu akarara padoor kuti, ndipinde zvakanga zvisingaiti. Nokuti zvaizotora kunetsa ayizondiona ndiri mukati ndozoita sei. Zvamati murume wenyu nhasi anerwendo hazvina hazvo kuipa nokuti ndiro zuva randichaona kuti ndingaite sei, kana ndichinge ndapedza kuita zvandinenge ndaita hazvinetsi imba yavari kugara iyi. Ndiye huswa ndinosiya ndavapisira mukati zvose zvofamba zvakanaka. Hapana kana anofungira kana Sabhuku chaivo havafungiri. Nokuti Sabhuku chaivo ndakanzwa kuti vana ava vakaramba kugara kumba kwaSabhuku. Zvinova zvakavanetsa uye manheru vakanga vaenda kunotaura neumwe mupurisa wedu uyu asina zvinobatsira uyu. Uye ishamwari yangu. Ndiye andiudza kuti achauyiswa kuti ange achiongorora vana ava kuti hapana ari kuvatambudza here?. Ndiye arikuita nyaya yekuti vasashungurudzwe. Uye mumwe munhu anofanirwa kuti adzikamiswe ndiSabhuku. Hongu! toziva kuti anofarira doro, asi anofanirwa kudzikamiswa kuma shops kwaanoenda uku. Kungotenga doro kana kumupfuudza kumuisira muchetura mudoro. Zvinenge zvakanaka kuitira kuti madhiri edu abve asununguka. Nokuti tikatadza kupfuudza Sabhuku hapana zvatinenge tichiita. Murume wenyu baba Tapiwa hapachisina zviripo nokuti vakangobvuma chete kuenda zvinenge zvava munzira yakanaka. Uye handifungi kuti mai Sabhuku vakataura nezvazvo kuti ndizvo zvakanga zvichida kuitwa mwana izvi.\" Kutaura kwemurume uyu ndakaona kuti akanga achirevesa. Ndakati iwe ita zvingakwanisa kuita. Asi kuti upisire vana ava mumba hazvingaiti nokuti vanogona kufungira isu vanhu. Nokuti dhiri iri ndini chete ndiri kuri ziva hakuna mumwe ari kuriziva kunze kwako iwe neni chete. Uye kana ari murume wangu hazvinetsi ndichatamba naye kusvika zvanaka.Ndakadaro ndika kuparadzana kwandakaita. Ini ndakadzoka kumba ndakasvika ndichiona baba Tapiwa varipo. Handina kutaura ndakango bvunza kuti. \"Ko, nayi murume wangu? wakarara kupi manheru.\" Haana kutaura akangoti akanga aenda kunooneka vana uye akatadza kudzoka kumba. Nokuti nguva dzaiva dzaenda akasarudza kuvata ikoko. Ndakangoti nechemumoyo ndakati unofunga kuti inini ndini ndino bvuma kunyeperwa here? Ini ndichiziva ndava kuziva chokwadii chese. Chiri kuitika pauri, nhasi ndiro zuva rako rekupedzisira kuonana nevana ava. Murume wangu akatora bag rake. Ndokubuda pamba akaoneka zvakanaka uye akasiya ati \"Tapiwa ndiri kudzoka mwana wangu uye handisi kutora nguva. Ndinovimba kuti ndichagara ikoko mazuva maviri ndodzoka kwamuri kuno. Handisi kutora nguva yakareba kugarako.\" Akadaro murume wangu achitora bag rake ndakada kumuperekedza asi akaramba. Kubuda kwaakaita pamba handina kuona kuti akafamba sei. Uye ndakafonera mukomana uya ndikati izvezvi unofanirwa kuchirinda mwanasikana uyu. Asi ndakashamisika kunzwa achitaura kuti Jessica nevana vamai vake kutaura kwandiri kuita kudai handisi kuvaona. Uye ndakapedzisira kuvaona vachiperekedza murume wenyu. Baba Tapiwa handizivi kuti vaenda kupi. Nokuti vakanga vakatakura mabag akawanda handizivi kuti, mabag avaiva vakatakura akawanda vangava vaenda kupi. Izvi zvakaita kuti ndipererwe. Hapana kuita nguva ndakaona murume wangu adzoka. Asina bag akazara madhaka akati iye Fr|tt[akanga asangana netsaona. Uye akwanisa kubuda asi paarohwa pacho atadza kuona kuti vana vanga vachimuperekedza kuti vafamba sei? Uye haana kukwanisa kuona kuti vari kupi. Izvi zvakandinetsa kuti, murume uyu angadai ateera vana ava. Zvakandinetsa chaiko nekudya moyo wangu. \\U000f1733 **Zimbabwe Shona N... \\U000f07dd \\U000f1608 \\U000f1919 \\U000f1853 **Zimbabwe Shona Novels** \\U000f167a Public group \\U000f078b K members \\U000f1903 Invite Videos Announcements Events Write something... \\U000f0604 \\U000f0792 Video Most relevant SORT Edmore Gwanzura Edmore Gwanzura h\\U000f078b\\U000f07e1 \\U000f07dd TAIDA Edmore Gwanzura (Prof G) + Chitsauko “Mwanangu ndiri kufara zvikuru ku...see more \\U000f0925 \\U000f0926 \\U000f0927 Write a comment... Manasseh Nyamukondiwa Manasseh Nyamukondiwa►**Zimbabwe Shona Novels** h\\U000f078b\\U000f07e1 \\U000f07dd Patrick stories Patrick stories h\\U000f078b\\U000f07e1 *\"ZVAMATISIYA\"* STORY CREATED BY PATRICK STORIES. + CHAPTER MAI TRISH zvakauya mumusoro mangu zvaiva zvakawanda kuburikidza nezvakanga zvaitika kuna Jessica manheru aya. Ndakatadza kana kuzvidzora mushure mekuzvirangarira kuita kuona kari kavision kaiva kachiitika kusvika pakubudisa misodzi zvokuti ndakasvika kakudzamisa pfungwa nendangariro pamwe chete. \" Kuti! Baba Trish vanechekuita nezvaitika izvi here? Why vasipo pano pamba ini ndavasiya varipo vangadai vaenda kupi? Mari yavarikunzi vakaonekwa vachitambidzwa nababa Kelly yaiva yei.\" Zvese izvi zvakanga zvichiuya mukati mepfungwa dzangu zvekuti handina kuona vakasvika nguvai ini. Ndakaona mutsoka mavo musina shangu zvakandinetsa. Ipapo ndakatanga kupukuta misodzi nokuti ndakanga ndisingade vazive zvaiva zvaitika kuna Jessica. Ndakanzwa murume wangu ava kundibvunza.. \"Kwavabva kwakanaka here kunoita usvike nekuchema kudai? Ndiani afa zvaunochema kudai Mai Trish.\" Ini kuti ndivaudze zvakanga zvisingakwanisike nokuti zvinhu izvi maitikiro azvo anondirwadza uye kuona murume vangu arimo munyaya idzi. \"Baba Trish! Murikubva kupi manheru ano aya musina bhutsu mugumbo.\" Apa ndaiva ndazvipira kubvunza. Ko, kwaiva kusiri kufa ndekupi nokuti hapana kwaiva kusiri kufa zvose zvakanga zvakangofanana chete.. \"Haunganzwisisa mudzimai kana ndikakuudza nezvazvo kwandanga ndiri. Unoona ndanga ndaenda kunoona kamupurisa ako kuitira zvinonetsa mangwana nevana ava uye kuramba kwaita Jessica kugara pano kwatibatsira kubva mumamwe matambudziko edu atinosangana nawo.\" Kutaura kwavo kwakaita ndirambe ndakanyarara ndikati ndichavabvunza Mangwana kwakachena. Ndakapinda mumba nekupinda mumagumbeze ndokutorara hope chaidzo. Kunze kuchienda ndaifanirwa kunosangana naBaba Tapiwa tichionesana tingaite sei tikwanise kubvisa vana ava munhara unda iyi. Ndakasangana nawo tikakuru kura ndokuona zvakakodzera kuvaendesa kwaiva nemunin\\'ina wangu Tambudzai akanga achishanda paMutoko. Taifanirwa kuvakwidza bhazi kuti azovagarire.. Ini handina kukwanisa kuperekedza ndakadzokera kumba ndiri munzira ndakasangana nevakomana vatatu avo vakati.. \"Mhamha makadii zvenyu? Tinokumbirawo kubvunza tinoda kuona musikana anonzi Jessica akafirwa nevabereki vake ini ndinoitwa Brendon, uyu umwe anonzi Tofi, asi zita rake anonzi Tofirei zvake... Koita uyu anoitwa Pardon.\" Akadaro mukomana umwe akanga ari pedyo neni aiwa achiputa mbanje yake iyo yakandikanganisa ndikatanga kukosora.. \"Mukwasha! Madii mamira kuputa mbanje yenyu iri kundikanganisa.\" Ndakataura ndichidaro handina kuziva ndaiva ndazvisikira moto muziso chaiko ndakaerekana ndabatwa huro hwangu ndakuita ku.............. MAI TAPIWA Ndakanga ndine imwe tsoro yandakanga ndinayo. Uye ndakarwadziwa kuti mwana weshamwari yangu opinda panguva yakaoma Kelly. Ndakaona kuti mwana uyu akanga akuda kuenderera ndaifanirwa kufunga imwe tsoro yangu yandanga ndinayo. Tsoro yandanga ndafunga yakanga isingakwanisi kumuregerera yakanga isingarambi. Ndakatuma munhu kuti anomurepa kana achinge amurepa omuuraya. Ndizvo zvandakanga ndichida oenda kuno murasa kurwizi. Zvekuti haafi akaonekwa zvachose body yake. Kana ivo baba Tapiwa vakatozvishaya kuti munhu uyu chii,chaari kunyengerera chaiko. Ini ndakanga ndichiziva kuti chifumi chamangwana ichi murume wangu arikuenda. Kwaari kuda kuenda kwaMurehwa pane zvaanga achida kunoita ikoko. Ini handina kuda kumungwadza kuti azive kuti rwendo rwake ndakanga ndaruudzwa kudhara kuti, arikuda kuenda kunoita nezvei. Izvi ndakaita kuti asazviona kana achinge aenda ikoko madhiri ose anenge ava bho. Murume wandakanga ndatuma akanga achiteera sezvazviri. Uye zuva iri ndakaita kurara ndine mufaro vakaita kuzadzwa mumoyo ndaiti baba ava vakaura rwendo runo. Chakandinetsa ndichekuti kwaiva kwava kuma past dzema nheru apo murume wangu akangoti arikunzwa mudumbu. Akabuda achiita kumhanya achienda kutoilet. Ini nechemumoyo ndakangoti tichaona kuchawira tsvimbo nedohwe. Nokuti zvinhu zvako zvese zvava padhuze uye tichaona kuti kana waenda uku vana ava uchavaona sei. Uchazongonzwa kuti ava makuva chete. Nokuti zvandiri kuronga hazvifi zvakaenda mudondo zvamuchose. Kubuda kwaakaita ndakasara ndikarara, asi munhu haana kudzoka sezvakandinetsa. Kuti iwo mudumbu umu! mudumbu rudzii unoita kuti munhu aite gore rose ari kuchimbuzi. Asingadzoki ndakafunga kuti pamwe aenda kuno rara muroom mai rara Tapiwa. Ndakatarisa muimba mairara Tapiwa ndikaona hamuna, muimba yekubikira hamuna. Ndakaenda kutoilet ndakawana musina kana munhu zvachose. Nemataigezera makanga musina munhu. Izvi zvakaita kuti ndirohwe nehana nokuti chingava chiri chii chaitika ichi. Ndakadzokera kuno rara ndakanga ndisisina kugadzikana mupfungwa dzangu. Nokuti ndakanga ndichida kuziva munhu aiwa arikupi. Nokuti, rwendo rwake taiva tamugadzirira kuti, akwanise kufamba zvakanaka. Asi ichi chaitika handichazivi kuti chaiva chava chii. Ndakasvika pakubatwa nehope ndikarara kunze kuchiedza ndakaenda kuno sangana nemurume uyu. Wandakanga ndichifanirwa kusangana naye ipapo ndakashamisika kunzwa kuti, atadza kuita zvanda kanga ndamutuma. Zvinova zvakandirwadza zvisingaiti nokuti, ndakanga ndisina kutarisira zvakadai. Ndakaita kubaikana chaiko, asi ndakati hazvinetsi. Ndakamuudza kuti, \"horaiti sezvo iwe zvawatadza wakatadza kumuteera here? Zvawakaona kuti, aperekedzwa nemudzimai waSabhuku?. Nokuti mudzimai waSabhuku handioni anedhiri nokuti arikutoedza kuvanyengerera kuitira kuti tikwanise kupinda mavari. Uye handioni pane chakaipa wakatadza kuvateera kumba kwavo here? Ukaita izvozvo nokuti ndinofanirwa kuita zvinhu izvi nekukurumbidza pasina dambudziko.\" \"Nokuti simbi inorohwa ichapisa. Ukada kuzoirova yatonhora zvinhu zvinoenda mudondo.\" Ndakadaro ndikanzwa avakuti \"Mai Tapiwa\" handidi kukunyeperai, ndaedza zvose zvandinokwanise kusvika pamba apa asi ndapererwa. Nokuti zvandaona zvacho kuti ndikuudzei muno kwanisa kuzviramba. Ndaona murume wenyu akarara padoor kuti, ndipinde zvakanga zvisingaiti. Nokuti zvaizotora kunetsa ayizondiona ndiri mukati ndozoita sei. Zvamati murume wenyu nhasi anerwendo hazvina hazvo kuipa nokuti ndiro zuva randichaona kuti ndingaite sei, kana ndichinge ndapedza kuita zvandinenge ndaita hazvinetsi imba yavari kugara iyi. Ndiye huswa ndinosiya ndavapisira mukati zvose zvofamba zvakanaka. Hapana kana anofungira kana Sabhuku chaivo havafungiri. Nokuti Sabhuku chaivo ndakanzwa kuti vana ava vakaramba kugara kumba kwaSabhuku. Zvinova zvakavanetsa uye manheru vakanga vaenda kunotaura neumwe mupurisa wedu uyu asina zvinobatsira uyu. Uye ishamwari yangu. Ndiye andiudza kuti achauyiswa kuti ange achiongorora vana ava kuti hapana ari kuvatambudza here?. Ndiye arikuita nyaya yekuti vasashungurudzwe. Uye mumwe munhu anofanirwa kuti adzikamiswe ndiSabhuku. Hongu! toziva kuti anofarira doro, asi anofanirwa kudzikamiswa kuma shops kwaanoenda uku. Kungotenga doro kana kumupfuudza kumuisira muchetura mudoro. Zvinenge zvakanaka kuitira kuti madhiri edu abve asununguka. Nokuti tikatadza kupfuudza Sabhuku hapana zvatinenge tichiita. Murume wenyu baba Tapiwa hapachisina zviripo nokuti vakangobvuma chete kuenda zvinenge zvava munzira yakanaka. Uye handifungi kuti mai Sabhuku vakataura nezvazvo kuti ndizvo zvakanga zvichida kuitwa mwana izvi.\" Kutaura kwemurume uyu ndakaona kuti akanga achirevesa. Ndakati iwe ita zvingakwanisa kuita. Asi kuti upisire vana ava mumba hazvingaiti nokuti vanogona kufungira isu vanhu. Nokuti dhiri iri ndini chete ndiri kuri ziva hakuna mumwe ari kuriziva kunze kwako iwe neni chete. Uye kana ari murume wangu hazvinetsi ndichatamba naye kusvika zvanaka. Ndakadaro ndika kuparadzana kwandakaita. Ini ndakadzoka kumba ndakasvika ndichiona baba Tapiwa varipo. Handina kutaura ndakango bvunza kuti. \"Ko, nayi murume wangu? wakarara kupi manheru.\" Haana kutaura akangoti akanga aenda kunooneka vana uye akatadza kudzoka kumba. Nokuti nguva dzaiva dzaenda akasarudza kuvata ikoko. Ndakangoti nechemumoyo ndakati unofunga kuti inini ndini ndino bvuma kunyeperwa here? Ini ndichiziva ndava kuziva chokwadii chese. Chiri kuitika pauri, nhasi ndiro zuva rako rekupedzisira kuonana nevana ava. Murume wangu akatora bag rake. Ndokubuda pamba akaoneka zvakanaka uye akasiya ati \"Tapiwa ndiri kudzoka mwana wangu uye handisi kutora nguva. Ndinovimba kuti ndichagara ikoko mazuva maviri ndodzoka kwamuri kuno. Handisi kutora nguva yakareba kugarako.\" Akadaro murume wangu achitora bag rake ndakada kumuperekedza asi akaramba. Kubuda kwaakaita pamba handina kuona kuti akafamba sei. Uye ndakafonera mukomana uya ndikati izvezvi unofanirwa kuchirinda mwanasikana uyu. Asi ndakashamisika kunzwa achitaura kuti Jessica nevana vamai vake kutaura kwandiri kuita kudai handisi kuvaona. Uye ndakapedzisira kuvaona vachiperekedza murume wenyu. Baba Tapiwa handizivi kuti vaenda kupi. Nokuti vakanga vakatakura mabag akawanda handizivi kuti, mabag avaiva vakatakura akawanda vangava vaenda kupi. Izvi zvakaita kuti ndipererwe. Hapana kuita nguva ndakaona murume wangu adzoka. Asina bag akazara madhaka akati iye akanga asangana netsaona. Uye akwanisa kubuda asi paarohwa pacho atadza kuona kuti vana vanga vachimuperekedza kuti vafamba sei? Uye haana kukwanisa kuona kuti vari kupi. Izvi zvakandinetsa kuti, murume uyu angadai ateera vana ava. Zvakandinetsa chaiko nekudya moyo wangu. Zvekuti ndakasvika paku.. En VaMujakari vakasvikopinda ndokugara parukukwe rwaive munhasi mechoto kwave kukwazisa vaeni vavo zvakanaka naka. Zvekukwazisana zvapera, mumba makamboita runyararo kwekanguva ivo ndokuzodzima runyararo irworwo vamene. “Ko, kwakanaka here kwamauya muchipumha dova nhai baba Tamuka?” Baba Tamuka vakaombera maoko vakazvityora kwavo nekuti vaiziva chembere iyi isiri yokutsunya nerurimi. “Amai muchiona tauya kudai, kudhorobha hakuna kumira zvakanaka …” “Seizve?” VaMujakari vakadaro vachirova mhino yavo nemunwe wekasiyamwa. “Baba Taida varwara, izvozvi tavasiya kuchipatara…” “Baba Taida ndiani?” Baba Tamuka vakapeka peka kuvamwe vavo vavakanga vauya navo vachiratidza kukatyamara kwazvo. Vakazotarisa kumwene womubvunzo ndokupindura vachiti, “Ndinoreva Charles amai, marivara zita romuzukuru su?” VaMujakari vakatanga vakekedza setseketsa ndokuti, “Ndichimuziviswa nani? Iye mukadzi wake handiti ndiko kutouya ikoku? Anomboda zvekuno here? Mwana wamunoreva tinongonzwa neware sezvimbambaira zvemaputukezi asi hatati tamuona wo isu,” pakarepo vakasusumha mutsipa vachisomha kumusana kwaSekai. “Heya, ndiye akaberekwa uyu?” “Ndiyeyu amai,” Sekai ndiye akadavira zvino. “Hooo, aiwa zvanaka tamuona wo zvedu, ko, isu vana Nyunyu tinozoratidzwa mwana rave gondora ka, usiri ihwo hurwere hwamauya nahwo maiti taizomuona kudai? Tave muguva pada.” Kutaura kwaVaMujakari kwakashamisa Sekai zvakanyanya sezvo aiziva kuti ivo ndivo vaive vakaramba kuona mwana kana kuita mhemberero dzokufarira kuberekwa kwake. Hunzi kugarisana huzivana, pane zvose zvaaipomerwa naamwene vake, akaramba anyerere, hakuna kana chimwechete chaakapindura, akazviidza rema. “Ndine hurombo amai nezvingadai zvakaitika kumashure, iye zvino dai mabatsira muroora wenyu padambudziko iri, Chiremba atipa zuva rimwe bedzi, ati urwere hwacho hausi hwemuchipatara naizvozvo apa kurudziro yokuti kana zvakwanisika, hama ngadzifambe naye, zvichida angawana rubatsiro kuchivanhu. Iyi ndiyo nyaya yatisvitsa pano rupumhadova sekureva kwamaita. Ndapota amai, tsvakai moyo wokuregerera tiite chipatakamwe.” “Ndakunzwa zvangu baba Tamuka asi zvinondishamisa kuti munhu akabva zuro pano anga arwara nguvai? Handiti akasimuka pano zvitsvene tsvene achiti aida kurara ave kumba kuitira kuenda kubasa?” Vakatarira kwaive nemuroora wavo ndokubvunza. “Nhai Sekai, chii chaitika kune mumwe wako? Arwarei munhu abva pano ruriramakava achiti omhanyira kubasa?” “Zvinoratidza kuti zvavakabva kuno havana kupinda mumba nokuti ini chaiye ndini nyakuvaona mambakwedza vakati kwasvata pamusiwo,” baba Tamuka vakakasira kudavira. “Ndakambofunga kuti zvimwe vakarohwa nezvinhu…” “Zvaani imo mudhorobheni?” VaMujakari vakadaro vachirovanisa huni muchoto. “Ndaiti ndezvekuno kuruzevha bedzi ka ini, bva regai ndigadzirire, ndiende nemi, ndikachengeta chigumbu, ndingapumhwa uroyi naVaNhakata. ” Kutaura kwavakaita VaMujakari, vakabva vasimuka ndiye kweda panze apo vakabva vasangana naTambudzai naMavis vachibva kutsime. Havana kuita nguva navo, vakangozivisa Tambudzai kuti akurumbidze kugadzirira nokuti vaida kuenda pamwechete naye. Ivo vasikana vakati vapedza kukwazisa vaeni, vakabva vaita mupitipiti, kuchiti Tambudzai kugadzirira zverwendo, uyu Mavis achishenaira pachoto kudziisa munya pamwe nekubika muriwo wechomoriya wavakanga vabva nawo kubindu. Zvose izvi zvakaitwa makare muimba yokubikira maive mugere vaeni. Mavis achipedza kugadzira zvokudya, VaMujakari vakabva vapindamo vatopedza zvose zverwendo, izvozvo vaive vapfeka rokwe remavara ehanga, mumusoro vaturika bhareta dema, mutsoka vakanga vakakwava tenisi yetomi. “Ko, nhai Mavis, wagodziisa munya koga, ko, wati vaeni votsunyawo iwoyu? Iye zvi ndanga ndichiti uri kukubvura sadza remunhu wose zve ini.” “Kwete amai, regai zvenyu, takaguta isu, tauya tadya,” vakanyepa zvavo baba Tamuka. “Zvino mugoti masvika pamusha paamai pachii kana muchibva musina kumbotiwo tsunyei mundiro kana kutsamhura muriwo zvako?” Vakadaro vave kutoshamba maoko vagere parupasa rwavo. “Chiregai ndiite zvekukurumbidza, meso enyu anondiudza kuti ndakunonokerai kwazvo. Zvinodaro sezvo muri imi mune pikicha yezvamasiya Charisi akaita, Tambudzai ndiye achatinonotsa nekuda kupoda poda kwake, anozvitarisa pagirazi sezvinonzi ari kunoonana naKwini Eriza weBhiriteni.” Chiri chokwadiwo, Tambudzai haana kuzodya nekuti panguva yaakauya muimba yokubikira maive navamwe, amai vake vainge vachangopedza kudya ndokumuudza kuti pakanga pachisina nguva yokutamba nayo. Chipi chipi, vakapinda mumotokari ndiye hutu vakadziva kuMadokero. Nekuda kwekuti motokari yakambovafira munzira, vakazosvika muKaroi na dzemasikati. Vachingoti godi pagedhi rechipatara, Chiremba uyo akanga ave kuenda kumba kwake kunodya akabva avadana nezwi repamusoro soro uku achivaninira neruoko kuratidza kuti akanga akarindira kusvika kwavo nemeso akatsvuka. “Nditeverei,” akadaro Chiremba pasina kana kukwazisana, izvozvo aiita kukanda nhanho akananga kuimba yevarwere vakanyanyisa. “Amai varipo pakati penyu apa ka?” “Hongu Chiremba,” baba Tamuka ndivo vakadavira. “Ndivo vari shure avo.” “Amai maita zvakanaka kuuya,” Chiremba akadaro pasina kana kucheuka. “Ndinodavira kuti zvizhinji maudzwa nechekare. Ndapota zvangu, torai mukomana mufambe naye, neniwo ndakakurira muvanhu, ndinoziva panogumira mishonga yedu yechirumbi iyi.” “Ndinokutenda mwanangu, nhasi chaiye hatirari pamba,” VaMujakari vakadaro vachinzunzutira vakabereka maoko kumusana. “Rinodoka ndawa pamuzinda waMapipi, chitopota chinoshura mare, ikoko hakuna chinokonekwa kana zvapo.” Vapinda muimba yairapirwa Charles, Chiremba akavatungamirira pamubhedha paaive. Ainge arere akatarira mudenga, pasina kuzungunuka kana kubwaira, akanga akangoti kwasva rurimi sembwa yadzimba tsvana. Kutaridzika kwake kwakaita kuti vose vasvimhe misodzi. “Maona zvandanga ndichireva ka amai?” Chiremba akadaro meso ari pachiso chaCharles. VaMujakari pane kuti vadavire zvavakanga vabvunzwa, vakangobubudza maoko avo ndokuti, “Mwanangu Charisi, amai vako ndauya kuzokutora kuti ndikurapise nenzira yedu yechivanhu.” Vakadzokorodza mashoko iwayo katatu. Zvino vakati vachipedza kutaura ketatu, vose vakashamiswa kuona Charles obwaira bwaira nekubva amedza mate ndiye koso koso. Hapana akati bufu, vose vaingoonekwa nekungurungudza pamwe nekupeterana meso kusara kwaTambudzai uyo aingunonyemwerera zvake akaringa hanzvadzi yake. Nguva yakareyo ndiyo yakasvika Makina, akapindamo achiita kutumhuka sebhiza rabva mukumhanya. “Ko, zvadiizve nhai mai Taida?” Akadaro achipfekera nemukati mavamwe kuti aswedere pedyo. “Mumwe wenyu akangoti achidzoka…” Sekai haana kuzopedzisa mashoko Ake aganhurwa naVaMujakari. “Iwe! Iwe Sekai! Heya, marangana kuti muuye kuzopemberera kufa kwemwana wangu nhai? Unoti handizivi kuti iwe naMakina wako muri nzenza? Iye dumbuzenene uyu anonyepera ushamwari uku achitanha chinga muhova dzake. Ptuuu! Ndasvipa ini, nyasire, mapurwa avanhu…” “Amai mungandidaro chokwadi? Charles ndichimuona somunun’una wangu chaiye, madirei kudzimbira moyo wangu muchidaro? Zvisinei hazvo nezvipomero zvamunondizora, chiregai ndimuonewo nekunzwa chamurwadza…” “Hamba! Ndati buda muno, nhudza yomunhu. Hamba wena, out!” Vakapedzisira kudaro vomusairira pamwe nekumudinhidza kumusana nezvibhakera zvaibva patwuoko twainge mbariro. “Amai mungadaro mwana achirwara zvakadai? Ndinoziva kuti kurwara kwemukomana kwakushunhai zvakanyanya asi dai machirega zvizhinji matarisa…” “Handidi kumuona munhu uyu Dhokota, ndati nadha! Handidi zvangu kana nepaduku, angapatisa iye Charisi kwete ini Jurieti Marwei Kufakwembwa, handipatiswi neshiye dzakadai ini. Ngaabude, handidi kumuona mumeso angu zvekare, kana mati agare ini ndini ndochienda zvangu,” vakapedzisira kudaro vodhanaira vakatarira kumusiwo. “Kwete amai, zvaabuda wani. Chiregai aende zvake, imi mungagoenda sei muri imi wandanga ndakamirira nguva dzose idzi? Chirongai zvekuti mutakure mwana mufambe kuchiri kuchena sekubvumirana kwataita. Ndinozofara zvakanyanya kana modzoka pano muchindiudza kuti mukomana anaya kana kumuona achizvifambira amene,” Chiremba akadaro akatarisa VaMujakari nemeso azere kuzvirereka. Tambudzai akavanhanhukira ndokudzoka navo achivasesedza. “Amai musarasiswe chinangwa chedu chokuuya kuno, muregei Makina atoenda kare. Imi chiitai kuti titore Cherles sezvarehwa naChiremba. Tarirai baba Tamuka vari pano kuti vatibatsire, ngatichiregai kuita kuti vaore moyo, kana iye Charles handiti munoona kuti abwaira pamasvika pedo, zvichireva kukosha kwamakaita?” aba Tamuka vakadzoka vadungamidzana nemudzimai wavo pamwe nedangwe ravo Tamuka aive mukomana wefomu yetatu. Kuuya kwakaita vatatu ava, akabva asimudza mwana wake ndiye bo kumusana, pafudzi akapakatira bhegi raive nembatya dzemwana ava varume vaviri ndokubatsirana kutakura Charles vomuisa mumotokari. “Nhaimi, ko chave chii zvekare ichi?” Ava ndaamai Tamuka vakadaro apo vainge votevera mushure meava vakanga vakatakura murwere. “Baba Taida, varware zvekudai, zvauya sei? Iye munhu watinoziva akazvisimbira mazuva ose aya?” “Ndiri kutozvishaya ini amai Tamuka. Vakabva kubasa nezuro kwave kupfuurira kuenda kumusha vachiti vanoronga nyaya yatete Mavy vari kuda kuroorwa,” akataura mashoko okupedzisira nekusada kufukura hapwa. “Handei zvedu kuchipatara asi ini ndiri kuona zviri zvechivanhu izvi, kana baba Tamuka ndavadaro pavauya vachindiudza marwarire acho.” Vakashandisa Peugeot yababa Tamuka, vakagoti voitsika zvekuratidza kuti vaive vanonokerwa. Havana kutora nguva kuti vasvike pachipatara, vakatambirwawo zvakanaka kwazvo nanamukoti. Vakaita wo rombo rakanaka kuwana Chiremba achangopinda kuti aone varwere vaive vakapiwa mibhedha. Chiremba achiona murwere mutsva uyu, akambosiya vamwe vose ndokubatsira iyeye. Ava vakanga vauya naye, vakamboburitswa muimba yaaiongororwa, vaingoona vanamukoti vachiita bindawapinda makare mo, kwaive kukwidza nekudzika, kudzika nekukwidza. Maitiro aiita vanasikana ava airatidza kuti vaive nechido nebasa ravo zvikuru, kupikira nechido chokubatsira ruzhinji kwete nekuda muripo koga. Sekai nevavakidzani vake vaive vamire panze mu'"
      ]
     },
     "execution_count": 5,
     "metadata": {},
     "output_type": "execute_result"
    }
   ],
   "source": [
    "cleaned_text"
   ]
  },
  {
   "cell_type": "markdown",
   "id": "89b47d82",
   "metadata": {
    "id": "89b47d82"
   },
   "source": [
    "### 2. Vocabulary"
   ]
  },
  {
   "cell_type": "code",
   "execution_count": null,
   "id": "dfdffef8",
   "metadata": {
    "id": "dfdffef8"
   },
   "outputs": [],
   "source": [
    "from keras.preprocessing.text import Tokenizer\n",
    "\n",
    "# Tokenize and preprocess\n",
    "tokenizer = Tokenizer()\n",
    "tokenizer.fit_on_texts([cleaned_text])\n",
    "total_words = len(tokenizer.word_index) + 1\n",
    "\n",
    "\n"
   ]
  },
  {
   "cell_type": "markdown",
   "id": "ab90873f",
   "metadata": {
    "id": "ab90873f"
   },
   "source": [
    "### 3. Word Embeddings"
   ]
  },
  {
   "cell_type": "code",
   "execution_count": null,
   "id": "f6e79b35",
   "metadata": {
    "id": "f6e79b35"
   },
   "outputs": [],
   "source": [
    "from gensim.models import Word2Vec\n",
    "\n",
    "# Train word2vec model with gensim\n",
    "sentences = [sentence.split() for sentence in cleaned_text.split('.')]\n",
    "model_gensim = Word2Vec(sentences, vector_size=100, window=5, min_count=1, workers=4)\n",
    "model_gensim.save(\"word2vec.model\")\n"
   ]
  },
  {
   "cell_type": "markdown",
   "id": "3f6dba89",
   "metadata": {
    "id": "3f6dba89"
   },
   "source": [
    "### 4. RNN Models"
   ]
  },
  {
   "cell_type": "markdown",
   "id": "741fb9f6",
   "metadata": {
    "id": "741fb9f6"
   },
   "source": [
    "##### With its own embedding layer:"
   ]
  },
  {
   "cell_type": "code",
   "execution_count": null,
   "id": "8095c8fb",
   "metadata": {
    "id": "8095c8fb"
   },
   "outputs": [],
   "source": [
    "from keras.models import Sequential\n",
    "from keras.layers import Embedding, LSTM, Dense, Dropout, Bidirectional\n",
    "\n",
    "model1 = Sequential()\n",
    "model1.add(Embedding(total_words, 100, input_length=5))\n",
    "model1.add(Bidirectional(LSTM(150, return_sequences=True)))\n",
    "model1.add(Dropout(0.2))\n",
    "model1.add(LSTM(100))\n",
    "model1.add(Dense(total_words, activation='softmax'))\n",
    "\n",
    "model1.compile(optimizer='adam', loss='categorical_crossentropy', metrics=['accuracy'])\n"
   ]
  },
  {
   "cell_type": "markdown",
   "id": "44ae418c",
   "metadata": {
    "id": "44ae418c"
   },
   "source": [
    "##### With pre-trained embeddings:"
   ]
  },
  {
   "cell_type": "code",
   "execution_count": null,
   "id": "90591dd3",
   "metadata": {
    "id": "90591dd3"
   },
   "outputs": [],
   "source": [
    "# Load the word2vec model\n",
    "import numpy as np\n",
    "model_gensim = Word2Vec.load(\"word2vec.model\")\n",
    "embedding_matrix = np.zeros((total_words, 100))\n",
    "for word, i in tokenizer.word_index.items():\n",
    "    try:\n",
    "        embedding_vector = model_gensim.wv[word]\n",
    "        if embedding_vector is not None:\n",
    "            embedding_matrix[i] = embedding_vector\n",
    "    except KeyError:\n",
    "        # Word not present in gensim model, a zero embedding will be used for this word\n",
    "        pass\n",
    "\n",
    "\n",
    "model2 = Sequential()\n",
    "model2.add(Embedding(total_words, 100, weights=[embedding_matrix], input_length=5, trainable=False))\n",
    "model2.add(Bidirectional(LSTM(150, return_sequences=True)))\n",
    "model2.add(Dropout(0.2))\n",
    "model2.add(LSTM(100))\n",
    "model2.add(Dense(total_words, activation='softmax'))\n",
    "\n",
    "model2.compile(optimizer='adam', loss='categorical_crossentropy', metrics=['accuracy'])\n"
   ]
  },
  {
   "cell_type": "markdown",
   "id": "12ca3b79",
   "metadata": {
    "id": "12ca3b79"
   },
   "source": [
    "### 5. Training & Testing"
   ]
  },
  {
   "cell_type": "code",
   "execution_count": null,
   "id": "eb129419",
   "metadata": {
    "colab": {
     "base_uri": "https://localhost:8080/"
    },
    "id": "eb129419",
    "outputId": "7ba46db3-379e-4b0a-b7fc-99d889c7fad0"
   },
   "outputs": [
    {
     "name": "stdout",
     "output_type": "stream",
     "text": [
      "Epoch 1/100\n",
      "85/85 [==============================] - 19s 106ms/step - loss: 7.5393 - accuracy: 0.0321 - val_loss: 7.4901 - val_accuracy: 0.0315\n",
      "Epoch 2/100\n",
      "85/85 [==============================] - 8s 93ms/step - loss: 6.9763 - accuracy: 0.0362 - val_loss: 7.6979 - val_accuracy: 0.0310\n",
      "Epoch 3/100\n",
      "85/85 [==============================] - 9s 106ms/step - loss: 6.6930 - accuracy: 0.0369 - val_loss: 7.8758 - val_accuracy: 0.0271\n",
      "Epoch 4/100\n",
      "85/85 [==============================] - 6s 73ms/step - loss: 6.3674 - accuracy: 0.0376 - val_loss: 8.1758 - val_accuracy: 0.0216\n",
      "Epoch 5/100\n",
      "85/85 [==============================] - 12s 138ms/step - loss: 6.0821 - accuracy: 0.0387 - val_loss: 8.3330 - val_accuracy: 0.0194\n",
      "Epoch 6/100\n",
      "85/85 [==============================] - 6s 73ms/step - loss: 5.8419 - accuracy: 0.0402 - val_loss: 8.5727 - val_accuracy: 0.0216\n",
      "Epoch 7/100\n",
      "85/85 [==============================] - 8s 100ms/step - loss: 5.6117 - accuracy: 0.0439 - val_loss: 8.7415 - val_accuracy: 0.0205\n",
      "Epoch 8/100\n",
      "85/85 [==============================] - 8s 91ms/step - loss: 5.4184 - accuracy: 0.0513 - val_loss: 8.8107 - val_accuracy: 0.0210\n",
      "Epoch 9/100\n",
      "85/85 [==============================] - 6s 68ms/step - loss: 5.2460 - accuracy: 0.0568 - val_loss: 8.8935 - val_accuracy: 0.0255\n",
      "Epoch 10/100\n",
      "85/85 [==============================] - 11s 130ms/step - loss: 5.0915 - accuracy: 0.0649 - val_loss: 8.8954 - val_accuracy: 0.0260\n",
      "Epoch 11/100\n",
      "85/85 [==============================] - 6s 68ms/step - loss: 4.9499 - accuracy: 0.0720 - val_loss: 8.9966 - val_accuracy: 0.0249\n",
      "Epoch 12/100\n",
      "85/85 [==============================] - 9s 101ms/step - loss: 4.7989 - accuracy: 0.0768 - val_loss: 8.9450 - val_accuracy: 0.0232\n",
      "Epoch 13/100\n",
      "85/85 [==============================] - 7s 83ms/step - loss: 4.6489 - accuracy: 0.0801 - val_loss: 9.0075 - val_accuracy: 0.0327\n",
      "Epoch 14/100\n",
      "85/85 [==============================] - 6s 68ms/step - loss: 4.5125 - accuracy: 0.0952 - val_loss: 8.9854 - val_accuracy: 0.0343\n",
      "Epoch 15/100\n",
      "85/85 [==============================] - 10s 118ms/step - loss: 4.3753 - accuracy: 0.1122 - val_loss: 9.0228 - val_accuracy: 0.0376\n",
      "Epoch 16/100\n",
      "85/85 [==============================] - 12s 143ms/step - loss: 4.2591 - accuracy: 0.1269 - val_loss: 9.0784 - val_accuracy: 0.0354\n",
      "Epoch 17/100\n",
      "85/85 [==============================] - 10s 116ms/step - loss: 4.1324 - accuracy: 0.1406 - val_loss: 9.0659 - val_accuracy: 0.0448\n",
      "Epoch 18/100\n",
      "85/85 [==============================] - 6s 69ms/step - loss: 4.0251 - accuracy: 0.1454 - val_loss: 9.1253 - val_accuracy: 0.0476\n",
      "Epoch 19/100\n",
      "85/85 [==============================] - 7s 83ms/step - loss: 3.9031 - accuracy: 0.1531 - val_loss: 9.1350 - val_accuracy: 0.0476\n",
      "Epoch 20/100\n",
      "85/85 [==============================] - 8s 97ms/step - loss: 3.7921 - accuracy: 0.1779 - val_loss: 9.1890 - val_accuracy: 0.0598\n",
      "Epoch 21/100\n",
      "85/85 [==============================] - 6s 66ms/step - loss: 3.6968 - accuracy: 0.1882 - val_loss: 9.1927 - val_accuracy: 0.0609\n",
      "Epoch 22/100\n",
      "85/85 [==============================] - 9s 109ms/step - loss: 3.5909 - accuracy: 0.2018 - val_loss: 9.1955 - val_accuracy: 0.0670\n",
      "Epoch 23/100\n",
      "85/85 [==============================] - 6s 72ms/step - loss: 3.4967 - accuracy: 0.2170 - val_loss: 9.2125 - val_accuracy: 0.0697\n",
      "Epoch 24/100\n",
      "85/85 [==============================] - 5s 64ms/step - loss: 3.4006 - accuracy: 0.2292 - val_loss: 9.2639 - val_accuracy: 0.0703\n",
      "Epoch 25/100\n",
      "85/85 [==============================] - 11s 129ms/step - loss: 3.3146 - accuracy: 0.2410 - val_loss: 9.2599 - val_accuracy: 0.0797\n",
      "Epoch 26/100\n",
      "85/85 [==============================] - 5s 62ms/step - loss: 3.2229 - accuracy: 0.2646 - val_loss: 9.3205 - val_accuracy: 0.0797\n",
      "Epoch 27/100\n",
      "85/85 [==============================] - 8s 92ms/step - loss: 3.1179 - accuracy: 0.2856 - val_loss: 9.3349 - val_accuracy: 0.0858\n",
      "Epoch 28/100\n",
      "85/85 [==============================] - 8s 95ms/step - loss: 3.0422 - accuracy: 0.3026 - val_loss: 9.3347 - val_accuracy: 0.0935\n",
      "Epoch 29/100\n",
      "85/85 [==============================] - 6s 67ms/step - loss: 2.9591 - accuracy: 0.3140 - val_loss: 9.3448 - val_accuracy: 0.0980\n",
      "Epoch 30/100\n",
      "85/85 [==============================] - 11s 126ms/step - loss: 2.8623 - accuracy: 0.3446 - val_loss: 9.3617 - val_accuracy: 0.1035\n",
      "Epoch 31/100\n",
      "85/85 [==============================] - 6s 68ms/step - loss: 2.7595 - accuracy: 0.3694 - val_loss: 9.4051 - val_accuracy: 0.1118\n",
      "Epoch 32/100\n",
      "85/85 [==============================] - 8s 94ms/step - loss: 2.6733 - accuracy: 0.3967 - val_loss: 9.3714 - val_accuracy: 0.1063\n",
      "Epoch 33/100\n",
      "85/85 [==============================] - 8s 92ms/step - loss: 2.6062 - accuracy: 0.4170 - val_loss: 9.3886 - val_accuracy: 0.1229\n",
      "Epoch 34/100\n",
      "85/85 [==============================] - 6s 67ms/step - loss: 2.5419 - accuracy: 0.4214 - val_loss: 9.3925 - val_accuracy: 0.1295\n",
      "Epoch 35/100\n",
      "85/85 [==============================] - 11s 126ms/step - loss: 2.4561 - accuracy: 0.4506 - val_loss: 9.4211 - val_accuracy: 0.1339\n",
      "Epoch 36/100\n",
      "85/85 [==============================] - 5s 63ms/step - loss: 2.3902 - accuracy: 0.4598 - val_loss: 9.4400 - val_accuracy: 0.1245\n",
      "Epoch 37/100\n",
      "85/85 [==============================] - 8s 90ms/step - loss: 2.3075 - accuracy: 0.4838 - val_loss: 9.4686 - val_accuracy: 0.1483\n",
      "Epoch 38/100\n",
      "85/85 [==============================] - 8s 97ms/step - loss: 2.2162 - accuracy: 0.5210 - val_loss: 9.4602 - val_accuracy: 0.1472\n",
      "Epoch 39/100\n",
      "85/85 [==============================] - 5s 62ms/step - loss: 2.1419 - accuracy: 0.5469 - val_loss: 9.4960 - val_accuracy: 0.1461\n",
      "Epoch 40/100\n",
      "85/85 [==============================] - 9s 105ms/step - loss: 2.0823 - accuracy: 0.5517 - val_loss: 9.5217 - val_accuracy: 0.1561\n",
      "Epoch 41/100\n",
      "85/85 [==============================] - 7s 77ms/step - loss: 2.0098 - accuracy: 0.5690 - val_loss: 9.4989 - val_accuracy: 0.1566\n",
      "Epoch 42/100\n",
      "85/85 [==============================] - 6s 68ms/step - loss: 1.9573 - accuracy: 0.5900 - val_loss: 9.5144 - val_accuracy: 0.1638\n",
      "Epoch 43/100\n",
      "85/85 [==============================] - 11s 134ms/step - loss: 1.9039 - accuracy: 0.5923 - val_loss: 9.5744 - val_accuracy: 0.1577\n",
      "Epoch 44/100\n",
      "85/85 [==============================] - 6s 70ms/step - loss: 1.8411 - accuracy: 0.6170 - val_loss: 9.5467 - val_accuracy: 0.1721\n",
      "Epoch 45/100\n",
      "85/85 [==============================] - 9s 106ms/step - loss: 1.7692 - accuracy: 0.6351 - val_loss: 9.5503 - val_accuracy: 0.1754\n",
      "Epoch 46/100\n",
      "85/85 [==============================] - 7s 77ms/step - loss: 1.6877 - accuracy: 0.6657 - val_loss: 9.6170 - val_accuracy: 0.1749\n",
      "Epoch 47/100\n",
      "85/85 [==============================] - 5s 64ms/step - loss: 1.6345 - accuracy: 0.6841 - val_loss: 9.5921 - val_accuracy: 0.1837\n",
      "Epoch 48/100\n",
      "85/85 [==============================] - 10s 115ms/step - loss: 1.5834 - accuracy: 0.6871 - val_loss: 9.5447 - val_accuracy: 0.1976\n",
      "Epoch 49/100\n",
      "85/85 [==============================] - 6s 71ms/step - loss: 1.5138 - accuracy: 0.7129 - val_loss: 9.6249 - val_accuracy: 0.1915\n",
      "Epoch 50/100\n",
      "85/85 [==============================] - 7s 87ms/step - loss: 1.4716 - accuracy: 0.7196 - val_loss: 9.6165 - val_accuracy: 0.1987\n",
      "Epoch 51/100\n",
      "85/85 [==============================] - 9s 104ms/step - loss: 1.4166 - accuracy: 0.7399 - val_loss: 9.6509 - val_accuracy: 0.1965\n",
      "Epoch 52/100\n",
      "85/85 [==============================] - 5s 62ms/step - loss: 1.3691 - accuracy: 0.7402 - val_loss: 9.6555 - val_accuracy: 0.1937\n",
      "Epoch 53/100\n",
      "85/85 [==============================] - 9s 101ms/step - loss: 1.3300 - accuracy: 0.7635 - val_loss: 9.7151 - val_accuracy: 0.2048\n",
      "Epoch 54/100\n",
      "85/85 [==============================] - 7s 76ms/step - loss: 1.2699 - accuracy: 0.7701 - val_loss: 9.6899 - val_accuracy: 0.2153\n",
      "Epoch 55/100\n",
      "85/85 [==============================] - 6s 67ms/step - loss: 1.2341 - accuracy: 0.7790 - val_loss: 9.7215 - val_accuracy: 0.2131\n",
      "Epoch 56/100\n",
      "85/85 [==============================] - 11s 130ms/step - loss: 1.2129 - accuracy: 0.7871 - val_loss: 9.7098 - val_accuracy: 0.2125\n",
      "Epoch 57/100\n",
      "85/85 [==============================] - 6s 69ms/step - loss: 1.1819 - accuracy: 0.7867 - val_loss: 9.7384 - val_accuracy: 0.2092\n",
      "Epoch 58/100\n",
      "85/85 [==============================] - 8s 100ms/step - loss: 1.1273 - accuracy: 0.8018 - val_loss: 9.7482 - val_accuracy: 0.2164\n",
      "Epoch 59/100\n",
      "85/85 [==============================] - 7s 85ms/step - loss: 1.0490 - accuracy: 0.8181 - val_loss: 9.7662 - val_accuracy: 0.2263\n",
      "Epoch 60/100\n",
      "85/85 [==============================] - 5s 64ms/step - loss: 1.0038 - accuracy: 0.8321 - val_loss: 9.7487 - val_accuracy: 0.2324\n",
      "Epoch 61/100\n",
      "85/85 [==============================] - 10s 122ms/step - loss: 0.9561 - accuracy: 0.8406 - val_loss: 9.7655 - val_accuracy: 0.2363\n",
      "Epoch 62/100\n",
      "85/85 [==============================] - 5s 63ms/step - loss: 0.9202 - accuracy: 0.8472 - val_loss: 9.8040 - val_accuracy: 0.2380\n",
      "Epoch 63/100\n",
      "85/85 [==============================] - 7s 84ms/step - loss: 0.8838 - accuracy: 0.8587 - val_loss: 9.8156 - val_accuracy: 0.2407\n",
      "Epoch 64/100\n",
      "85/85 [==============================] - 9s 103ms/step - loss: 0.8531 - accuracy: 0.8649 - val_loss: 9.8094 - val_accuracy: 0.2413\n",
      "Epoch 65/100\n",
      "85/85 [==============================] - 6s 70ms/step - loss: 0.8134 - accuracy: 0.8712 - val_loss: 9.8267 - val_accuracy: 0.2452\n",
      "Epoch 66/100\n",
      "85/85 [==============================] - 10s 119ms/step - loss: 0.7788 - accuracy: 0.8878 - val_loss: 9.8574 - val_accuracy: 0.2463\n",
      "Epoch 67/100\n",
      "85/85 [==============================] - 5s 63ms/step - loss: 0.7506 - accuracy: 0.8886 - val_loss: 9.8886 - val_accuracy: 0.2490\n",
      "Epoch 68/100\n",
      "85/85 [==============================] - 7s 84ms/step - loss: 0.7524 - accuracy: 0.8764 - val_loss: 9.9046 - val_accuracy: 0.2474\n",
      "Epoch 69/100\n",
      "85/85 [==============================] - 8s 98ms/step - loss: 0.7307 - accuracy: 0.8841 - val_loss: 9.9240 - val_accuracy: 0.2474\n",
      "Epoch 70/100\n",
      "85/85 [==============================] - 6s 68ms/step - loss: 0.7046 - accuracy: 0.8867 - val_loss: 9.9158 - val_accuracy: 0.2485\n",
      "Epoch 71/100\n",
      "85/85 [==============================] - 10s 114ms/step - loss: 0.6597 - accuracy: 0.9015 - val_loss: 9.9651 - val_accuracy: 0.2518\n",
      "Epoch 72/100\n",
      "85/85 [==============================] - 6s 72ms/step - loss: 0.6510 - accuracy: 0.9022 - val_loss: 9.9491 - val_accuracy: 0.2590\n",
      "Epoch 73/100\n",
      "85/85 [==============================] - 6s 70ms/step - loss: 0.6177 - accuracy: 0.9063 - val_loss: 9.9678 - val_accuracy: 0.2524\n",
      "Epoch 74/100\n",
      "85/85 [==============================] - 10s 119ms/step - loss: 0.6073 - accuracy: 0.9066 - val_loss: 9.9391 - val_accuracy: 0.2557\n",
      "Epoch 75/100\n",
      "85/85 [==============================] - 6s 69ms/step - loss: 0.5736 - accuracy: 0.9162 - val_loss: 9.9559 - val_accuracy: 0.2634\n",
      "Epoch 76/100\n",
      "85/85 [==============================] - 9s 101ms/step - loss: 0.5479 - accuracy: 0.9188 - val_loss: 9.9948 - val_accuracy: 0.2634\n",
      "Epoch 77/100\n",
      "85/85 [==============================] - 8s 90ms/step - loss: 0.5409 - accuracy: 0.9244 - val_loss: 9.9898 - val_accuracy: 0.2590\n",
      "Epoch 78/100\n",
      "85/85 [==============================] - 6s 74ms/step - loss: 0.5274 - accuracy: 0.9210 - val_loss: 10.0437 - val_accuracy: 0.2579\n",
      "Epoch 79/100\n",
      "85/85 [==============================] - 10s 122ms/step - loss: 0.5321 - accuracy: 0.9196 - val_loss: 10.0966 - val_accuracy: 0.2590\n",
      "Epoch 80/100\n",
      "85/85 [==============================] - 6s 69ms/step - loss: 0.5168 - accuracy: 0.9207 - val_loss: 10.0784 - val_accuracy: 0.2634\n",
      "Epoch 81/100\n",
      "85/85 [==============================] - 9s 101ms/step - loss: 0.5063 - accuracy: 0.9251 - val_loss: 10.0702 - val_accuracy: 0.2673\n",
      "Epoch 82/100\n",
      "85/85 [==============================] - 7s 87ms/step - loss: 0.4841 - accuracy: 0.9255 - val_loss: 10.0709 - val_accuracy: 0.2684\n",
      "Epoch 83/100\n",
      "85/85 [==============================] - 6s 69ms/step - loss: 0.4502 - accuracy: 0.9332 - val_loss: 10.1242 - val_accuracy: 0.2684\n",
      "Epoch 84/100\n",
      "85/85 [==============================] - 10s 117ms/step - loss: 0.4251 - accuracy: 0.9380 - val_loss: 10.1414 - val_accuracy: 0.2750\n",
      "Epoch 85/100\n",
      "85/85 [==============================] - 6s 69ms/step - loss: 0.4065 - accuracy: 0.9395 - val_loss: 10.1778 - val_accuracy: 0.2695\n",
      "Epoch 86/100\n",
      "85/85 [==============================] - 8s 95ms/step - loss: 0.3947 - accuracy: 0.9410 - val_loss: 10.1768 - val_accuracy: 0.2678\n",
      "Epoch 87/100\n",
      "85/85 [==============================] - 7s 83ms/step - loss: 0.4164 - accuracy: 0.9380 - val_loss: 10.1739 - val_accuracy: 0.2678\n",
      "Epoch 88/100\n",
      "85/85 [==============================] - 6s 71ms/step - loss: 0.4028 - accuracy: 0.9373 - val_loss: 10.1886 - val_accuracy: 0.2695\n",
      "Epoch 89/100\n",
      "85/85 [==============================] - 11s 132ms/step - loss: 0.3904 - accuracy: 0.9421 - val_loss: 10.1533 - val_accuracy: 0.2767\n",
      "Epoch 90/100\n",
      "85/85 [==============================] - 7s 84ms/step - loss: 0.3511 - accuracy: 0.9513 - val_loss: 10.2574 - val_accuracy: 0.2717\n",
      "Epoch 91/100\n",
      "85/85 [==============================] - 10s 117ms/step - loss: 0.3386 - accuracy: 0.9494 - val_loss: 10.2278 - val_accuracy: 0.2773\n",
      "Epoch 92/100\n",
      "85/85 [==============================] - 7s 80ms/step - loss: 0.3038 - accuracy: 0.9587 - val_loss: 10.2415 - val_accuracy: 0.2767\n",
      "Epoch 93/100\n",
      "85/85 [==============================] - 8s 93ms/step - loss: 0.2935 - accuracy: 0.9572 - val_loss: 10.2513 - val_accuracy: 0.2789\n",
      "Epoch 94/100\n",
      "85/85 [==============================] - 9s 100ms/step - loss: 0.3116 - accuracy: 0.9546 - val_loss: 10.3157 - val_accuracy: 0.2728\n",
      "Epoch 95/100\n",
      "85/85 [==============================] - 6s 67ms/step - loss: 0.2968 - accuracy: 0.9554 - val_loss: 10.3237 - val_accuracy: 0.2795\n",
      "Epoch 96/100\n",
      "85/85 [==============================] - 13s 149ms/step - loss: 0.2766 - accuracy: 0.9620 - val_loss: 10.3697 - val_accuracy: 0.2761\n",
      "Epoch 97/100\n",
      "85/85 [==============================] - 10s 113ms/step - loss: 0.2831 - accuracy: 0.9565 - val_loss: 10.3499 - val_accuracy: 0.2784\n",
      "Epoch 98/100\n",
      "85/85 [==============================] - 10s 123ms/step - loss: 0.2693 - accuracy: 0.9561 - val_loss: 10.3735 - val_accuracy: 0.2795\n",
      "Epoch 99/100\n",
      "85/85 [==============================] - 6s 73ms/step - loss: 0.2541 - accuracy: 0.9609 - val_loss: 10.3804 - val_accuracy: 0.2784\n",
      "Epoch 100/100\n",
      "85/85 [==============================] - 9s 103ms/step - loss: 0.2528 - accuracy: 0.9605 - val_loss: 10.4687 - val_accuracy: 0.2806\n",
      "Epoch 1/100\n",
      "85/85 [==============================] - 15s 76ms/step - loss: 7.5302 - accuracy: 0.0325 - val_loss: 7.5552 - val_accuracy: 0.0315\n",
      "Epoch 2/100\n",
      "85/85 [==============================] - 9s 102ms/step - loss: 7.0628 - accuracy: 0.0362 - val_loss: 7.7283 - val_accuracy: 0.0315\n",
      "Epoch 3/100\n",
      "85/85 [==============================] - 5s 61ms/step - loss: 6.9695 - accuracy: 0.0362 - val_loss: 7.9771 - val_accuracy: 0.0315\n",
      "Epoch 4/100\n",
      "85/85 [==============================] - 5s 63ms/step - loss: 6.9403 - accuracy: 0.0362 - val_loss: 7.9918 - val_accuracy: 0.0315\n",
      "Epoch 5/100\n",
      "85/85 [==============================] - 8s 98ms/step - loss: 6.9266 - accuracy: 0.0362 - val_loss: 8.1686 - val_accuracy: 0.0315\n",
      "Epoch 6/100\n",
      "85/85 [==============================] - 5s 62ms/step - loss: 6.9177 - accuracy: 0.0362 - val_loss: 8.3316 - val_accuracy: 0.0315\n",
      "Epoch 7/100\n",
      "85/85 [==============================] - 7s 84ms/step - loss: 6.9030 - accuracy: 0.0362 - val_loss: 8.1275 - val_accuracy: 0.0315\n",
      "Epoch 8/100\n",
      "85/85 [==============================] - 7s 85ms/step - loss: 6.8925 - accuracy: 0.0362 - val_loss: 8.5182 - val_accuracy: 0.0315\n",
      "Epoch 9/100\n",
      "85/85 [==============================] - 5s 62ms/step - loss: 6.8878 - accuracy: 0.0362 - val_loss: 8.3809 - val_accuracy: 0.0315\n",
      "Epoch 10/100\n",
      "85/85 [==============================] - 9s 109ms/step - loss: 6.8707 - accuracy: 0.0362 - val_loss: 8.3768 - val_accuracy: 0.0315\n",
      "Epoch 11/100\n",
      "85/85 [==============================] - 5s 61ms/step - loss: 6.8597 - accuracy: 0.0362 - val_loss: 8.6311 - val_accuracy: 0.0315\n",
      "Epoch 12/100\n",
      "85/85 [==============================] - 5s 61ms/step - loss: 6.8136 - accuracy: 0.0362 - val_loss: 8.4800 - val_accuracy: 0.0315\n",
      "Epoch 13/100\n",
      "85/85 [==============================] - 9s 101ms/step - loss: 6.7201 - accuracy: 0.0351 - val_loss: 8.5913 - val_accuracy: 0.0304\n",
      "Epoch 14/100\n",
      "85/85 [==============================] - 5s 62ms/step - loss: 6.6181 - accuracy: 0.0343 - val_loss: 8.3520 - val_accuracy: 0.0288\n",
      "Epoch 15/100\n",
      "85/85 [==============================] - 7s 78ms/step - loss: 6.5321 - accuracy: 0.0354 - val_loss: 8.5355 - val_accuracy: 0.0299\n",
      "Epoch 16/100\n",
      "85/85 [==============================] - 7s 83ms/step - loss: 6.4277 - accuracy: 0.0351 - val_loss: 8.7513 - val_accuracy: 0.0299\n",
      "Epoch 17/100\n",
      "85/85 [==============================] - 5s 61ms/step - loss: 6.3244 - accuracy: 0.0365 - val_loss: 9.1909 - val_accuracy: 0.0304\n",
      "Epoch 18/100\n",
      "85/85 [==============================] - 7s 83ms/step - loss: 6.2312 - accuracy: 0.0343 - val_loss: 8.9159 - val_accuracy: 0.0266\n",
      "Epoch 19/100\n",
      "85/85 [==============================] - 7s 84ms/step - loss: 6.1152 - accuracy: 0.0325 - val_loss: 8.8691 - val_accuracy: 0.0249\n",
      "Epoch 20/100\n",
      "85/85 [==============================] - 5s 61ms/step - loss: 5.9774 - accuracy: 0.0362 - val_loss: 9.1025 - val_accuracy: 0.0260\n",
      "Epoch 21/100\n",
      "85/85 [==============================] - 9s 109ms/step - loss: 5.8275 - accuracy: 0.0384 - val_loss: 9.1786 - val_accuracy: 0.0255\n",
      "Epoch 22/100\n",
      "85/85 [==============================] - 5s 61ms/step - loss: 5.6698 - accuracy: 0.0406 - val_loss: 9.1721 - val_accuracy: 0.0277\n",
      "Epoch 23/100\n",
      "85/85 [==============================] - 5s 59ms/step - loss: 5.5224 - accuracy: 0.0391 - val_loss: 9.2994 - val_accuracy: 0.0282\n",
      "Epoch 24/100\n",
      "85/85 [==============================] - 10s 113ms/step - loss: 5.4084 - accuracy: 0.0410 - val_loss: 9.2978 - val_accuracy: 0.0266\n",
      "Epoch 25/100\n",
      "85/85 [==============================] - 5s 63ms/step - loss: 5.3045 - accuracy: 0.0443 - val_loss: 9.3147 - val_accuracy: 0.0260\n",
      "Epoch 26/100\n",
      "85/85 [==============================] - 6s 70ms/step - loss: 5.2066 - accuracy: 0.0443 - val_loss: 9.4584 - val_accuracy: 0.0271\n",
      "Epoch 27/100\n",
      "85/85 [==============================] - 8s 100ms/step - loss: 5.1125 - accuracy: 0.0491 - val_loss: 9.4100 - val_accuracy: 0.0249\n",
      "Epoch 28/100\n",
      "85/85 [==============================] - 5s 64ms/step - loss: 5.0188 - accuracy: 0.0517 - val_loss: 9.4139 - val_accuracy: 0.0255\n",
      "Epoch 29/100\n",
      "85/85 [==============================] - 7s 85ms/step - loss: 4.9563 - accuracy: 0.0494 - val_loss: 9.4255 - val_accuracy: 0.0210\n",
      "Epoch 30/100\n",
      "85/85 [==============================] - 6s 75ms/step - loss: 4.8698 - accuracy: 0.0528 - val_loss: 9.6395 - val_accuracy: 0.0221\n",
      "Epoch 31/100\n",
      "85/85 [==============================] - 5s 55ms/step - loss: 4.7925 - accuracy: 0.0579 - val_loss: 9.5247 - val_accuracy: 0.0221\n",
      "Epoch 32/100\n",
      "85/85 [==============================] - 8s 95ms/step - loss: 4.7290 - accuracy: 0.0587 - val_loss: 9.5823 - val_accuracy: 0.0205\n",
      "Epoch 33/100\n",
      "85/85 [==============================] - 6s 67ms/step - loss: 4.6861 - accuracy: 0.0557 - val_loss: 9.6363 - val_accuracy: 0.0249\n",
      "Epoch 34/100\n",
      "85/85 [==============================] - 5s 57ms/step - loss: 4.6216 - accuracy: 0.0635 - val_loss: 9.6585 - val_accuracy: 0.0205\n",
      "Epoch 35/100\n",
      "85/85 [==============================] - 9s 108ms/step - loss: 4.5606 - accuracy: 0.0690 - val_loss: 9.6949 - val_accuracy: 0.0210\n",
      "Epoch 36/100\n",
      "85/85 [==============================] - 5s 61ms/step - loss: 4.4926 - accuracy: 0.0712 - val_loss: 9.7004 - val_accuracy: 0.0227\n",
      "Epoch 37/100\n",
      "85/85 [==============================] - 5s 59ms/step - loss: 4.4347 - accuracy: 0.0775 - val_loss: 9.7796 - val_accuracy: 0.0210\n",
      "Epoch 38/100\n",
      "85/85 [==============================] - 9s 110ms/step - loss: 4.3960 - accuracy: 0.0779 - val_loss: 9.8259 - val_accuracy: 0.0255\n",
      "Epoch 39/100\n",
      "85/85 [==============================] - 5s 62ms/step - loss: 4.3422 - accuracy: 0.0819 - val_loss: 9.7663 - val_accuracy: 0.0271\n",
      "Epoch 40/100\n",
      "85/85 [==============================] - 7s 78ms/step - loss: 4.3098 - accuracy: 0.0771 - val_loss: 9.7938 - val_accuracy: 0.0194\n",
      "Epoch 41/100\n",
      "85/85 [==============================] - 8s 89ms/step - loss: 4.2493 - accuracy: 0.0908 - val_loss: 9.8635 - val_accuracy: 0.0221\n",
      "Epoch 42/100\n",
      "85/85 [==============================] - 5s 62ms/step - loss: 4.2139 - accuracy: 0.0863 - val_loss: 9.8294 - val_accuracy: 0.0238\n",
      "Epoch 43/100\n",
      "85/85 [==============================] - 9s 106ms/step - loss: 4.1586 - accuracy: 0.0959 - val_loss: 9.8487 - val_accuracy: 0.0260\n",
      "Epoch 44/100\n",
      "85/85 [==============================] - 5s 64ms/step - loss: 4.0984 - accuracy: 0.1007 - val_loss: 9.8995 - val_accuracy: 0.0243\n",
      "Epoch 45/100\n",
      "85/85 [==============================] - 5s 55ms/step - loss: 4.0574 - accuracy: 0.1111 - val_loss: 9.9386 - val_accuracy: 0.0210\n",
      "Epoch 46/100\n",
      "85/85 [==============================] - 10s 121ms/step - loss: 4.0022 - accuracy: 0.1144 - val_loss: 9.9580 - val_accuracy: 0.0243\n",
      "Epoch 47/100\n",
      "85/85 [==============================] - 6s 65ms/step - loss: 3.9617 - accuracy: 0.1192 - val_loss: 9.9949 - val_accuracy: 0.0271\n",
      "Epoch 48/100\n",
      "85/85 [==============================] - 8s 96ms/step - loss: 3.9372 - accuracy: 0.1240 - val_loss: 10.0075 - val_accuracy: 0.0255\n",
      "Epoch 49/100\n",
      "85/85 [==============================] - 7s 77ms/step - loss: 3.8953 - accuracy: 0.1210 - val_loss: 10.0624 - val_accuracy: 0.0227\n",
      "Epoch 50/100\n",
      "85/85 [==============================] - 5s 59ms/step - loss: 3.8753 - accuracy: 0.1225 - val_loss: 10.0390 - val_accuracy: 0.0277\n",
      "Epoch 51/100\n",
      "85/85 [==============================] - 9s 112ms/step - loss: 3.8486 - accuracy: 0.1251 - val_loss: 10.0794 - val_accuracy: 0.0249\n",
      "Epoch 52/100\n",
      "85/85 [==============================] - 5s 64ms/step - loss: 3.7760 - accuracy: 0.1399 - val_loss: 10.0904 - val_accuracy: 0.0271\n",
      "Epoch 53/100\n",
      "85/85 [==============================] - 5s 63ms/step - loss: 3.7574 - accuracy: 0.1365 - val_loss: 10.0986 - val_accuracy: 0.0321\n",
      "Epoch 54/100\n",
      "85/85 [==============================] - 9s 110ms/step - loss: 3.7054 - accuracy: 0.1483 - val_loss: 10.1451 - val_accuracy: 0.0304\n",
      "Epoch 55/100\n",
      "85/85 [==============================] - 5s 64ms/step - loss: 3.6657 - accuracy: 0.1472 - val_loss: 10.1474 - val_accuracy: 0.0299\n",
      "Epoch 56/100\n",
      "85/85 [==============================] - 7s 83ms/step - loss: 3.6329 - accuracy: 0.1565 - val_loss: 10.1437 - val_accuracy: 0.0365\n",
      "Epoch 57/100\n",
      "85/85 [==============================] - 8s 94ms/step - loss: 3.6233 - accuracy: 0.1542 - val_loss: 10.1839 - val_accuracy: 0.0277\n",
      "Epoch 58/100\n",
      "85/85 [==============================] - 5s 57ms/step - loss: 3.5734 - accuracy: 0.1613 - val_loss: 10.2068 - val_accuracy: 0.0343\n",
      "Epoch 59/100\n",
      "85/85 [==============================] - 9s 107ms/step - loss: 3.5716 - accuracy: 0.1635 - val_loss: 10.2179 - val_accuracy: 0.0382\n",
      "Epoch 60/100\n",
      "85/85 [==============================] - 6s 69ms/step - loss: 3.5113 - accuracy: 0.1804 - val_loss: 10.2407 - val_accuracy: 0.0360\n",
      "Epoch 61/100\n",
      "85/85 [==============================] - 5s 63ms/step - loss: 3.4642 - accuracy: 0.1863 - val_loss: 10.2497 - val_accuracy: 0.0293\n",
      "Epoch 62/100\n",
      "85/85 [==============================] - 9s 111ms/step - loss: 3.4468 - accuracy: 0.1804 - val_loss: 10.3224 - val_accuracy: 0.0354\n",
      "Epoch 63/100\n",
      "85/85 [==============================] - 5s 58ms/step - loss: 3.4303 - accuracy: 0.1923 - val_loss: 10.2803 - val_accuracy: 0.0421\n",
      "Epoch 64/100\n",
      "85/85 [==============================] - 5s 65ms/step - loss: 3.3988 - accuracy: 0.1930 - val_loss: 10.4428 - val_accuracy: 0.0260\n",
      "Epoch 65/100\n",
      "85/85 [==============================] - 9s 110ms/step - loss: 3.3690 - accuracy: 0.1959 - val_loss: 10.3247 - val_accuracy: 0.0387\n",
      "Epoch 66/100\n",
      "85/85 [==============================] - 5s 64ms/step - loss: 3.3111 - accuracy: 0.2155 - val_loss: 10.3204 - val_accuracy: 0.0360\n",
      "Epoch 67/100\n",
      "85/85 [==============================] - 8s 94ms/step - loss: 3.2667 - accuracy: 0.2100 - val_loss: 10.3216 - val_accuracy: 0.0426\n",
      "Epoch 68/100\n",
      "85/85 [==============================] - 7s 86ms/step - loss: 3.2799 - accuracy: 0.2118 - val_loss: 10.4299 - val_accuracy: 0.0404\n",
      "Epoch 69/100\n",
      "85/85 [==============================] - 6s 68ms/step - loss: 3.3675 - accuracy: 0.1952 - val_loss: 10.4023 - val_accuracy: 0.0410\n",
      "Epoch 70/100\n",
      "85/85 [==============================] - 10s 121ms/step - loss: 3.2280 - accuracy: 0.2203 - val_loss: 10.4130 - val_accuracy: 0.0387\n",
      "Epoch 71/100\n",
      "85/85 [==============================] - 6s 68ms/step - loss: 3.1870 - accuracy: 0.2240 - val_loss: 10.4078 - val_accuracy: 0.0498\n",
      "Epoch 72/100\n",
      "85/85 [==============================] - 8s 98ms/step - loss: 3.1191 - accuracy: 0.2491 - val_loss: 10.3977 - val_accuracy: 0.0531\n",
      "Epoch 73/100\n",
      "85/85 [==============================] - 7s 84ms/step - loss: 3.0976 - accuracy: 0.2524 - val_loss: 10.4416 - val_accuracy: 0.0526\n",
      "Epoch 74/100\n",
      "85/85 [==============================] - 6s 69ms/step - loss: 3.1076 - accuracy: 0.2469 - val_loss: 10.5153 - val_accuracy: 0.0520\n",
      "Epoch 75/100\n",
      "85/85 [==============================] - 9s 112ms/step - loss: 3.1515 - accuracy: 0.2435 - val_loss: 10.4831 - val_accuracy: 0.0465\n",
      "Epoch 76/100\n",
      "85/85 [==============================] - 5s 63ms/step - loss: 3.1261 - accuracy: 0.2410 - val_loss: 10.5090 - val_accuracy: 0.0587\n",
      "Epoch 77/100\n",
      "85/85 [==============================] - 7s 83ms/step - loss: 2.9928 - accuracy: 0.2779 - val_loss: 10.5128 - val_accuracy: 0.0609\n",
      "Epoch 78/100\n",
      "85/85 [==============================] - 8s 98ms/step - loss: 2.9943 - accuracy: 0.2749 - val_loss: 10.5291 - val_accuracy: 0.0631\n",
      "Epoch 79/100\n",
      "85/85 [==============================] - 5s 62ms/step - loss: 2.9190 - accuracy: 0.2915 - val_loss: 10.5520 - val_accuracy: 0.0708\n",
      "Epoch 80/100\n",
      "85/85 [==============================] - 8s 100ms/step - loss: 2.9244 - accuracy: 0.2926 - val_loss: 10.5907 - val_accuracy: 0.0592\n",
      "Epoch 81/100\n",
      "85/85 [==============================] - 6s 69ms/step - loss: 2.9288 - accuracy: 0.2823 - val_loss: 10.6315 - val_accuracy: 0.0570\n",
      "Epoch 82/100\n",
      "85/85 [==============================] - 5s 61ms/step - loss: 2.8740 - accuracy: 0.2923 - val_loss: 10.6387 - val_accuracy: 0.0625\n",
      "Epoch 83/100\n",
      "85/85 [==============================] - 10s 119ms/step - loss: 2.8494 - accuracy: 0.3089 - val_loss: 10.5837 - val_accuracy: 0.0786\n",
      "Epoch 84/100\n",
      "85/85 [==============================] - 5s 56ms/step - loss: 2.8134 - accuracy: 0.3081 - val_loss: 10.6342 - val_accuracy: 0.0725\n",
      "Epoch 85/100\n",
      "85/85 [==============================] - 7s 78ms/step - loss: 2.8320 - accuracy: 0.3070 - val_loss: 10.6545 - val_accuracy: 0.0659\n",
      "Epoch 86/100\n",
      "85/85 [==============================] - 8s 94ms/step - loss: 2.7967 - accuracy: 0.3258 - val_loss: 10.6610 - val_accuracy: 0.0708\n",
      "Epoch 87/100\n",
      "85/85 [==============================] - 5s 64ms/step - loss: 2.8167 - accuracy: 0.3144 - val_loss: 10.7187 - val_accuracy: 0.0587\n",
      "Epoch 88/100\n",
      "85/85 [==============================] - 9s 102ms/step - loss: 2.7586 - accuracy: 0.3218 - val_loss: 10.6914 - val_accuracy: 0.0780\n",
      "Epoch 89/100\n",
      "85/85 [==============================] - 6s 69ms/step - loss: 2.7524 - accuracy: 0.3185 - val_loss: 10.7146 - val_accuracy: 0.0753\n",
      "Epoch 90/100\n",
      "85/85 [==============================] - 5s 59ms/step - loss: 2.7361 - accuracy: 0.3262 - val_loss: 10.7281 - val_accuracy: 0.0780\n",
      "Epoch 91/100\n",
      "85/85 [==============================] - 10s 117ms/step - loss: 2.6329 - accuracy: 0.3572 - val_loss: 10.7117 - val_accuracy: 0.0847\n",
      "Epoch 92/100\n",
      "85/85 [==============================] - 6s 65ms/step - loss: 2.6122 - accuracy: 0.3649 - val_loss: 10.7854 - val_accuracy: 0.0825\n",
      "Epoch 93/100\n",
      "85/85 [==============================] - 7s 83ms/step - loss: 2.6173 - accuracy: 0.3509 - val_loss: 10.7473 - val_accuracy: 0.0858\n",
      "Epoch 94/100\n",
      "85/85 [==============================] - 8s 94ms/step - loss: 2.5801 - accuracy: 0.3690 - val_loss: 10.7709 - val_accuracy: 0.0847\n",
      "Epoch 95/100\n",
      "85/85 [==============================] - 5s 59ms/step - loss: 2.6110 - accuracy: 0.3598 - val_loss: 10.8483 - val_accuracy: 0.0730\n",
      "Epoch 96/100\n",
      "85/85 [==============================] - 8s 100ms/step - loss: 2.6375 - accuracy: 0.3399 - val_loss: 10.7886 - val_accuracy: 0.0874\n",
      "Epoch 97/100\n",
      "85/85 [==============================] - 6s 73ms/step - loss: 2.5119 - accuracy: 0.3823 - val_loss: 10.8055 - val_accuracy: 0.0913\n",
      "Epoch 98/100\n",
      "85/85 [==============================] - 5s 57ms/step - loss: 2.5069 - accuracy: 0.3893 - val_loss: 10.8827 - val_accuracy: 0.0714\n",
      "Epoch 99/100\n",
      "85/85 [==============================] - 10s 116ms/step - loss: 2.6142 - accuracy: 0.3487 - val_loss: 10.8855 - val_accuracy: 0.0885\n",
      "Epoch 100/100\n",
      "85/85 [==============================] - 5s 61ms/step - loss: 2.4733 - accuracy: 0.4030 - val_loss: 10.8435 - val_accuracy: 0.1063\n"
     ]
    }
   ],
   "source": [
    "import keras\n",
    "from tensorflow.keras.preprocessing.sequence import pad_sequences\n",
    "from sklearn.model_selection import train_test_split\n",
    "\n",
    "input_sequences = []\n",
    "for line in shona_text.split('.'):\n",
    "    token_list = tokenizer.texts_to_sequences([line])[0]\n",
    "    for i in range(1, len(token_list)):\n",
    "        n_gram_sequence = token_list[:i+1]\n",
    "        input_sequences.append(n_gram_sequence)\n",
    "\n",
    "input_sequences = np.array(pad_sequences(input_sequences, maxlen=6, padding='pre'))\n",
    "X, y = input_sequences[:, :-1], input_sequences[:, -1]\n",
    "y = keras.utils.to_categorical(y, num_classes=total_words)\n",
    "\n",
    "# Split the dataset into training and validation sets\n",
    "X_train, X_val, y_train, y_val = train_test_split(X, y, test_size=0.4, random_state=42)\n",
    "\n",
    "# Training Model 1\n",
    "history1 = model1.fit(X_train, y_train, validation_data=(X_val, y_val), epochs=100, verbose=1)\n",
    "\n",
    "# Training Model 2\n",
    "history2 = model2.fit(X_train, y_train, validation_data=(X_val, y_val), epochs=100, verbose=1)"
   ]
  },
  {
   "cell_type": "markdown",
   "id": "71f72072",
   "metadata": {
    "id": "71f72072"
   },
   "source": [
    "### Model Evaluation"
   ]
  },
  {
   "cell_type": "code",
   "execution_count": null,
   "id": "79cddef6",
   "metadata": {
    "colab": {
     "base_uri": "https://localhost:8080/"
    },
    "id": "79cddef6",
    "outputId": "98ffffca-09cb-4834-d6a6-30e02e02ae24"
   },
   "outputs": [
    {
     "name": "stdout",
     "output_type": "stream",
     "text": [
      "Validation Loss for Model 1: 10.468670845031738\n",
      "Validation Loss for Model 2: 10.843488693237305\n"
     ]
    }
   ],
   "source": [
    "val_loss_model1 = history1.history['val_loss'][-1]\n",
    "val_loss_model2 = history2.history['val_loss'][-1]\n",
    "\n",
    "print(f\"Validation Loss for Model 1: {val_loss_model1}\")\n",
    "print(f\"Validation Loss for Model 2: {val_loss_model2}\")\n"
   ]
  },
  {
   "cell_type": "code",
   "execution_count": null,
   "id": "7a7969ec",
   "metadata": {
    "colab": {
     "base_uri": "https://localhost:8080/"
    },
    "id": "7a7969ec",
    "outputId": "6466a400-a511-4a2f-c7c5-c2d077abb1de"
   },
   "outputs": [
    {
     "name": "stdout",
     "output_type": "stream",
     "text": [
      "Saved the best model as best_model1.h5\n"
     ]
    }
   ],
   "source": [
    "if val_loss_model1 < val_loss_model2:\n",
    "    best_model = model1\n",
    "    best_model_name = \"best_model1.h5\"\n",
    "else:\n",
    "    best_model = model2\n",
    "    best_model_name = \"best_model2.h5\"\n",
    "\n",
    "best_model.save(best_model_name)\n",
    "print(f\"Saved the best model as {best_model_name}\")\n"
   ]
  },
  {
   "cell_type": "code",
   "execution_count": null,
   "id": "9d6e8fe0",
   "metadata": {
    "colab": {
     "base_uri": "https://localhost:8080/"
    },
    "id": "9d6e8fe0",
    "outputId": "4e695816-01a5-4ee4-bb31-ddf6ff5ae007"
   },
   "outputs": [
    {
     "name": "stdout",
     "output_type": "stream",
     "text": [
      "Model 1 has 879881 parameters.\n",
      "Model 2 has 879881 parameters.\n"
     ]
    }
   ],
   "source": [
    "params_model1 = model1.count_params()\n",
    "params_model2 = model2.count_params()\n",
    "\n",
    "print(f\"Model 1 has {params_model1} parameters.\")\n",
    "print(f\"Model 2 has {params_model2} parameters.\")\n"
   ]
  },
  {
   "cell_type": "code",
   "execution_count": null,
   "id": "0c703656",
   "metadata": {
    "colab": {
     "base_uri": "https://localhost:8080/"
    },
    "id": "0c703656",
    "outputId": "b6589a0d-f3b8-4a1e-aa99-06e32d18c69c"
   },
   "outputs": [
    {
     "name": "stdout",
     "output_type": "stream",
     "text": [
      "Please type five words in Shona: Vakapedzisira kudaro vomusairira pamwe nekumudinhidza\n",
      "The next words might be: zvayo asiya yevarwere\n"
     ]
    }
   ],
   "source": [
    "from keras.models import load_model\n",
    "from tensorflow.keras.preprocessing.sequence import pad_sequences\n",
    "\n",
    "# Load the previously saved model\n",
    "model = load_model('best_model1.h5')\n",
    "\n",
    "def predict_next_words(model, tokenizer, text, num_words=1):\n",
    "    \"\"\"\n",
    "    Predict the next set of words using the trained model.\n",
    "\n",
    "    Args:\n",
    "    - model (keras.Model): The trained model.\n",
    "    - tokenizer (Tokenizer): The tokenizer object used for preprocessing.\n",
    "    - text (str): The input text.\n",
    "    - num_words (int): The number of words to predict.\n",
    "\n",
    "    Returns:\n",
    "    - str: The predicted words.\n",
    "    \"\"\"\n",
    "    for _ in range(num_words):\n",
    "        # Tokenize and pad the text\n",
    "        sequence = tokenizer.texts_to_sequences([text])[0]\n",
    "        sequence = pad_sequences([sequence], maxlen=5, padding='pre')\n",
    "\n",
    "        # Predict the next word\n",
    "        predicted_probs = model.predict(sequence, verbose=0)\n",
    "        predicted = np.argmax(predicted_probs, axis=-1)\n",
    "\n",
    "        # Convert the predicted word index to a word\n",
    "        output_word = \"\"\n",
    "        for word, index in tokenizer.word_index.items():\n",
    "            if index == predicted:\n",
    "                output_word = word\n",
    "                break\n",
    "\n",
    "        # Append the predicted word to the text\n",
    "        text += \" \" + output_word\n",
    "\n",
    "    return ' '.join(text.split(' ')[-num_words:])\n",
    "\n",
    "\n",
    "# Prompt the user for input\n",
    "user_input = input(\"Please type five words in Shona: \")\n",
    "\n",
    "# Predict the next words\n",
    "predicted_words = predict_next_words(model, tokenizer, user_input, num_words=3)\n",
    "print(f\"The next words might be: {predicted_words}\")\n"
   ]
  },
  {
   "cell_type": "code",
   "execution_count": null,
   "id": "0ffb4ec5",
   "metadata": {
    "id": "0ffb4ec5"
   },
   "outputs": [],
   "source": []
  }
 ],
 "metadata": {
  "accelerator": "TPU",
  "colab": {
   "provenance": []
  },
  "kernelspec": {
   "display_name": "Python 3 (ipykernel)",
   "language": "python",
   "name": "python3"
  },
  "language_info": {
   "codemirror_mode": {
    "name": "ipython",
    "version": 3
   },
   "file_extension": ".py",
   "mimetype": "text/x-python",
   "name": "python",
   "nbconvert_exporter": "python",
   "pygments_lexer": "ipython3",
   "version": "3.11.4"
  }
 },
 "nbformat": 4,
 "nbformat_minor": 5
}
