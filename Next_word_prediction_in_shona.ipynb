{
 "cells": [
  {
   "cell_type": "code",
   "execution_count": 1,
   "id": "193c51e8",
   "metadata": {},
   "outputs": [],
   "source": [
    "import tensorflow as tf\n",
    "from tensorflow.keras.preprocessing.text import Tokenizer\n",
    "from tensorflow.keras.layers import Embedding, LSTM, Dense\n",
    "from tensorflow.keras.models import Sequential\n",
    "from tensorflow.keras.utils import to_categorical\n",
    "from tensorflow.keras.preprocessing.sequence import pad_sequences\n",
    "from tensorflow.keras.optimizers import Adam\n",
    "import pickle\n",
    "import numpy as np\n",
    "import os"
   ]
  },
  {
   "cell_type": "markdown",
   "id": "c4c3f56f",
   "metadata": {},
   "source": [
    "# loading the data"
   ]
  },
  {
   "cell_type": "code",
   "execution_count": 2,
   "id": "ae670723",
   "metadata": {},
   "outputs": [],
   "source": [
    "\n",
    " # load doc into memory\n",
    "def load_doc(filename):\n",
    "    # open the file as read only\n",
    "    file = open(filename, 'r' )\n",
    "    # read all text\n",
    "    text = file.read()\n",
    "    # close the file\n",
    "    file.close()\n",
    "    return text"
   ]
  },
  {
   "cell_type": "code",
   "execution_count": 3,
   "id": "02a0f522",
   "metadata": {},
   "outputs": [
    {
     "name": "stdout",
     "output_type": "stream",
     "text": [
      "\"Mwana wangu zvandakudana kudai ndine nyaya yandinoda kutaura newe. Ungazvinetsa hako kuti sei ndakumutsa kuseni kuno asi zvine chirevo.\" Vakadaro baba vangu vaPfupajena. Ndakaramba ndakanyarara ndich\n"
     ]
    }
   ],
   "source": [
    " # load document\n",
    "filename = 'hondo_yehumambo_dset.txt'\n",
    "doc = load_doc(filename)\n",
    "print(doc[:200])"
   ]
  },
  {
   "cell_type": "code",
   "execution_count": 4,
   "id": "1c571936",
   "metadata": {},
   "outputs": [
    {
     "data": {
      "text/plain": [
       "'\"Mwana wangu zvandakudana kudai ndine nyaya yandinoda kutaura newe. Ungazvinetsa hako kuti sei ndakumutsa kuseni kuno asi zvine chirevo.\" Vakadaro baba vangu vaPfupajena. Ndakaramba ndakanyarara ndichida kunzwa zvaizotevera.\\nNdakanga ndamutswa mambakwedza chaiwo apo ndakanga ndaita zvekutumirwa nhume. Kubva ndichiberekwa baba vangu vakanga vasati vambondimutsa nguva dzakadai. Kazhinji ndaimuka nguva dzafamba sezvo ndakanga ndisina chekumhanyira.\\n\"Mwana wangu zvaunondiona kudai handizivi zvirimberi. Hapana anoziva zuva rake rekusanganiswa nemadzitateguru asi dzimwe nguva unogona kuroteswawo.\" Ndakaramba ndakanyarara ndichiedza kubatanidza nyaya yaitaurwa nababa wangu.\\nVakabva vaita zvekumuka pavakanga vakarara apo vakanga vazoita zvekugara. Ini ndakagarawo pandakanga ndarairwa kunzi ndigare. Ndakabva ndateya nzeve kuti ndinyatonzwa zvaida kutaurwa nababa.\\n\"Nyaya yandinayo ndaikwanisa kuudza madzikoma ako pamwe nevanin\\'ina asi ndasarudza iwe. Kunyangwe amai vako handina kumbovaudza saka ndoda kuti unyatsoteya nzeve.\" Vakadaro baba vangu vachibva vambokosora zvishoma. Vachipedza kukosora vakabva vaenderera mberi.\\n\"Mwana wangu ndine hope dzandarota asi hadzina kundiitira zvakanaka. Ndati ndiudze iwe nyangwe uri mwana zvako asi panyaya iyi uri mukuru.\" Baba vangu vakanga vane dambudziko rekuwanza nhoroondo kana vachitaura nyaya yavo. Raigona kutopera zuva rese vachingotenderera panzvimbo imwechete.\\n\"Ndakateerera Nyamuzihwa taurai zvenyu tinzwe. Nzeve ndatoteya dzemukati chaidzo kuti mashoko enyu asazorasika.\" Ndakataura nemashoko ekuremekedza izvo zvaizopa baba vangu simba rekutaura zvavanenge vachida.\\n\"Mwana wangu ndarota ndiri pakufamba apo ndanga ndichimboona dunhu rangu. Ndanga ndiri pakutenderera ndichiyeverwa neguta rangu apo ndazoenda nepasango riya riri kumavirira kwedzimba dzaSabhuku. Ndipo pandaona mapere mashanu achimhanya achichiuya kwandiri achidonhedza marute pamuromo. Pandatarisa kumashure kwavo ndaona kuchitevera Mambo Mupedzachose avo vatakaganhurana navo.\" Pakamboita karunyararo mushure memashoko aya.\\n\"Saka chii chazoitika nhai Nyamuzihwa, taurai tinzwe ndatononokerwa nekunzwa zvazoitika.\" Ndakataura mashoko aya ndichiedza kuti baba vangu vataure nekukasika.\\n\"Ndaramba ndakamatarisa apo azosvika pedyo neni. Ndipo pandaona Mambo Mupedzachose achimasaidzira kuti andirume. Ndambomarwisa asi zvaramba. Ndazorumwa nerimwe racho pagumbo ndichibva ndaita zvekuvhunduka ndichipepuka. Kutaura kuno hana yangu irikundiudza kuti hazvina kumira mushe.\" Vakadaro baba vangu vachipedzisa nemashoko iwayo. Kwandiri zvakanga zvisati zvapera nekuti ndakanga ndichigere kunzwisisa.\\n\"Saka nhai Mambo wangu,manga matii nehope idzi. Munoti mungazorwiswa mukakurirwa here nemunhu wamusingarwe naye nguva nenguva.\" Ndakadaro ndichida kunzwa zvizere.\\n\"Handisi kupaona mushe mwana wangu, hupenyu hauzivikanwe zvimwe humambo hwangu hunogona kungomuka hwakapera nekuda kwerufu asi hauperi zvachose. Ndiri mupenyu kudai ndinoda kupa madzikoma ako migove papfuma yangu asi iwe hapana chako ipapo.\" Ndakashaya kuti baba vangu vaida kuedza kuti chii vachipa migove kune vamwe vachinyima ini. Ko ndakanga ndavatadzirei kusvika pakundidaro.\\n\"Iwe usatsutsumwa zvako mwana wangu uchinzwa kuti hapana mugove vako. Pane zvandakakugadzirira zvakakurisa kudarika migove yese nepfuma zvandinazvo.\" Ndakashaya kuti zvii zvakanga zvakachengetwa nababa vangu zvaikunda pfuma yavo. Vakakosora zvishoma vachibva vatanga kutaura zvekare.\\n\"Kana ndazoenda guta rino rinoda anotarira. Zvarinoda anotarira zvinoreva kuti ndinoripa anenge ari pamoyo pangu kuti aritungamire. Zvandisina kukupa mugove papfuma yangu ndiyo pfuma huru yandakusiira. Uri mudiki kune madzikoma ako asi moyo vangu vasarudza iwe kuti ugotarira guta rino.\" Vakadaro baba vangu vachibva vanditambidza tsvimbo nhema yavakanga vakabata.\\n\"Unoona tsvimbo yandiri kukupa iyi, ndiyo tsvimbo yakabata umambo hwese hweguta rino ndinoda uichengetese.\\nNdinoziva kuti humambo huchanetsa ndaenda asi tsvimbo iyi usaipa kana ani zvake. Tsvimbo iyi ndeyako nekuti moyo wangu vasarudza iwe. Uchafamba rwendo rwune makata uye uchapinda nepamupata une rufu asi humambo huchava hwako.\" Vakataura baba vangu apo vakabva vazonyarara.\\nTakazokurukura hedu dzimwe dzehupenyu apo baba vaindiraira magariro nevamwe mumusha. Zuva iri takakurukura zvekukanganwa kuti kunze kune vanhu. Tichipedza hurukuro ndakabva ndarairwa kuti ndiende hangu.\\nSezvo nguva dzakanga dzafamba handina kuzodzokera kunorara. Ndakambotenderera zvangu pamuzinda apo ndaiona kuti pakamira sei. Yaiva tsika yangu mazuva ese kuti ndichimuka ndaitenderera ndichiona pamuzinda.\\nMashoko andakanga ndakurukura nababa vangu akanga achiri kundidya moyo. Kazhinji baba vangu vaisarota hope zvorova zvakadaro. Nguva zhinji vaiti vakarota hope dzaisatora nguva pane zvaizoitika.\\nVaigara vachindiudza kuti pavakatorana naamai wangu vakangorota mwanasikana akanga akagara pamuti.\\nPavakasvika paiva nemwanasikana iyeye vakasvitsa shoko rerudo vachibva vadiwa. Havana kumbotora mazuva akawanda vakazonosangana naamai wangu panzvimbo imwecheteyo. Zvakamboda kunetsa hazvo nekuda kwekuti vaiva nemudzimai asi vakazopedzisira vatorana.\\nNdiyo imwe yenhoroondo dzandakaiudzwa dzezvaiitika kuburikidza nehope dzababa wangu. Ndine dzimwe nyaya dzandaiudzwa dzaiitika mushure mekunge baba vangu varota hope.\\nNhoroondo idzodzo ndidzo dzaizoita kuti ndizvidye moyo nekuda kwehope dzandakanga ndaudzwa nababa idzi. Imwe pfungwa yaimbondiudza kuti nekugarisana kwakaita baba vangu namambo Mupedzachose havamborwisane. Imwe pfungwa ndiyo yaizodzoka yoti munhu munhu haana chakanaka.\\nPachokwadiwo hapana aizoziva zvinenge zvichifunga munhu. Imwe pfungwa yaimbondidzikamisa nekuti ndaiziva kuti baba vangu vakanga vaine hondo yakasimba. Pahondo dzose dzavakarwa pamakore avo havana kumbobvira vakurirwa. Handifungi kuti vaizokurirwa namambo Pfupajena vatakanga tisati tambonzwa mbiri yavo.\\nYehope ndakazoisiya padivi ndavakufunga yemigove yaizouya kumberi kwedu. Mubvunzo wandakanga ndichizvibvunza ndewekuti zvaizopera sei zvandakanga ndapihwa mugove vakakura kukunda vamwe vana wese.\\nBaba vakandisimbisa havo vachiti ndinozotora chigaro asi makata avakanga vachindivimbisa handaiona pachizova nerugare. Kunedzimwe nzvimbo ndaiona ropa richideuka nenyaya yehumambo saka hazvaizotadza kuitika mumuzinda medu. Semunhu akanga asimbiswa ndaizozvirwira kusvika ndagara humambo hwacho.\\nNdakazozvibvunza kuti sei baba vakanga wavakuda kugova pfuma yavo panguva iyi\\nKazhinji ndaiziva kuti vanhu kana wava kugova zvinhu zvavo vanenge vasisina mazuva akawanda vachirarama. Ndizvo here zvakanga zvavakuitika kuna baba vangu?\\nNdakazvibvunza ndega apo ndakazoisa pfungwa yacho kwakadaro uko.\\nNdaizoona kana nguva yacho yaizokwana. Chandaiziva ndechekuti hapana zuva risingasvike. Mazuva akatanga kufamba baba vangu vachingondiudza kuti hazvina kumira mushe. Kuseni kwega kwega vaindimutsa vachindiudza hope dzakasiyana siyana. Zhinji dzacho dzakanga dziri dzekurwiswa namambo Mupedzachose.\\nNdakangoti ndaizomirira kuti ndione kunowira tsvimbo nedohwe. Mumwe musi ndakasvika baba vangu vari padare apo vairatidza kuti pane nyaya yakadzama yavaikurukura.\\nPadare apa pakanga paina Marwei jinda guru pamwe nevakoma vangu. Semunhu akasvika vamwe vari mudare kare ndakabva ndagarawo pasi. Baba vangu vakabva vashama muromo wavo kuti vataure.\\n\"Mwana wangu ndiwe vasvika tiri padare kudai. Pane nyaya irimudariro isina kumira mushe. Ndosaka uchiona jinda guru rangu riripano pamwechete nevakoma vako ava. Nyaya iripano ndeyenhume yabva kuna mambo Mupedzachose vaya vatakaganhurana navo.\" Ndichinzwa mashoko aya ndakarohwa nehana.\\nKo nhume yacho yakanga yauya nerugare here? Mubvunzo vandakazvibvunza ndisati ndanzwa kuti yataura kutii.\\nChandakatanga kurangarira ihope dzaigarotaurwa nababa vangu vachirwiswa namambo Mupedzachose.\\nNdakazongozviudza kuti ndingamhanye kumberi saka ndakabva ndabvunza kana vakanga vauya nerugare.\\n\"Nhume iyi haina kuuya nerugare mwana wangu, mambo Mupedzachose vatumira shoko vachiti vanoda pfuma yose iri munyika ino pamwe nevakadzi vangu newemachinda angu. Zvatumirwa shoko iri mambo Mupedzachose vatipa masvondo maviri ekufunga nezvazvo kana tichinge tapokana nawo inenge yava hondo.\" Ndakamboramba ndakanyarara ndichidzeya mashoko akanga ataurwa apa. Baba vangu nehondo yavakanga vainayo vaisafanirwa kubvuma kukundwa pahondo.\\nNyaya yakazokurukurwa baba vangu nejinda ravo vachibva vawirirana kuti kana hondo yaizouya vaizotangira ipapo.\\nMarwei ndiye aizozivisa mamwe machinda ese zvakanga zvarongwa padare apa.\\nBaba vakazopinza imwe nyaya mudariro. Ndiyo nyaya yavakanga vambonditaurira tiri tega asi apa vakanga vagadzirira kuitaura pamberi pejinda ravo ravaivimba naro. Tese takabva tateya nzeve kuti tinzwe zvaida kutaurwa.\\n\"Marwei uri jinda rangu randinovimba naro pamachinda ese ndosaka ndakakusarudza kuva jinda guru.\\nZvandakakuita jinda guru hapana chandinokuwanzira pane zvese zvandinoda kuronga. Kubva ndichipinda pahumambo kusvika zvino hapana chandakamboona pauri chakaipa.\" Vakataura baba vangu vachipembedza Marwei jinda ravo guru.\\n\"Ndinotenda mambo wangu nekuvimba neni pazvose zvamunoronga mumuzinda muno. Ndinoshuva kuti murarame nekusingaperi mambo vangu.\" Akadaro Marwei achipindura zvakanga zvataurwa naMambo.\\n\"Zvakanaka Marwei, sezvandakambokuudza paya kuti ndinehope dzandairota maererano nehondo yava kumberi kwedu iyi handisi kuzviona zvakanaka. Imwe nguva ndiyo nzira yandichaenda nayo kunyikadzimu hapana anoziva ramangwana rake.\" Vakataura baba vangu vachibva vambonyarara. Ndiwo akanga ari matauriro ababa vangu kubva kare. Vakanga vasingagoni kutaura nyaya yavo vachipedza kamwechete vaitenderera. Marwei ndiye akazoerekana ashama muromo kuti ataure.\\n\"Mambo munorevei kana mavakutaura muchidaro, ini jinda guru renyu ndiripo pakuronga hondo dzinokurira uye mambo wangu hamungazokurirwe ndiripo. Tichiri kukudai Mambo Pfupajena murarame nokusingaperi.\" Akadaro Marwei achisimbisa baba vangu kuti vasafunge zverufu rwusati rwasvika.\\n\"Ndizvo hazvo kuti munokwanisa kundirwira mukakurira vavengi vangu sekuvimba kwandinoita nemi. Ipapo handipikise asi patiri tose hapana anoziva. Hazvigone kumanikidza nguva kuiti isaite zvainoda iyo yakwana.\\nZvisinei handisi kuti ndinofa asi kungotaurawo zvinoitika mudzihondo dzatinorwa idzi. Zvisinei nyaya yandanga ndinayo haina kukura rega ndigare ndaipinza mudariro ugova chapupu mangwana kana pazoita mhere mhere.\" Vakadaro baba vangu apo vakanga vagadzirira kuudza Marwei nyaya yavo.\\nVakabva vamuudza zvese zvekuronga kwavakanga vaita kuti vagove pfuma yavo pakati pedu. Vakatanga kutigovanisa pamberi paMarwei mumwe nemumwe achiudzwa zvaaizotora papfuma yavo kana zvaizoipa.\\nMadzikoma angu aingosekerera mumwe nemumwe achipihwa mugove vake. Takanga tiri vanomwe vamwe vana vari wekuimba huru vamwe vatatu kuimba diki. Ini ndakanga ndakaberekwa muimba diki ndiri dangwe remo.\\nGarikai uyo aiva mukuru kwatiri tose ndiye akanga ari dangwe muimba huru. Ndiwo mamiriro akanga akaita mhuri yedu. Baba vakapedza kugova zvinhu zvavo apo madzikoma angu akanga asingagoni nekufara. Ndakafara kuti vanin\\'na vangu vainditevera vakawanawo mugove papfuma iyoyo kunyangwe zvazvo ini ndakanga ndisina changu.\\n\"Saka matopedza kugova pfuma yenyu here mambo. Ko Tongai mamuita wekupi wamasiya ega ega, hamuoni here kuti munenge mamusarudza pakati pevana wese.\" Akataura Marwei achida kunzwa chikonzero chakanga chaita kuti baba vadaro. Baba vangu vakambotarisa pasi zvishoma vanenge vaifunga pekutangira nyaya yavo. Vakazoshama muromo wavo kuti vataure.\\n\"Uyu usamutyire Marwei, pane rwendo rwandinoda kutanga ndamutuma. Rwendo urwu rwakakosha zvikuru uye rwunotyisa kufamba. Kwaachaenda ikoko ndiko kune mugove vake kana achinge asvika uye zvinozozadziswa kana achinge adzoka nerugare.\" Mashoko ababa aya akandivhundutsa asi ndakaramba ndakanyarara hangu kuita kunge pasina zvirikuitika.\\nMibvunzo ndiyo yakanga yandiwandira mumusoro uye yaitoda mhinduro. Rwendo rwandaida kutumwa rwaiva rwekuenda kupi? Mumwe mubvunzo vandakazvibvunza ndichinzwa baba vangu vachitaura naMarwei.\\nRwendo rwacho zvarwainzi rwunotyisa ndaizobudirira here? Mumwe mubvunzo wandaizvibvunza ndichiedza kubatanidza zvakanga zvichangobva kutaurwa. Kazhinji ndaiziva kuti kana rwendo rwakaoma sezvaitaurwa apa unenge vakatarisira zvese rufu nehupenyu.\\nRwendo urwu ndirwo rwune humambo hwangu chete hakuna zvimwe, ndakataurira mumoyo ndakagara ndichiedza kubatanidza nyaya iyi. Marwei haana zvimwe zvaakazotaura anenge akabva aziva kwaiva kwakananga nyaya yacho. Takazobva padare apa Mambo vachibva vasara naMarwei.\\nIni pfungwa dzakanga dzisisina kugadzikana ndichifunga zverwendo urwu. Ndaizorwukunda here kana kuti ndaigona kuita nyama yezvikara. Ndakazongotsveta pfungwa yacho kwakadaro uko ndaizozviona kana nguva yacho yakwana. Yaizokwana chete nguva yacho sezvo tese tichiziva kuti hakuna zuva risingasvike.\\nMumwe musi ndakanga ndakagara zvangu ndichikurukura nemunin\\'ina wangu Togarepi. Ndipo pandakaona nhume yamambo ichisvika pandakanga ndiri kureva kuti pakanga paine nyaya. Ndipo pandakabva ndaudzwa kuti ndiuye ndakagadzirira zverwendo. Ndakanga ndakamirirwa nababa vangu avo vaida kuti ndisangane navo kuninga yemadzimambo.p\\nNdakazvibvunza mibvunzo yakawanda yaida mhinduro asi ndakaishaya. Baba vangu vainzi vaida kusangana neni kuninga yemadzimambo kwakanga kwakanaka here?\\nMumwe wemibvunzo yandakazvibvunza ndichibva ndaushayira mhinduro.\\nKo ipo panobva panzi ndiuye ndakagadzirira asi rwendo rwuya rwakanga rwava kutanga? Mumwe mubvunzo wandakazvibvunza ndavakutofamba kuenda kuimba yangu yandairara.\\nKo vakanga vati tisangane kuninga yemadzimambo sei nekuti nzvimbo inovigwa madzimambo yakanga isingasvikwi pese pese? Mumwe wemibvunzo yandakazvibvunza asi pese apa handina kuwana mhinduro.\\nNdakazongozviudza kuti ndaizoona ndava ikoko. Ndakatora zvese zvandaitarisira kuti ndinoda kufamba nazvo parwendo. Handina kusiyawo uta nemiseve yangu sezvo ndaisaziva kwandinoenda. Vakuru vakati afamba apota saka ndaiziva kuti ndichingopota hapana anenge achandiona. Zvaireva\\nkuti inenge yava nguva yekuzvimiririra parwendo.\\nNdapedza kugadzirira ndakabva ndanoona amai wangu ndichivaudza nyaya yakanga iri mudariro. Ndiyo yakanga iri nguva yakuonekana navo tichinyatsoonana nekuti hapana aiziva zvirimberi.\\n\"Mwana wangu ufambe zvakanaka ugochenjera zvikara zvesango. Kwauchaenda kwacho ikoko ndinokumbira kuti varikumhepo vakuchengete. Ndinoshuva kuzokuona zvekare vadzoka uri mutano.\" Vakadaro amai vangu vachitaura zvinyoro nyoro. Ndakazobuda mavakanga vari ndichibva ndatanga kufamba ndakananga nedivi rekuninga.\\nKubva pamuzinda kusvika kuninga paiva nemufambo asi vakanga usina kunyanyokura. Ndakazosvika kuninga kuya apo ndakaona kuine varume vatatu ndichirikure. Mumwe vacho ndakabva ndamuziva aiva baba vangu uye mumwe akanga ari Marwei jinda ravo. Wechitatu ndiye wandakanga ndichigere kuziva saka ndakaramba ndichiswedera kudhuze kuti ndigomuziva.\\nNenguva isipi ndakanga ndasvika pavakanga vakamira apo ndakazoziva munhu wechitatu. Akanga ari Mushoriwa uye murume uyu akanga asingaonekwi zvenhando. Ukaona paanenge aonekwa panenge paine nhau dzakakosha dzinenge dzichida kugadziriswa kana kuti anenge aine mashoko akakosha aanenge aoneswa kumhepo sezvo akanga ari svikiro.\\nHONDO YEHUMAMBO PDF AND COVER DONE BY EVIDENCE KATIYO\\nHandina kuda kupedza nguva ndakabva ndavakwazisa wese senzira yekuremekedza. Ndichipedza kuvakwazisa takabva tananga pedyo nemusuwo weninga patakanga tarairwa nesvikiro. Aka ndiko kaiva kekutanga kusvika pedyo nemusuwo weninga iyi kubva ndiberekwe.\\nNdichikura ndaiziva kuti zvinoera kuswedera panzvimbo iyi nekuti yakanga iri nzvimbo yevanhu vakuru. Vazhinji vaiisa zvitanda munzeve vachiswedera pamusuwo uyu ndiwo vaizodzoka wava mudambudziko kazhinji vairumwa nemarovambira. Ndakasvikopfugama ndakatarisa kumusuwo weninga iya sekurairwa kwandakanga ndaitwa naMushoriwa.\\n\"Mwanakomana rwendo rwavatanga urwu rwune makata ane minzwa. Zvavarwutanga rwendo urwu rwavakutoda kuti ushinge nekuti kumberi kune humambo hwakakumirira.\\nPane rwendo rwandinoda kukutuma asi rwunoda anehana yakasimba. Kana usina hana yakasimba haudzoke asi kana uriwe wasarudzwa zvechokwadi unodzoka.\" Hana yangu yakamborova ndichinzwa mashoko aitaurwa nesvikiro aya.\\nNdaizvibvunza ndega kuti rwendo rwandinoda kutumwa nderwekupi uye ndaizodzoka here. Kune mamwe masango aizivikanwa kuti anorura nemhuka dzesango. Ndiwo masango ekuti vaitenda vadzimu vako uchinge vasvika pamba. Mushoriwa akazoenderera mberi nenyaya yake.\\n\"Mwanakomana kwandinoda kukutuma kunonzi kumazivandadzoka, ndinoda kuti umire semurume uzodzoka nehumambo ugotitungamira. Nguva ino ndavakumbokumbira varikumhepo kuti vakutungamire musango mauchapinda.\" Akadaro Mushoriwa achindisimbisa kuti ndigosimba parwendo.\\nKazhinji rwendo rwaitaurwa nemurume uyu kuti kumazivandadzoka rwunenge rwusiri nyore. Rwunenge rwakarema uye unenge uripakati pehupenyu nerufu.\\nNdakazongozvishingisa ndichibva ndamboisa pfungwa yekutya padivi. Svikiro rakatanga kudeketera ndiripo paya apo ndakanzwa inzwi rachinja. Ndakabva ndaziva kuti varikumhepo ndiwo vakanga wava kutaura.\\n\"Mwana wangu ndinoda usimbe parwendo urwu usatya zvako. Ndirwo rwendo rwakafambwawo nemadzitateguru ako arere pano asi hapana chakavatadzisa kudzoka. Simba utsunge moyo mwanakomana nekuti humambo huri mumaoko ako. Ufambe zvakanaka mwanakomana ziso rangu richange riri pauri.\" Svikiro rakazopedza mashoko aya richibva razokumbira varikumhepo kuti vasvitsewo kuna Musikavanhu.\\nNdipo pandakabva ndarairwa kuti ndaizokwidza nemugomo reBamhani munova ndimo maiva nenzira yaienda kwakanga kwarehwa. Panguva iyi hana yakabva yamborova.\\nGomo rakanga rarehwa iri ndiro rakanga riri rimwe renzvimbo dzairura zvikara. Rakanga rotoshevedzwa nezita rekuti gomo remazivandadzoka. Wese aifunga nezvaro vaiona achieredza misodzi. Ndiro gomo rakanga rakonzeresa kuti vazhinji varadzikwe pachuru chamupfiganebwe.\\nZvese izvi ndizvo zvakatanga kuuya mupfungwa dzangu pandakanzwa kuti nzira yandaishandisa yaienda neimomo. Manje ndaizofamba sei mugomo rakadaro ndaidzoka ndaitwa kanyama kanyama.\\n\"Usatye zvako mwanakomana, varikumhepo vachange vanewe uye havambokusiya. Madzitateguru ako akafamba rwendo urwu hapana chakaipa chavakaona. Kunyangwe nababa vako vakafamba rwendo rwavatarisana narwo urwu nhasi varipano. Chifamba zvakanaka uchengetwe nevari kumhepo.\" Akadaro Mushoriwa achiedza kundisimbisa parwendo urwu. Anenge akanga aona zvandaifunga mupfungwa dzangu. Ndakazorangarira kuti nzvimbo yandakanga ndiri yaiera asi varikumhepo vakanga vandisvitsa ipapo.\\nIzvi zvaireva kuti kana varikumhepo vanditendera kupinda munzvimbo yavo inoera vaizonditungamira parwendo.\\nNzvimbo yandakanga ndiri yaisangopindwa uchidzoka uri mutano. Kuvapo kwangu munzvimbo iyoyo kwakandipa kuti nditende mashoko akanga achitaurwa nesvikiro.\\nNemashoko iwayo ndakabva ndatarisana nababa vangu apo ndakabva ndaenda kunovambundira.\\n\"Mambo wangu ndavakumboenda kumazivandadzoka, sekufamba kwamakaita rwendo urwu neniwo ndavakutevedza matsimba enyu. Rwendo rwacho rwunemakata asi ndinovimba tichasanganazve, tenderai zvenyu mwanakomana wenyu afambe nerugare.\" Ndakataura mashoko aya ndichisuma baba vangu senzira yekuvaremekedza. Hongu vaizviziva havo kuti ndirwo rwendo rwuripo asi ndaifanirwa kuita semwanakomana anehunhu.\\n\"Ufambe nerugare mwanakomana wangu. Usatye hako nekuti rwendo rwako rwakajeka. Varikumhepo havazombokusiya uchipinda mudambudziko vanokuchengetedza kusvika udzoke. Urarame nekusingaperi mwanakomana wangu.\" Vakadaro baba vangu vachindisimbisawo kuti ndisatya parwendo.\\nNdakazotendeuka kuna Marwei Jinda guru rababa vangu ndichibva ndamuonekawo. Murume uyu akanga akakosha kwazvo muhumambo hwababa vangu.\\nNdichipedza kuonekana navo ndakabva ndatanga kufamba ndichibva apa. Ndakapota nekuseri kwemuzinda apo ndaida kunobata nzira inokwira mugomo remazivandadzoka. Apa yakanga yava nguva yangu yekuzvimiririra semurume kana paine chandaizosangana nacho.\\nNenguva isipi ndakanga ndatobata nzira inokwidza mugomo rakanga rarehwa. Kuseri kwegomo iri kwaiva nesango rairura mhuka zvekare raishevedzwa kunzi mupata wamapfupa. Rakanga rakapihwa zita iroro nekuti aipindamo aibva atsakatika aisadzoka. Rwendo rwakanga rwuripo nekuti ndaizopedza sango iroro rese ndisati ndasvika kwandaienda. Ndakazongozviudza kuti ndinosvika chete sezvo ziso remadzitateguru angu rakanga riri pandiri.\\nNdakatanga kukwidza gomo riya apo paizova nemufambo kuti ndisvike kumusoro. Ndaingonzwa kuchema kwezvikara zvakasiyana siyana musango umu asi handina kumboita basa nazvo. Ndaingokoshesa rwendo rwangu sekurairwa kwandakanga ndaitwa.\\nGomo racho rakanga riine matombo anotsvedza zvekuti ukakanganisa kutsika vaigona kudonha ukakuvara.\\nNdakafamba rwendo rwangu apo ndakazoona ndasvika paneimwe nzvimbo yakanga yakakomberedzwa nemiti yakawanda. Rima rakanga riri panzvimbo iyi raizezesa raida kutopinda vakagadzirira kusangana nechikara.\\nNzvimbo yacho yakanga yakanyarara kuti zii zvekuti vaitombofunga kuti vapinda munzvimbo ine makuva. Semunhu akanga akatungamirwa nevarikumhepo handina kutya kupfuura nepanzvimbo iyi. Ndakafamba zvinyoro nyoro ndichipinda panzvimbo iyi apo ndaitarisa mativi ese kuitira muvengi.\\nNdisati ndaenda mberi ndipo pandakaona rovambira mberi kwangu. Panguva iyi rakabva rasimudza musoro apo takabva tatarisana zviso. Panguva iyi ndakapererwa zvekuti kana simba rekubata uta hwangu nemuseve ndakarishaya. Apa ndipo pandakazviudza kuti ndaizosangana nezvakanga zvavapo panguva iyi. Kana ndairumwa zvaibva zvangopererawo ipapo. Ndakazoona yadzikisa musoro yavakufamba ichienda nedivi randakanga ndakafuratira.\\nYakapfuura nepandaiva ichibva yaenda. Yakanga yava nguva yekuenderera mberi nerwendo semunhu akanga asununguka kufamba. Ndakasvika pamusoro pegomo ndichibva ndatanga kuteremuka ndakananga nedivi rekusango riya rainzi mupata wamapfupa.\\nNdakateremuka apo zuva rakazosvika pakurereka ndavamusango riya. Umu ndimo makanga muri mumusha mezvikara manje. Ndakaramba ndichienderera mberi nerwendo apo kwakanga kwazosviba. Yakanga yava nguva yekutsvaga pekuzorora.\\nNdakatenderera panzimbo iya ndichitsvaga pakanga pakakodzera kuti ndizorore. Nzvimbo iyi yaityisa kureva kuti ndaifanirwa kutsvaga nzvimbo yandaizonyatsochengeteka kuzvikara zvesango. Ndiripakutsvaga pekuzorora ndakazongosangana nezidombo rekuti ndaikwanisa kukwira pamusoro.\\nNdakanzwa moyo wangu uchifara nekuti ndakanga ndachengeteka kuzvikara zvesango. Ndakatanga ndatsvaga zvihuni zvandaizobatidza kana ndichinge ndakwira padombo iroro. Ndakazokwira paya apa ndagadzirira sezvo ndaisazodzika.\\nNenguva isipi ndakanga ndatovesa moto kuitira kutonhora kwekunze. Semunhu akange asina kutakura mbuva ndakabva ndangorara hangu. Zvekudya ndaizozvionera musango imomo ndaisazofa nenzara. Ko rwendo rwacho rwakanga rwangomukira mumakumbo saka hapana zvandaikwanisa kuita.\\nNdakatanga kudziirwa nemoto wandakanga ndavesa izvo zvakazoshevedza hope. Nenguva isipi ndakanga ndakotsira.\\nNdipo pandakatanga kurota ndiriparwendo apo ndakanga ndiri musango rimwechetero. Ndakatanga kuona ndakakomberedzwa nezvikara zvakawanda izvo zvaityisa. Kuhope ikoko. Ndipo pandaiedza kubuda pakati pezvikara izvi asi ndaitya.\\nPanguva iyi ndakazoerekana ndatarisana nemumwe murume akanga akwegura. Zera reharahwa iyi rairatidza kuti akanga aona marudzi akawanda ari mupenyu. Harahwa iya yakatanga kundishevedza ichida kuti ndipinde pakati pemhuka dziya asi ndaitya.\\nYakaramba ichindisimbisa apo ndakabva ndatanga kufamba ndichiti nditsvage pandingabuda napo. Ndipo pandakaona zvikara zviya zvichindivhurira nzira kuti ndipinde.\\nNdakazoona ndamira neharahwa iya apo yakatanga kunyemwerera yakanditarisa. Ndakanga ndichigere kuziva kuti ndiani apo yakazotanga kutaura.\\n\"Murarame nekusingaperi mambo wangu, humambo hwenyu huchanetsa uye ropa richadeuka asi chigaro chehumambo chiri mumaoko enyu. Ndinodzokorora zvekare murarame nekusingaperi mambo wangu.\" Yakataura harahwa iya ichibva yatanga kunyemwerera zvekare.\\nPakarepo ndakabva ndapepuka ndichinzwa kuchema kwezvikara zvakasiyana siyana. Zvimwe zvacho ndaitozvinzwira muzasi medombo randakanga ndakarara.\\nHana yangu yakamborova asi ndakazozviudza kuti moyo wangu dzikama. Ndakabva ndatanga kubatanidza hope dziya dzandakanga ndichangobva mukurota. Zvakabva zvaita kuti ndirangarire mashoko andakaudzwa nababa vangu musi uya wavakandishevedza kuseni.\\n\"Ndinoziva kuti humambo huchanetsa ndaenda asi tsvimbo iyi usaipa kana ani zvake. Tsvimbo iyi ndeyako nekuti moyo wangu vasarudza iwe. Uchafamba rwendo rwune makata uye uchapinda nepamupata une rufu asi humambo huchava hwako.\" Baba vangu vanenge vaitooneswa nevarikumhepo vachitaura mashoko aya.\\nZvakabva zvangoenderana nemashoko aitaurwa nemukweguri uyu pahope dzandakanga ndarota. Dzakabva dzauya futi dzimwe ndangariro panguva iyoyo. Ndisati ndatanga rwendo svikiro rakanditi kune mukweguri wandichasangana naye kwandakanga ndichienda. Ane zvaaizondipa zvaizova huchapupu hwakuti ndakafamba rwendo ndikasvika.\\nNdakabva ndazvibatanidza neharahwa yandakanga ndaona kuhope iyi. Ndakabva ndazviudza kuti ndiyo chete chakanga chasara kuonana ndasvika kwandakanga ndarairwa.\\nNdakazobatwa nehope zvakare ndichimirira kuti kunze kuchene. Husiku hwakanga huri hurefu apo ndakazopepuka kwaedza.\\nYakanga yava nguva yekumuka kuti ndisimudzire nerwendo rwangu. Ndakanga ndisingazive kuti kwandinoenda ndinosvika riinhi saka ndaifanirwa kufamba nekukasika.\\nPanguva iyi ndakamboita zvekugara ndichitarisa mativi ese kuti kwakanga kunei. Ndipo pandakaona ingwe yakarara nechekudivi randakanga ndakwira naro padombo iri.\\nHana yangu yakatanga kubika manhanga zvekuti akatoibva akadyiwa. Ko chikara ichi chakanga chabva nekupi chichiuya kuzorara padombo randakanga ndiri? Ko chakanga charara ipapo nguva yakadii uye chaifungei chikara ichi? Mibvunzo yandaizvibvunza ziso rangu riri kwakanga kwakarara ingwe iya.\\nNdakaona ingwe iya yatarisana neni mumaziso ichibva yatarisa hayo divi. Zvakanga zvichiratidza kuti yakanga isina basa neni. Ndakazvibvunza kuti ndaizoburuka sei nekuti ndipo pega pandaikwanisa kuburuka napo. Ndakanga ndapererwa zvekuti ndaitoona rwendo rwangu rwaperera pamusoro pedombo iri.\\nImwe pfungwa yakambonditi ndirwise ingwe iyi sezvo ndakanga ndine zvombo zvangu padombo iri.\\nNdakazozvidzora nekuti ndaigona kuzozvitangira dzimwe hondo dzandisingakwanise kukunda. Ndiri pakufunga kudaro ndakazoona ingwe iya yava kusimuka apo yakatanga nekuzvizunza zunza.\\nNdakaramba ndakatarisa ingwe iya ndakamirira kuona zvaizotevera. Kana yaizondirwisa zvakanga zvakaringana zvakadaro hapana zvandaikwanisa kuita. Nyaya yakanga yonetsa ndeyekuti divi randakanga ndakwira naro padombo iri ndiro rega randaikwanisa kudzokera naro.\\nIngwe iya ichipedza kuzvizunza yakabva yatanga kufamba ichiuya kwandiri. Yakatanga kundinhuhwidza ndakamira ndisina chandaikwanisa kuita. Ndakanga ndangomirira kusanganiswa nemadzitateguru angu.\\nPava paya ndakazoona yatendeuka ichidzokera kwayakanga yakarara. Ndakaramba ndakaitarira ichibva yasvetuka ichibva padombo paya ichienda. Handina kuziva kwayakaenda asi ini moyo wangu vakanga vasununguka.\\nPandakaona zvadai ndakabva ndaona uri mukana wekusimudzira nerwendo rwangu. Ndakaburuka padombo riya ndichibva ndatanga kufamba ndichienda. Sezvo rwendo rwakanga rwuchiripo ndakanga ndichiita kukanda tsoka.\\nNdaiitira kumbochovha ndima kuitira paizorova zuva panhongonya.\\nPanguva iyi nzira yakanga yachena hapana chikara chandaiona. Ndakaramba ndichifamba apo ndakasvika paiva nerwizi rwakakura kwazvo. Nzira yandakanga ndichida yakanga iri mhiri kureva kuti ndaifanirwa kuyambuka nemurwizi umu. Ndakatarisa kuerera kwaiita mvura iyi ndikaona ichizondieredza pakuyambuka.\\nNdakaramba ndakatarira rwizi rwuya ndichifunga zano raizondisvitsa kumhiri. Ndakazongonzwa simba raiita kunge munhu arikusundwa ndichibva ndasvetukira mumvura umu. Ndakatanga kushambira ndichienda kumhiri apo mvura yaikundikana kundisunda kuti indieredze.\\nKuti ndisvike kumhiri kwacho rwaiva rwendo rwaitoda kushinga. Ndakashingirira apo ndakazosvika kumhiri zuva rava kurova nhongonya. Kubva musi wandakaberekwa ndakanga ndisati ndamboshambira sezvandakaita musi uyu. Zvaisava nyore kushambira kubva makuseni kusvika masikati.\\nNdava kumhiri ndipo pandakatanga kutsvaga nzira yandaizofamba nayo. Ndakaona kamuzhanje kaiva nechekumadokero ako kandakanga ndamboudzwa nezvako. Izvi zvaireva kuti ndakanga ndichiri kufamba negwara randakanga ndarairwa kuti ndifambe naro. Ndiko kwandakabva ndatanga kufamba ndichienda nako. Rwendo rwakanga rwuchiripo asi rwakanga rwusisina kukura.\\nZuva rakasvika pakurereka zvekare ndichiri parwendo. Panguva iyi ndakanga ndaneta ndavakufunga pandaizorara zvekare kuti ndigosimudzira nerwendo. Ndakambozviudza kuti rega ndimbofamba zvishoma zvimwe ndaigona kuwana nzvimbo yakanaka pamberi. Ndichangoti fambe ndipo pandakaona kamoto kaibvira kari kure zvishoma.\\nNdakambozvibvunza kuti angava ani iyeye anovesa moto manheru musango rinotyisa kudai. Mubvunzo wacho handina kuuwanira mhinduro ndakangokwanisa kuramba ndichifamba. Apa ndakanga ndava kufanirwa kushingirira kusvika ndasvika kwaiva nemoto ikoko.\\nPandaifamba moto uya vaiswederawo pedyo. Ndakaramba ndichiswederawo ikoko apo ndakazoona ndava pedyo pedyo. Ndipo pandakaona kuti panzvimbo iyi pakanga paine imba imwechete iyo yairatidza kuti yakanga yava nemakore iripo uye denga rakanga rakapedzisira kupfirirwa kare.\\nNdakafamba ndichienda paiva nemoto uya ndichida kuona kuti pakanga painani. Ndipo pandakabva ndaona chiso cheharahwa iya yandakanga ndamboona kuhope.\\nNdakaramba ndakaitarisa ndichishamisika sezvo ndakanga ndisina kutarisira kusangana nayo. Ndakaramba ndakaitarisa ndichiedza kufananidza kuti ndizvo here zvandakanga ndichiona. Harahwa iya yakabva yashamisa\\nHONDO YEHUMAMBO\\nmuromo wayo kuti itaure.\\n\"Kwazivai Nyamuziva, ndimi madai kutitsika pamuzinda uno. Ndimika varidzi wemasango. Pamunopinda musango hamudzoke musina chamakabata.\" Ndakatomboshaya kuti sekuru ava vakanga vaudzwa nani kuti ndiri nyamuzihwa.\\nNdakabva ndati rega ndipindurewo ndinzwe zvaizotaurwa kumberi.\\n\"Ndinofara zvangu changamire ndinovimba kuti nemiwo munofara.\" Ndakadaro ndichipindura harahwa iya.\\nNdakanga ndamirira kunzwa mashoko ayaizotaura kumberi. Harahwa iya yakazoshamisa muromo wayo kuti itaure.\\n\"Pano pakanaka mwanakomana, ndakasimba sekundiona kwaurikuita ikoko, ndafara ndichikuona uchisvika nekuti rwendo rwavafamba harwufambwe nyore. Vazhinji havasviki asi iwe vasvika kureva kuti varikumhepo vanofara newe.\" Ndakanyemwerera ndichinzwa mashoko aitaurwa neharahwa iyi. Yakazoenderera mberi sezvo yakanga ichine zvimwe zvekutaura.\\n\"Hushingi hwako hunodadisa mwanakomana, ndinoda kuti urambe vakashinga mwanakomana nekuti rwendo rwauchafamba pamberi apo rwunorema. Zvichakadaro une rwendo rwasara rwaunofanirwa kupedzisa mangwana asi rwunoda kushinga.\" Yakataura harahwa iya yakanditarisa mumaziso chaimo. Pfungwa dzanga dzakatanga kupishana\\nndavakufunga zverwendo rwakanga rwataurwa urwu.\\nNdakazvibvunza mibvunzo yakawanda mushure mekunge ndanzwa nyaya yerwendo urwu. Rwendo rwacho rwakanga rwuri rwekuenda kupi? Ndiwo mubvunzo wakatanga kuuya mumusoro mangu. Rwendo rwacho rwakanga rwakakura here uye rwakanga rwuri rwemazuva mangani?\\nNdakazvibvunza mumwe mubvunzo zvekare.\\nKo ndaizosangana nezvikara here parwendo urwu? Ndakazvibvunza mubvunzo uyu zvekare. Ndakabva ndazviudza kuti ndichaita sezvandaudzwa hapana chandaizopikisa. Harahwa iya yakazoenderera mberi nekutaura.\\n\"Rwendo rwavafamba rwurefu asi rwunebasa harwusati rwatanga. Hapana hapo kure kwatinoenda asi hushingi hwako ndihwo hunodiwa kuti tidzoke. Kana uchinge vapedza zvandinenge ndakuraira unenge wazodzwa kuva mambo uye varikumhepo vanozokuchengeta pese paunofamba.\" Yakataura harahwa iya ichibva yambonyarara. Panguva iyoyo ndipo pandakatanga kudzeya mashoko\\nakanga achangobva kutaurwa.\\nSaka rwendo rwakanga rwasara urwu rwakanga rwakaoma kudarika kwandakanga ndabva here? Mumwe mubvunzo wandakazvibvunza zvekare. Chokwadi rwendo rwacho rwakanga rwakaoma kunyangwe zvazvo pasina chikara chakandirwisa. Ndakabva ndati rega ndipindure sekuru panyaya yavo yavakanga vataura.\\n\"Pakanaka changamire nhau yamataura ndainzwa, ndichaita zvose zvamuchandiraira uye hapana chandinopotsa.\" Ndakataura kuti sekuru vazive kuti ndakanga ndanzwa mashoko avo.\\n\"Ndinoziva unokunda muzukuru ndizvo zvakaita kuti pasarudzwe iwe. Nguva ino ndavakuda kukuzivisa nezvangu sezvo vasvika uri muenzi.\" Yakataura harahwa iyi ndichibva ndashamisa muromo wangu kuti nditaure.\\n\"Pakanaka changamire, ndicho chishuwo changu kuti ndizive zvizhinji pamusoro penyu. Semunhu akutsikai mumuzinda menyu handingazobude ndisina zvandinoziva pamusoro penyu. Kana muchinge mapedza kunditsanangurira neni ndichakuudzaiwo zvizhinji pamusoro pangu.\" Ndakataura mashoko aya apo ndakanga ndichipindura harahwa iyi. Ndaizofara kunzwa zvizhinji pamusoro peMusharukwa uyu. Ndaizovatsanangurirawo zvangu tobva tatovaka hukama.\\nHONDO YEHUMAMBO\\n\"Kana zviri zvako usandiudze hako nekuti hapana chandisingazive, ndogona kutotanga kukuudza zvembada yavaona padombo iyo yakarara yakakuchengetedza asi vambofunga kuti pako papera. Ndokuudza zvekare zvenyoka yavakaona kugomo rembiri iro yausina kuziva kuti yaitevera mumashure mako ichikuchengetedza parwendo. Kana uchida nditaure zvimwe zvizhinji.\" Ndakashamisika ndichinzwa harahwa iyi ichitaura mashoko aya. Ndakashaya kuti zvese izvi yakanga yazviwanepi izvo zvakaita kuti ndiwe nechidokwa dokwa chekuziva zvizhinji pamusoro peharahwa iyi.\\n\"Ndapanzwa hangu changamire, ndinotenda kuti varikumhepo vanokurotesai zvinenge zvichiitika musango kana paine ari padambudziko obatsirika. Ndatononokerwa hangu nekunzwa mabatiro amunoita mumuzinda muno.\" Ndakadaro mushure mekunge ndanzwa mashoko eharahwa.\\n\"Mwanakomana uchindiona kudai ndini svikiro hombe rakabata nzvimbo dzese dzakapoteredza. Madzimambo ose aunoona ari munzvimbo dzakatipoteredza ari pasi pangu uye hapana anopikisa chese chandinenge ndataura.\" Yakataura harahwa iya ndakaitarisa mumaziso chaimo.\\nNdaidzeya mashoko ese ayakanga yataura. Saka zvaireva here kuti Mushoriwa mudiki pamasimba? Ndiwo mubvunzo\\n\"Madzimambo ose aunoona ari munzvimbo dzakapoteredza akapfuura nepano uye hakuna humambo hunogadzwa ndisingazive. Ukaona anogadzwa humambo asina kupfuura nepano anenge aita hwekutenga uye humambo hwacho haugare. Ndizvo zvishoma zvandati ndingokuudza, kana zviri zvezita rangu handikwnisi kukuudza kuti ndinonzi ani asi ingogara uchiziva kuti ndiri svikiro remasvikiro.\" Harahwa iya yakambonyarara ichangobva kutaura mashoko aya.\\nTakazokurukura hedu nyaya dzemararamiro atakanga tichiita munzvimbo dzataigara. Ndipo pandakaudzwa nhoroondo yese yehumambo hwemumusha medu uye kwakatangira dzinza rekwangu. Harahwa iya yakazonditsanangurira kuti yakanga yava nemakore mazhinji zhinji ichigara musango umu.\\nTakazodya tichibva tarara hedu kuitira kuzomuka mangwana. Sekuziva kwedu husiku hurefu asi hapana nguva isingasvike.\\nTakamuka kuseni tichibva tatotungamidzana neharahwa iyi tichienda kwandaisaziva. Ndipo payakandiudza kuti taifanirwa kuyambuka rwizi rainzi Dziva ramambo. Nenguva isipi takanga tasvika apo taifanirwa kuyambuka dziva iri.\\nNdimo mandakaona makarwe achikwidza nekudzika kasingaperi\\nNdakaramba ndamatarisa mudziva muya mataifanirwa kupinda namo. Mupfungwa dzangu ndaizviudza kuti tinopona here nemakarwe akanga achitenderera aya.\\nChokwadi chaicho takanga tavakuisa hupenyu parumananzombe. Kuzvipira kuitwa nyama yemagora kuzvipinza mudziva rine ngwena.\\nImwe pfungwa yakazondidzikamisa pandakarangarira zvese zvandakaona musango. Dai varikumhepo vaisava neni ndingadai ndakapararira musango. Paya ndakasangana nerovambira hapana zvarakandiita, ndikazosangana neingwe zvekare haina kumbondirwisa. Rwizi rwandakashambira paya rwaisangoshambirwa vaieredzwa.\\nZvese izvi zvakabva zvandidzikamisa ndichibva ndazviudza kuti ndichapinda mudziva rine ngwena iroro.\\nSekuchengetwa kwandakanga ndaitwa musango ndiko kuchengetwa kwandaizoitwa mudziva iri. Ndichakatarisa mudziva muya harahwa iya yakabva yandiraira kuti nguva yekuti tipinde mudziva yakwana. Panguva iyoyo yakabva yasvetukira mudziva riya kwakushambira ichienda.\\nNdini ndakanga ndasara kuti nditeverewo kwakanga kuchienda harahwa iyi. Ndakabva ndasvetukawo ndichipinda mudziva riya. Ndakatanga kushambira ndichienda nedivi rakanga richienda sekuru. Makarwe haana kumira kutenderera mamwe acho aitondiperekedza kumahombe kombe kwerwizi kwataienda.\\nNdakaramba ndichishambira apo ndakazoona ndasvika kumahombe kombe kuya. Sekuru vakanga vatobuda nechekare ini ndichibva ndaita zvimwechetezvo. Ndakaona sekuru vaya vatanga kunyemwerera vakanditarisa.\\n\"Muzukuru zvavaita izvi zvinodadisa kwazvo, kuti unzi mambo unofanirwa kunge uine hushingi hwakapfuurikidza. Hapana paungazotungamire vanhu iwe uchivhunduka dzvinyu chairo. Iwe mutungamiri ukasava neushingi kureva kuti uchasiya vanokutevera vachiitwa kanyama vakatarisa.\" Sekuru vaitaura havo zvinyoro nyoro apo mashoko acho ndakamaisa pamoyo pakadzika dzika.\\n\"Neniwo Sekuru ndinofara nechidanho chandasvika nerwendo urwu. Zvakanga zvisiri nyore kwandiri nekuti zvandaiona parwendo zvaityisa. Varikumhepo ndinovatenda nekundisvitsa pano muzuva rino uye ndinovimba kuti vachanditungamira pakupedzisa zvasara.\" Ndakadaro ndichitaurira sekuru mashoko akanga aripamoyo pangu.\\nVakabva vashamisawo muromo kuti vataure.\\n\"Zvinhu zvinodadisa muzukuru, kana baba vako vanofara newe nekuti vanoziva kuti wawana murwi ane hushingi. Kana kukaita hondo hauzezi kupinda panopisa pacho nekuti zvavakaona zvikuru kudarika mapfumo nemiseve. Basa rasara mwanakomana ndiro hombe ukapedza ipapo varikumhepo vanenge vatokugadza humambo. Unenge vangomirira zuva rekugadzwa zviri pamutemo.\" Vakadaro sekuru vaya tichibva tambonyarara takadaro.\\nTakafamba kamufambo kakanga kakareba zvishoma tichibva tasvika paiva nerimwe zimuhacha. Ndipo patakambogara tichiti tizorore. Takagara ipapo sekuru vaya vakabva vashamisa muromo wavo kuti vataure.\\n\"Muzukuru basa hombe ravakutanga pano, pane nguwo yedehwe reshumba yandinoda kukutuma kunotora.\\nYakaturikwa pamuti uri mhiri uyo ini ndichasara ndakagara pano. Zvese zvauchaona ikoko usatye nazvo unongoita zvandakutuma.\" Vakadaro sekuru vachindiratidza muti murefu vakanga uri zvinhambwe.\" Ndakatarisa muti uya ndichibva ndatanga kufamba ndichienda ikoko.\\nSekuru vakasara vachiimba nziyo dzavo dzaiimbwa kazhinji panenge pachidanwa varikumhepo. Ndakafamba ndakananga nedivi riya ndichizvisimbisa kuti ndinodzoka chete nenguwo yandakanga ndatumwa kuti ndiitore.\\nPachokwadi ndaizodzoka nayo chete.\\nNdichangoti fambe ndakaona mapere aitandanisana achiuya nekwandaiwa. Kapfungwa kekutya kaya kakambouya apo ndaiona pangu patopera. Mapere aya akasvika achipfuurira ndichibva ndaenderera nerwendo rwangu. Handina kuda kutarisa kuti aenda nekupi sezvo ndakanga ndiri mumashure menguva.\\nNdakaenda mberi nerwendo apo ndaiona muti uya uchiswedera pedyo. Nenguva isipi ndakaona ndasvika pamuti uya. Ndakatanga nekutarisa pakanga pakaturikwa nguwo yaitaurwa iya ndichibva ndaiona. Ini ndini ndakanga ndasarirwa nekukwira mumuti kuti ndiitore.\\nNdipo pandakaona pasi pemuti wacho pakarara shumba. Hana yangu yakaita kunge ichatsemuka ndakatarisana nechikara ichi. Ndakangoti rwendo rwuno zvakanga zviri kwangu zvekusangana nechikara. Shumba iya yakangodzvova ichibva yafamba ichiuya kwandiri.\\nYakangomira yakatarisana neni ichibva yatanga kufamba ichienda.\\nHandina kuzoda kudya manonoko ndakabva ndakwira mumuti muya maiva nenguwo yandakanga ndatumwa. Ndichingotora nguwo iya handina kuda kuzopedza nguva ndiri pamuti apa. Ndakabva ndatanga kufamba ndichienda kwandakanga ndabva kuya kwakanga kuina sekuru.\\nNenguva isipi ndakanga ndasvika pavari.\\nNdakaona sekuru vachinyemwerera vachiona ndichivatambidza nguwo iya yandakanga ndatora mumuti. Vairatidza kuti vaifara nebasa randakanga ndabata.\\nVakamboramba vakanditarisa kumeso vanenge vaifunga pekutangira nyaya yavo yavaida kutaura.\\n\"Muzukuru apa wadadisa zvikuru, iyo nguwo yavauya nayo iyi ndiyo inoratidza kuti humambo ndehwako. Dzinza rako ndere vaera shumba kureva kuti dehwe reshumba iri ndiro rauchapfeka pamazuva ako ekutonga. Ndosaka vaona mhondoro yakarindira zvese izvozvo zvinoreva kuti varikumhepo vakutendera.\" Ndakaita kunge ndichabata denga ndichinzwa mashoko aya. Ndakatadza kuzvitenda chokwadi kuti ndini here ndaizoita mambo Pfupajena wechipiri.\\nNdakazopfekedzwa nguwo iya tichibva tatanga kufamba tichibva paya. Ndipo pakanga paperera rwendo rwangu kwakanga kwasara kudzokera kumusha kwandakanga ndabva. Rwaiva rwendo rwurefu asi ndaizosvika chete sekuuya kwandakanga ndaita.\\nTakasvika padziva riya ratakambenge taona makarwe sezvo yakanga iri iyo nzira yekudzokera kumuzinda wasekuru.\\nMakarwe ese atakanga tamboona pakuyambuka pakanga pasisina. Ndakatoshamiswa nazvo apo ndakazoziva kuti ndezve varikumhepo.\\nTakayambuka dziva riya apo takazoona tava kumhiri. Takafamba takatungamidzana takananga kumuzinda wasekuru. Munzira mese vaingondirumbidza vachinditi ndakanga ndiri murume pane vamwe varume. Humambo hwangu hwaizogara kusvika ndife sezvo varikumhepo vakanga vanditambira.\\nNenguva isipi takanga tatosvika pamuzinda wasekuru. Sezvo zuva rakanga ravakuda kuenda munaamai varo sekuru vakabva vanditi ndaizorara pamuzinda wavo zvekare. Ndaizosimudzira kubvapo makuseni ndichifamba rwendo rwangu rwemazuva. Takazodya hedu tichibva tarara.\\nNenguva isipi ndakanga ndatobatwa nehope.\\nNdipo pandakatanga kuona ndakamira muneimwe nzvimbo yandisina kuziva. Ndakanga ndakakomberedzwa neshumba zvekuti pakanga pasina pekubuda napo. Ndipo pandakaona baba vangu vachiuya vakabata tsvimbo hombe yaidarika yavakanga vambondipa. Ndakaramba ndakavatarisa vachiuya apo vakabva vanditambidza mumaoko.\\nVakazoshamisa muromo wavo kuti vataure.\\n\"Mwana wangu uchengetedze tsvimbo iyi pamwechete neiya yandakakupa. Ugova mambo ane moyo muchena uchigona kutungamira vanhu nenzira yakanaka. Usava neruchiva nezvinhu zvevanhu nekuti mangwana zvinokupinza muna taisireva. Ugotonga zvakanaka asi chigaro ichocho chichanetsa kuti uchiwane. Ugoshinga hako nekuti varikumhepo vanenge vanewe.\" Vakadaro baba vangu chiso chavo chakasuva.\\n\"Baba zvamunotaura makasuva kudai kwakanaka here? Handisati ndambokuonai makasuwa kudaro.\" Ndakabvunza nekuti zvandakanga ndichiona panguva iyi zvakanga zvakasiyana nezvemazuva ese. Baba vangu vakanga vari munhu akafara asi kuhope uku zvakanga zvakatosiyana.\\n\"Mwana wangu muvengi atenderwa kuti aite zvaanoda nemuzinda wangu asi zvakanakira kuti zvavakuuya vazadzisa rwendo rwandakanga ndakutuma. Zvinonetsa kutambira asi ndizvo zviripo.\" Vakataura baba vangu vachiratidza kuti vakanga vakatoomerwa.\\nNdipo pandakati rega ndibvunze zvandaida kubvunza ndinzwisise zvizhinji. Havana kundipa mukana vakabva vandiudza kuti zvandakanga ndanzwa zvakanga zvakaringana. Vakatanga kubhururuka apo ndisina kuzovaona zvachose. Ndiyo nguva yandakabva ndapepuka ndichioma kuchakasviba.\\nNdakatanga kubatanidza hope dziya ndichiti ndaizowana mhinduro. Hope idzi dzakanga dzisina kunaka uye dzaiva nechirevo chezvinhu zvakanga zvavapedyo kuda kuitika. Ndakazobatwa nehope ndiri pakubatanidza kudaro.\\nNdakazomuka kwaedza ndichiti ndigadzirire zverwendo.\\nNdipo pandakanzwa sekuru vachinditi hapana zvandakanga ndarota here. Ndakashaya kuti vakanga vachizvitora kupi semunhu akanga akangorarawo sevamwe. Ndakabva ndataura hope dziya kuna sekuru sezvo vakanga vachizokwanisa kundipa mhinduro. Sekuru vakabva vashamisa muromowavo kuti vataure.\\n\"Muzukuru pane zvinoda kuitika mumuzinda menyu. Baba vako havachina mazuva vari panyika pano. Ndiwe uchatora humambo asi huchakutorera nguva kuti uhugare.\" Vakadaro sekuru vaya vachiedza kupatsanura hope dzangu.\\nNdakazosimuka apo ndakanga ndava kutanga rwendo rwangu. Ndaizoita mamwe mazuva maviri zvekare ndiri munzira. Ndakafamba nenzira iya yandakanga ndambofamba nayo. Zuva rakazosvika pakurova nhongonya ndasvika parwizi.\\nPakanga pasina chachinja rwaingoerera zvinesimba sekurwusiya kwandakanga ndaita. Semunhu akanga amboyambuka nepo ndaisazotadza kuyambuka zvekare. Handina kutora nguva ndakatoona ndava kushambira murwizi rwuya. Rwaiva rwendo rwurefu apo ndakazoona ndabuda kumahombekombe.\\nNguva dzakanga dzafamba apo ndakatanga kukanda nhanho ndichibva apo. Kunze kwaifanirwa kusviba ndasvika padombo rangu riya. Nekukanda kwandakanga ndichiita nhanho ndaisvika chete. Ndaizobvapo kwaedza ndosimudzira kunosvika kumba.\\nNdakazokwanisa kusvika padombo riya kunze kwavakuda kunoita rima. Ndakasvikokwira padombo rangu riya ndichibva ndavesa moto wangu.\\nNdakarara husiku hwese paya apo ndaimbopepuka dzimwe nguva ndichinzwa kuchema kwezvikara. Ndakanga ndisisatye semunhu akanga apihwa simba rekutonga misha zvese nemasango. Husiku hwakanga huri hurefu apo kunze kwakazoedza.\\nChishamiso chandakaona zuva randakarara padombo iroro ndicho chandakaona zvekare. Ingwe yakanga yakangorara panzvimbo yayo yandakanga ndamboiona. Semunhu akanga avakuziva zvaiitika hazvina kumbondivhundutsa.\\nNdakaramba ndakagara zvangu ndichimirira kuzosimudzira.\\nIngwe iya yakazouya ikandinhuhwidza ichibva yaenda zvayo. Ini handina kuzogara padombo riya ndakabva ndasimudzira nerwendo rwangu. Ndakafamba musango muya apo zuva rakazorova nhongonya ndava kukwira mugomo. Ndakanga ndoimba hangu mashoko anoti tambirai mwana wenyu auya nerugare.\\nPachokwadi ndakanga ndauya nerugare nekuti hapana chakaipa chandakasangana nacho mumasango anoera. Ndakakwidza gomo riya apo ndakazoona ndava kuteremuka kuseri. Ndipo pandakaona rovambira riya randakambosangana naro richisimudza musoro richimonera pabazi remuti. Ndakazobvuma kuti chokwadi ndakanga ndine vaperekedzi parwendo.\\nNdadzika gomo riya ndipo pandakatanga kufunga kuti ndofamba sei. Imwe pfungwa yakanditi enda nekuninga yemadzimambo asi dambudziko nderekuti kwaisangotenderwa kusvika. Imwe pfungwa ndiyo yakanditi nditore nzira inobudira pamba. Yaibva yauya imwe zvekare ichinditi rwendo rwako vakatangira kumba here?\\nNdakazongoita kunge munhu asundwa kuti aende nekuninga yemadzimambo. Ndaitoita kunge ndiri kushevedzwa ikoko saka ndiyo nzira yandakabva ndashandisa. Zuva rakanga rarereka saka ndaiita kukanda nhanho. Chikuru chandaifarira ndechekuti ndakanga ndasvika kumusha.\\nNdakafamba ndakananga kuninga kuya apo ndaizobva ikoko ndichienda kumba. Chakanga chichindisunda ndicho chaizondiudza zvekuita ndasvika ikoko. Kana pasina ndaizongofamba ndichienda kumba. Ndakaramba ndichifamba apo ndakatanga kuona vanhu vakanga vari paninga apa ndiri nechekure.\\nZviso zvese zvandaiona ndakanga ndichigere kuzviziva. Ndakazviudza kuti rega ndisvike padhuze ndinyatsoona kana paine wandaiziva. Ndavamudhuze ndipo pandakatanga kunzwa vanhu vaya vachiimba pamwe nekuridza ngoma.\\nKwazivai mambo mafamba masango anoera. Kwazivai manbo mafamba masango anoera. Chatinoshuvira murarame nekusingaperi. Chatinoshuvira murarame nekusingaperi.\\nNdiko kuimba kwakanga kuchiita vanhu vaya. Ndakabva ndaziva kuti ndini ndakanga ndichitambirwa. Nenguva isipi ndakanga ndasvika paninga iya. Ndakatarisa vanhu wese vaivapo ndichibva ndaziva Mushoriwa, Marwei nababa.\\nVamwe wese ndakamboedza kuda kufungidzira asi ndakashaya kana mumwechete. Panguva iyi Mushoriwa akanga akapfeka nguwo dzake dzesvikiro, baba vakapfeka dehwe ravo reshumba uye Marwei akanga akapakata zvombo zvake zvehondo. Vanhu ava vairatidza kuti vakanga vasina nguva yakareba vatanga mutambo uyu.\\nMushoriwa akatanga kufamba achiuya kwandiri achibva asvika achindikwazisa senzira yekunditi makorokoto.\\nNdakaona Marwei auya zvekare achibva andikwazisa. Baba wangu ndiwo vakasvika vakaita zvekundimbundira. Vamwe wese vaivapo vakaita zvimwechete vaingouya vachindikwazisa. Ndipo pandakazonzi ndipfugame nemabvi ndakatarisa kuninga. Ndakanzwa wese wavakutaura pamwechete asi vaitaura mashoko mamwe.\\n\"Kwazivai mambo wemadzimambo, mambo ane hushingi asina chikara kumberi kwake. Mambo asingazezi kupinda mudziva rengwena. Chokwadi mambo munoshamisa, hushingi hwenyu hunotishamisa. Munofamba masango anoera musingatye, chokwadi kudzwai mambo wemadzimambo. Murarame nekusingaperi mugotichengetedza.\" Vachipedza apa pakabva paridzwa mhururu nemiridzo. Takazobva apa asi takazoona tava vana. Vamwe wese vakanga vari pamutambo uyu handina kuona kuti vafamba sei.\\nNdakashamisika nechiitiko ichi sezvo ndisina kumboona vachioneka. Sekuziva kwedu vanhu vanoonekana wotoona kwavanenge vaenda nako asi apa handizvo zvakaitika.\\nNdakangoona yava nzvimbo kwangosara ini nababa vangu naMarwei naMushoriwa.ndipo pandakakwenya baba vangu ndichiti ndivabvunze zvakanga zvichitora nzvimbo. Ndisati ndabvunza Mushoriwa akabva ashama muromo vake kuti ataure.\\n\"Mwanakomana usatye zvako nezvavaona. Ndizvo zvinoratidza kuti tsvimbo yeumambo yakanga yakatendeka iwe. Zvese zvavaona nezvazoitika ndezvekuninga zvinoperera ikoko. Zvekuzoda kubvunza kuti zvazofamba sei kuti zvidaro dzava nyaya dzevari kumhepo. Ndangoti ndikuudzewo mashoko iwayo.\" Akataura Mushoriwa apo akanga ananga paiva nepfungwa dzangu.\\nBaba vangu handina kuzovabvunza nekuti mubvunzo wangu vakanga vatopindurwa nesvikiro. Semunhu akanga ava nepfungwa dzinoshanda zvakabva zvandibudira pachena kuti ava vaisangova vanhu.\\nNdakazongozviudzawo kuti zvimwe ndiwo vadzimu vacho vanenge vachirehwa. Takafamba kamufambo apo takazoona tavakusvika kumuzinda. Tichipinda mumuzinda takabva tananga kudare. Takanga tingori tega saka yakanga yava nguva yekupedzisa basa. Tagarisika Mushoriwa ndiye akabva atanga nyaya yake.\\n\"Mwanakomana zvavaona zvadai votomira semurume, ndizvo hazvo kuti vafamba masango anoera uye vaona zvinoshamisa parwendo. Zvese izvozvo zvakanaka nekuti vakaratidza ushingi hwako asi zvakuda kumira semurume.\" Ndakaramba ndakanyarara ndichiedza kubatanidza mashoko aitaurwa naMushoriwa. Ndiri pakufunga kudaro akabva aenderera mberi.\\n\"Mwanakoma pane chakanaka hapashaye chakaipa, ungwarire paunofamba nekuti muvengi vako munhu ari pedyo newe. Unogona kufara nhasi kuti vafamba rwendo rwehumambo asi muzuva remangwana pane anenge achikuronda matsimba kuti usagare humambo.\\nVarikumhepo varikundionesa pamberi apo pasina kumira mushe asi pamberi pacho uchazotonga hako.\" Akataura Mushoriwa apo ini ndakanga ndakateya nzeve. Mashoko aMushoriwa aida kuchengetwa pakati kati pemoyo chaipo nekuti aisangopera akadaro. Aiti akataura nhau yake yaizoitika nerimwe zuva. Ndipo pavaizoona vamwe vanenge vakaramba chenjedzo vachichema kuti dai takaziva.\\nNdakatanga kubatanidza mashoko aitaurwa nesvikiro iri ndikaona kuti pane nyaya. Kakanga kasiri kekutanga kunzwa nyaya yekunetsa kwehumambo iyi saka ndaifanirwa kufamba ndakachenjera. Nekuda kwerwendo rwandakanga ndafamba urwu ndaiziva kuti ziso remuvengi rinenge riri pandiri nguva nenguva.\\n\"Kunyangwe zvazvo paine vachakurwisa usatye zvako. Varikumhepo havazombokusiya wega iwo vakasarudza iwe. Kungoti hapana ushe hunogarwa nyore nekuti munenge muchihuda makawanda. Anenge asarudzwa nevari kumhepo ndiye anozotonga izvo zvinozounza ruvengo.\\nIchasvika zvayo nguva yekurwiswa asi inopfuura, ugova nehushingi.\" Akataura mashoko aya Mushoriwa achibva aoneka. Takabuda naye panze apo akatanga kufamba ega.\\nHatina kuona kuti afamba sei takazongoona anyangarika murima. Ndiwo mafambiro aiita murume uyu sekunzwa kandaiita nevanhu ainzi kana uchimuperekedza manheru vaisafanirwa kumuburitsa chivanze. Aibuda ega asi maisazoona kwaanenge aenda.\\nZvisinei kudya kwemanheru kwakauya tichibva tatanga kudya hedu nababa vangu tichikurukura. Ndipo pavaindiraira kutungamirwa kunoitwa vanhu mune zvakanaka. Semunhu akanga atonga makore akawanda vakanga wava neuchenjeri.\\nTapedza hurukuro yedu takazoonekana ndichibva ndaenda kunorara. Semunhu akanga afamba rwendo rwurefu ndaifanirwa kumbozorora. Hope dzemumba ndakanga ndisisadzizive saka ndaifanirwa kutombidzivata.\\nNdakazorara zvangu apo husiku hwacho hwakanga hwakareba. Kuchiedza ndakabva ndamuka semazuva ese ndichiona muzinda wangu. Wakanga wava muzinda wangu sezvo ndakanga ndasarudzwa nevari kumhepo. Ndiri pakutenderera ndipo pandakasangana naGarikai.\\n\"Ko vakanga vaendepiko kwaunobva vaita mazuva akawanda kudaro uriko? Ko dehwe reshumba iri vakariwana kupi?\" Akabvunza Garikai achida kunzwisisa kuti ndakanga ndaendepi. Ndipo pandakabve ndati rega ndipindure.\\n\"Ndakanga ndakafamba rwendo mukoma , rwendo rwacho rwaiva rwurefu asi ndinotenda vari kumhepo kuti vaindichengeta mumupata werufu. Kana zviri zvedehwe randinaro iri mukoma mozobvunza baba kana Marwei.\" Ndakataura mashoko aya ndichiedza kuvanza chokwadi kuna Garikai.\\nAkaramba akanditarisa mumaziso neziso rakasara panzara. Takaita nguva takatarisana pasina aitaura nemumwe.\\nAkazoita zvekundisunda achienda pasina chaataura.\\nNdakasara ndakamira ndakamutarira apo ndakazopedzisira ndisisamuone. Ndakazosara ndavakudzeya zvangu zvakanga zvichangobva kuitika izvi. Mukoma wangu vakanga vasati vambondiitira izvi kubva ndiberekwe.\\nTakanga takaberekwa nanaamai vakasiyana asi hapana aimboona musiyano. Kunetsana kwaimbowanika asi taigadzirisana mukuwirirana. Garikai vandakaona panguva iyi akanga asiyana naGarikai vandinoziva. Ndipo pandakatanga kuzvibvunza mibvunzo yaida mhinduro.\\nKuti pane akaudza Garikai zvekupihwa kwandakanga ndaitwa humambo nababa? Mubvunzo vakauya mupfungwa dzangu asi hapana aigona kundipa mhinduro.\\nKana akanga avakuzviziva zvaizofamba sei? Handizvo here zvandairairwa kuti ndimire semurume? Ndakazvibvunza mubvunzo uyu asi mhinduro handina kuiwana zvachose.\\nNdakaramba ndakamira paya ndichidzeya chiitiko ichi ndichibva ndaona kuti pane nyaya. Svikiro rairevesa paraiti ndaona pamberi apo pasina kumira mushe.\\nIzvi zvaireva kuti ndakanga ndavakufanirwa kufamba ndakangwarira mukoma wangu nekuti handizive zvavakanga vachifunga. Zviya zvekunzi tiri vana weropa rimwe ndakanga ndava kumbozviisa padivi nekuti zvakanga zvisingashandi.\\nNdakaona kuti ndaigona kungofa rakachekanyika ndichiti mukoma hapana zvavanondiita ndiri weropa. Sekuziva kwangu munhu hauzive zvaanofunga zvimwe akanga atova nehondo mumoyo. Ndakazongozviudzawo kuti pandichafamba ndinenge ndichimuronda kuti arikufungei. Ndakazovhundutswa nenzwi rababa vangu avo vakabva vandishevedza panguva iyoyo.\\n\"Kwakanaka here baba kwamunomuka mangwanani akadai.\" Ndini ndakadaro ndichibvunza baba vangu avo vakanga vakamira kumashure kwangu. Havana kupindura asi vakatanga kufamba zvishoma vachiuya kwandiri.\\nNenguva isipi takanga tatomira tese.\\n\"Mwana wangu pane chirikukudya moyo here, vamira pano nguva yakareba ndakakutarira. Pane zvirikuitika zvisiri kukufadza here kana zvichigadzirisika tizvigadzirise.\" Vakadaro mambo Pfupajena vachida kuziva zvakanga zvichinetsa. Zvakatondishamisawo kuti vakanga vandiona kare ndakamira pandaiva. Ndakanga ndisina kumbovanzwa ndakanga ndiri mubishi kudzeya nyaya yezvakanga zvaitika.\\n\"Zvese zvakanaka hazvo mambo wangu, kungoti ndanga ndichiyeverwa nematombo ari pamberi pangu ayo.\\nMatombo acho akagarana zvakanaka zvekuti ndanga ndichinzwa kuda kungoramba ndakamatarira.\" Ndakadaro ndichiedza kuvanza chokwadi kuna baba vangu. Ndakanga ndisingade kumhanyira pfungwa dzemunhu saka ndaida kumbotanga ndaona kuti chaiva chokwadi here.\\nVakatendeuka vachibva vatanga kufamba zvavo vachienda kuimba yavo. Ini ndakafambawo kubva apa ndichidzokera kuimba yangu yekurara.\\nKuwirirana kwaiita baba naTongai ndakanga ndisingakunzwisise. Ndaimboedza kuda kutsvaga kuti sei achidiwa zvakapfuurikidza kudaro asi ndaishaya mhinduro.\\nZuva raisambovira baba vasina kumbotsvaga mwanakomana wavo uyu. Zvese izvi ndaizviona ndobva ndanyarara zvangu. Semunhu akanga achitsvaga chokwadi chake ndaizozviwana chete zvandaitsvaga. Dzimwe nguva taiti kana tiri padare kana Tongai asipo zvainzi ngatimumirirei.\\nNdakashaya kuti akanga akakoshei mwana wazuro iyeye zvekuti anonzi ngatimumirirei kana pachiitwa matare akakosha. Zvese izvozvo zvaisandifadza nekuti handaiona zvakakodzera kuti mwana mudiki aremekedzwe zvakadaro ini dangwe rababa ndiripo. Hongu ini baba vaindida zvavo asi Tongai vaimuda zvakapfuurikidza.\\nNdakazongozviudza kuti vangamude havo zvakapfuurikidza asi mumwe musi gava raizodambura musungo. Mumwe musi baba vakatanga kugova pfuma yavo mushure mekunge pauya nhume kubva kuna mambo Mupedzachose.\\nVakaona zvakakodzera kugova pfuma yavo sezvo vaisaziva kuti zvinobuda sei kana vaizoenda kuhondo. Imwe nguva taisazovaona zvekare saka zvakanga zvakanaka zvakadaro kuti vagove zvinhu zvavo. Tose takapiwa migove yedu asi chakandishamisa ndechekuti Tongai haana chaakawana.\\nMarwei ndiye akazosvika pakubvunza kuti sei zvadaro.\\n\"Uyu usamutyire Marwei, pane rwendo rwandinoda kutanga ndamutuma. Rwendo urwu rwakakosha zvikuru uye rwunotyisa kufamba. Kwaachaenda ikoko ndiko kune mugove vake kana achinge asvika uye zvinozozadziswa kana achinge adzoka nerugare.\" Ndakanzwa baba vangu vachipindura mashoko aya. Ndakasara nemubvunzo asi hapana chandakakwanisa kutaura panguva iyi.\\nNdakaona kuti ndogona kufungira zvisizvo ndichibva ndanyarara. Asi mumoyo mangu ndaingova nemubvunzo wekuti ndekupi kunoda kuendwa. Dai ndaizoona achienda ndaimutevera chete ndoona kwaakanga achienda.\\nNdakazongozviudza kuti ndichaona kunowira tsvimbo nedohwe.\\nMazuva akatanga kufamba ndakangotarisira kuti ndichaona kubuda kwaTongai achifamba rwendo rwake. Ndaigara ndakaisa ziso rangu paari kuti ndisazorasane naye. Kana zvandaifunga zviri izvo zvaida kuzoitika paisabuda chakanaka. Ndaizvikonesa zuva rakacheka nyika iri. Mumwe musi ndipo pandakati rega ndimboenda musango kunovhima.\\nNdakaswera ndirimo ndichiti ndigoona chataizosevesa nesadza. Ndakamboedzawo kutsvaga chekubata asi masango akanga ari matema. Zvakatondishamisawo kuti ndoswera zuva rese musango ndoshaya kana tsuro zvayo. Ndakazubuda musango muya ndavakufamba kuenda kukuzinda.\\nNdipo pandakasvika zvichinzi Tongai akanga abuda. Manzwi aya akauya sechibhakera munzeve dzangu apo ndaimaudzwa naTichagarika munin\\'ina wangu wegotwe muimba yaamai vangu. Ndakazvidema chandakaswerera musango ndichidzungaira ndichitadza kurindira Tongai kuti ndione kwaaizoenda. Manje apa zvakanga zvakona n\\'anga murapwa achida.\\n\"Saka abva pano nguvai? Uye aenda nedivi ripi wamuona achibuda here?\" Ndakabvunza ndichida kuona kuti ndaizokwanisa kumutevera here kana akanga achiri pedyo.\\n\"Abuda kuseni chaiko asi mabudiro ake anga achiratidza kuti arikuenda kure. Abuda akananga nedivi rekuninga yemadzimambo.\" Ndakaita hasha ndichinzwa mashoko aya. Kwaakanga aenda nako kwaityisa kwakanga kusingaendwi. Ndakashaya kuti hushingi hwake ndehwei kufamba nenzira yekuninga iyi.\\nManje kwaaenda nako uko kumazivandadzoka, anoitwa kanyama nezvikara kana kurumwa nenyoka achazvidemba hake. Ndakazviudza mashoko aya ndichibva ndatanga kufamba ndichibva pana Tichagarika.\\nTongai akaita mazuva asingawanike pamuzinda apa kubva musi wandanzwa kuti afamba rwendo. Ndaigara ndakangoringa nzira kuti ndigoona zvaaizouya nazvo kubva ikoko.\\nMumwe musi ndipo pandakanzwa ruzha rwaibva nedivi rekuninga. Zuva rakanga rapinda muna amai varo. Ruzha urwu rwairatidza kuti vanhu vakanga vachiimba vachifara. Ndaimboda kuteerera nziyo dzavakanga vachiimba asi ndaidzinzwira kure.\\nNdainzwa kunge paiimbwa mashoko anoti kwazivai mambo mafamba masango anoera. Mambo akanga achirehwa apa ndiani? Mubvunzo wandaizvibvunza zvangu ndakagara padombo ndakatarisa divi rekudare. Saka vakanga vachiimba ndivanaani? Mumwe mubvunzo vandakazvibvunza zvekare ndichibva ndashaya mhinduro.\\nNdipo pandakazosvika pakuona kuti baba vangu vakanga vasipo pamuzinda nguva iyi, ko vakanga varipi? Mumwe mubvunzo vakauya zvekare mumusoro mangu. Mhinduro ndiyo chete yaizonetsa kuwana.\\nNdakamboda kutora nzira yekuninga kuti ndinoona zvaiitika ikoko. Imwe pfungwa yakazonditi ndirege nekuti ndaigona kuzoisa hupenyu hwangu parumananzombe. Zvaiva nani kurega zvangu ndochengetedza hupenyu hwangu. Asi kunyangwe zvakadaro ndaingoramba ndichikuvarira mukati. Maungira ekuimba aya akaramba achiwedzera kuuya munzeve dzangu. Panguva iyi ndakazenge ndava kunzwa mhururu nemiridzo kureva kuti kwakanga kwatoenda vanhu vakawanda.\\nNdakambozvibvunza kuti baba vangu vaikoka vanhu kuninga sei vachiita mutambo vachisiya ini. Mumwe mubvunzo wandakanga ndichida mhinduro kubva kuna iwo baba mbune. Vaifanirwa kuzondipa mhinduro inondigutsa. Ndaitozovanetsa chete kusvika vandipindura.\\nNdakazobva pandakanga ndigere paya ndichibva ndapinda muimba yangu yekurara. Apa vanhu vaiimba vakanga vazomira ndavakunzwa maungira ekutaura kwevanhu vakawanda. Ndakamboda kumateerera asi handina kunzwa kuti vaiti chii.\\nNdakazongorara zvangu ndichimirira kunzwa kupinda kwababa mumuzinda. Kutaura kwevanhu vaya kwakazonyarara uye hapana zvimwe zvandakazonzwa. Pava paya ndipo pandakatanga kunzwa manzwi evanhu vaifamba vachipinda mumuzinda. Ndakateerera manzwi avo ayo andakaziva ese.\\nNdakateerera tsoka dzavo idzo dzandakanzwa dzichienda kudare. Vakatanga kutaurira pasi izvo zvakaita kuti nditadze kunzwa manzwi avakanga vachitaura nyangwe zvazvo ndakaedza nepandinogona. Ndakamboda kuendako asi ndakazorega ndanzwa inzwi resvikiro iro rakanga riripowo. Pava paya ndakazonzwa vanhu wava kuonekana. Ndipo pandakanzwa Tongai achipinda muimba yake yekurara\\nNdakazobatwa nehope ndiri pakufunga kuti zvaizofamba sei kumberi uko. Ndipo pandakaona ndava munyika yezviroto. Ndiyo nyika yekuti unoona kunyangwe zvausati vamboona muupenyu hwako.\\nNdakatanga kuona ndiri musango ndichivhima usavi hwekuseva sadza nahwo. Ndipo pandakaona Tongai ari nechekure akapfeka ngowani yehumambo yakanga yakafanana neyababa. Musiyano vakanga uri wekuti iyi yaipenya zvakapfuurikidza chete.\\nNdakatarisa kuruoko rwake rwerudyi ndichibva ndaona akabata tsimbo nhema. Ndakada kuongorora tsvimbo iya asi handina kuziva kuti aiishandisei. Panguva iyi ndakanzwa hasha ndichibva ndatanga kumhanya ndichienda kwaari.\\nPfumo rangu rakanga riri mumaoko ndakagadzirira kuripotsera. Ndavakusvika pedyo naye ndipo paakatanga kumhanya achienda. Ndaiti ndikapotsera pfumo rangu raipotsa Tongai robva rarova muti. Ndakaramba ndichimhanya asi Tongai handina kumubata.\\nNdakazopedzisira ndamira ndakundikana.\\nHONDO YEHUMAMBO PDF AND COVER DONE BY EVIDENCE KATIYO\\nNdipo pandakasangana naMushoriwa uyo akanga ari svikiro redu. Uyu vaisangosangana naye pasina chakakosha chaanoda kutaura. Akabva atondimisa pakarepo apo akandiudza kuti aiva nenyaya.\\n\"Mwanakomana nyaya yandinayo haina kumbokura. Ndinoda kungokuudza kuti ungwarire kutamba nemaisva pasina mvura.\" Nemashoko aya Mushoriwa akabva anyangarika handina kumuona. Ndakabva ndapepuka pakarepo ndakadikitira.\\nNdakatanga kubatanidza hope dzandakanga ndichirota idzi ndichiti zvimwe ndingawane mhinduro. Ndakashaya kuti kushonga kwaiva kwakaitwa naTongai kwakanga kuchirevei. Tsvimbo yaakanga ainayo kuhope uku ndakanga ndisati ndaiona kubva ndichiberekwa. Mubvunzo wangu mukuru vakanga uri pana Mushoriwa pamashoko aakataura.\\n\"Mwanakomana nyaya yandinayo haina kumbokura. Ndinoda kungokuudza kuti ungwarire kutamba nemaisva pasina mvura.\" Mashoko aya ndakanga ndichiri kumarangarira asi ndakashaya kuti akanga achirevei.\\nMadhaka acho ndaizotamba navo kupi? Svikiro racho harina kunyatsotaura nyaya yacho raingotaura madimikira.\\nNdakazongozviudza kuti ndinoona kunowira tsvimbo nedohwe. Sezvo kunze kwakanga kwachena ndakabva ndabuda zvangu panze.\\nNdichingobuda ndakabva ndangoti dhuma dhuma naTongai. Panguva iyi akanga apfeka dehwe reshumba randakanga ndisati ndamboona ainaro. Ndakanga ndava nemibvunzo miviri yaizoda mhinduro kubva kuna Tongai. Chekutanga ndaida kuziva kuti akanga aendepi kwaanoita mazuva asingaonekwi pamuzinda. Mubvunzo wepiri vakanga uri wedehwe raakanga akapfeka.\\nMhinduro yake yakandipa hasha nekuti ndakanga ndisina kuitarisira. Hapana chinhu chinorwadza sekuti unobvunza chinhu wonzwa wavabvunza achikutuma zvekare kune mumwe munhu. Ndakazoita zvekudhuma Tongai ndichibva panzvimbo yaakanga ari.\\nTONGAI\\nMazuva akaramba achifamba tichingorarama tirimo mumuzinda. Kuwirirana kwakanga kuri pakati pangu naGarikai kwakatanga kuita kuchipera.\\nZiso raaindipa pese pataisangana rairatidza kuti pane zvaifungwa. Manje ini ndakanga ndakatoteya kuti chese chaaronga chaisazobudirira. Kana zviri izvo zvairehwa nesvikiro ndaizomirawo semurume pachokwadi.\\nChandaifarira ndechekuti kuwirirana kwakanga kuri pakati pangu nababa vangu kwakanga kusina kuchinja.\\nMazuva zvaaifamba nhume yakasvika pakudzoka zvekare mumuzinda medu. Yakasvika takatogara padare tichikurukura hedu dzakasiyana siyana. Sezvayakamboita pakutanga yakataura zvayakanga yafambira.\\nNdipo payakazivisa dare rose kuti yakanga yauya neshoko kubva kuna mambo Mupedzachose. Shoko iri rakanga riri rekuzivisa mambo Pfupajena nedare ravo rose kuti kwakanga kwava kuuya hondo chero nguva. Vakanga varamba kuteerera zvaidiwa namambo Mupedzachose kureva kuti yakanga yava nguva yekuratidzana masimba.\\nBaba vangu havana zvizhinji zvavakataura kunze kwekuti vakanga vakagadzirira chero hondo yacho ikanzi irwiwe. Nhume yakazoenda yakatakura mashoko ayakanga yarairwa kuti inotaura. Ndipo pakasara pachidzeiwa mashoko akanga asiiwo nenhume iyi. Baba vangu vakabva varaira Marwei kuti agare akaunganidza mauto sevanhu vaisaziva kuti hondo inouya musi upi.\\nKunze kwakazosvika pakusviba tichikurukura hedu dzakasiyanasiyana. Marwei akatomboenda akanoshevedzera varwi vake achivaudza nezvehondo iyi. Akazodzoka achiudza baba vangu kuti akanga aronga zvese uye varwi vakanga vatogadzirira. Tiri pakukurukura kudaro ndipo pandakaona museve uchipfuura nepaiva nebaba vangu. Pandakada kutarisa kwavaibva ndakaona umwe uchiuya kuzovarova padumbu.\\nPachokwadi muvakidzani wedu akanga atoshinga kuda kutirwisa. Pamakore ese atakagarisana takanga tisati tamborwisana, kana pari pahondo taitombobatsirana uye anenge awirwa nenzara taipanana zvekudya. Chakava chishamiso kuona nhume ichibva kwamambo Mupedzachose ichitaura zvekuda kutapa vakadzi nedunhu ramambo wangu.\\nNdakambofunga kuti ndirikurota asi ndakazoona kuti nhume iyi yaitaura idi. Nhume ichienda mambo vakazofunga zvekugova pfuma yavo. Vachipedza kugova pfuma yavo vana vakazobva apo baba vacho vakazosara vakagara neni. Ndipo patakazotanga kudzeya nyaya yehondo iyi nekuronga ramangwana kana zvaizoipa.\\n\"Unoona nyaya iripano Marwei, zvinonzi shiri inovaka dendere rayo mvura isati yanaya kuti isazonetseka mangwana.\" Mambo pfupajena vakataura mashoko aya vachibva vambonyarara. Vanenge vaifunga kuti nyaya yavo yonyatsotangira papi. Iniwo ndaiedza kubatanidza kuti ndizive zvairehwa nechibhende chakanga chataurwa apa. Ndipo pandakazoti rega ndibvunze.\\n\"Apa munorevei mambo wangu, handina kunzwisisa zvanga zvakanaka kuti munyatsotsanangura zvizere.\" Ndakadaro ndichida kuti mambo wangu vanange pakanga paine nyaya yavo chaiyo.\\n\"Nyaya iripano yakamira seizvi Marwei, iwe uri jinda rangu randinovimba naro uye vakangichengetedza pazvakanga zvakaoma nyangwe nepazvakanga zvakanaka. Ndosaka uchiona ndisina chandinokuvanza pane zvese zvandinoronga.\" Nemashoko aya mambo vakambokosora vachibva vazoenderera mberi.\\n\"Sekuziva kwatinoita kana tikaenda kuhondo tinotarisira kunokunda asi hapana anoziva zvinobuda kana tisati taendako. Mumwe musi ndinourawa ikoko ndikasadzokazve. Seshiri yakangwara ndanga ndafunga kusiya ndagadza mumwe mambo anozokutungamirai kana zvaenda nepamwe.\" Ndakaramba ndakanyarara mambo vachitaura mashoko avo.\\n\"Sekutaura kwandamboita kuti Tongai ndichamutuma rwendo rwakakosha ndinoda kuti zvizadzikiswe nekukasika. Kana akabudirira parwendo urwu kureva kuti ndiye anenge asarudzwa nevari kumhepo.\" Ndakatenderanawo nazvo sezvo sarudzo yamambo iyi yakanga yakanaka. Taisada kuzosara tichinetseka kutsvaga anogara chigaro chamambo pavaizosanganiswa nemadzitateguru avo.\\nVakabva vatondiudza kuti vakanga vamupa tsvimbo yehumambo uye ndini ndega ndakanga ndava kuzviziva kuti ndozvaivapo. Takazoonekana nguva dzaenda apo taizomirira zuva ratakanga tawirirana. Mazuva akafamba apo zuva ratakanga tavimbisana rakabva rasvika.\\nTakadzika kuninga yemadzimambo kuti tigokumbira varikumhepo pamusoro perwendo urwu. Mambo vakatiraira kuti taifanirwa kusangana nesvikiro nyangwe zvazvo takanga tisina kurishevedza. Kusangana kwedu nesvikiro kuninga ikoko zvaireva kuti rwendo rwemwanakomana wedu rwakanga rwusina kuipa asi zvaizoda hushingi hwake.\\nSekutaurwa kwazvakanga zvaitwa takatoona svikiro rakatimirira paninga ipapo. Tongai akazoshevedzwa apo takabva takumbira kuti varikumhepo vatungamirire mwana. Ari ega aisazvigona saka zvaida kuti amboisirwawo chiedza kumberi kwake.\\nTapedza zvese mwanakomana akazotanga rwendo rwake rwekumazivandadzoka. Sezvo svikiro rakanga rataura kuti nzira yakachena hapana aityira mwanakomana uyu. Zvese zvakafamba mugwara apo akadzoka achigadzwa nevari kumhepo. Chakanga chasara kugadzwa zviri pamutemo paizokwana nguva yacho. Aizoitirwa mutambo vanhu wese voshevedzwa apo vaizoona achigadzwa.\\nMazuva akafamba mumuzinda washe muine mufaro. Mambo Pfupajena vakanga vaine mufaro vakapfurikidza nekuti vakanga wava kuziva kuti mugari wechigaro chavo akanga avapo. Mambo Mupedzachose vakambonyarara kwamasvondo avakanga vataura apo kwakuzotumira nhume zvekare.\\nNhume iya hapana akamboitenderera yakabva yaudzwa kunzi takanga takagadzirira kurwa. Ndakabva ndatoendawo kunoronga mauto angu sezvo takanga totarisira kurwiswa chero nguva. Ndapedza kuronga zvese izvi ndakabva ndadzoka kumuzinda. Ndipo pataikurukura hedu namambo pamwe nevanakomana wavo.\\nPakazongoerekana papfurwa museve usina kuzivikanwa kuti vabva kupi. Wechipiri vakabva wabaya mambo wangu padumbu uchinopinda mukati. Nenguva isipi ndakanzwa rwava ruzha panze madzimai achichema. Ndipo pandakaridza hwamanda yangu yandakanga ndatakura ndichiziva kuti ndinogona kusangana nechiitiko ichi chero nguva.\\nPandakada kumhanya kwaiva nemadzimai aichema ndakanzwa mumwe museve uchiuya nepanzeve pangu apo vakapfuurira uchinorova mambo wangu zvekare.\\nNdakatarisa ndakaona wavabaya apo ropa rakanga rava kuerera nepavakanga wabaiwa napo.\\nNdakaona kuchinja kwezvinhu nguva diki zvandakanga ndisina kumbofungidzira. Panguva iyi ndakanga ndatarisana nemabasa maviri ndiri mumwechete. Mambo vaida kutarirwa nerimwewo divi mhandu dzaida kurwiswa.\\nNdakanga ndoshaya kuti ndoita zvipi chaizvo ndakanga ndapererwa.\\nKuipa kwazvo munhu aipfura miseve ndakanga ndisingamuone kuti ari papi. Imwe nguva ndaigona kusvika ndichiwira muruoko rwemuvengi ndisingamuone ndikaoneka nyika. Sezvineiwo varikumhepo vakazonzwa zvandakanga ndichichema mumoyo mangu.\\nVarwi vandakanga ndaridzira hwamanda vakabva vangoti pfacha vachibva mativi akasiyana. Ndakanzwa yava mhere mhere vanhu vachirwisana sezvo paisava neaida kukundwa. Mamwe machinda ndiwo akazouya kudare kwandakanga ndiri ndakatarira mambo. Setsika yedu mambo taifanirwa kuvatakura kubva apa tovaendesa kwavaizorapirwa.\\nMachinda haana kuda kumirira kuudzwa akangotema mapango achibva agadzira nhovo yekuti tiradzike mambo.\\nTakabva pamuzinda wamambo takavatakura tichienda navo kubako ravaizorapirwa. Hondo yakasara ichitsva ndaingonzwa neruzha kuti hakuna kumira mushe. Mauto angu ndaisamatyira ndaiziva kuti imhare pakurwa. Kungoti mambo wangu vakanga vangorwiswa vakavarairwa imwe nguva ndaigona kuvarwira.\\nRwendo rwacho rwakanga rwakakura sezvo bako iri rakanga riri kumuganhu kwatakanga takaganhurana nemumwe mambo. Sevarume hataizokundwa hedu nerwendo takazoona tasvika kubako riya. Takaita rombo rakanaka takaona sekuru Godobori vari panze pebako vakabata mwenje. Nguva yavo zhinji vaigara vari mukati vaisavaona.\\n\"Ndimi wandanga ndakamirira ndaudzwa nevari kumhepo kuti kune munhu mukuru achasvika pano arikurwara. Regai ndikutungamirirei mupinde mubako umo nditange basa rangu.\" Vakadaro sekuru Godobori tichibva tavatevera kupinda mubako muya.\\nNenguva isipi takanga tatoradzika mambo pasi tamirira kuti Sekuru vabate basa ravo. Ndivo vatakanga totarisira kuti vamire mire mambo wedu ararame. Sekuru Godobori vakatarira murwere akanga arere pamberi pavo ndichibva ndaona wava kudzungudza musoro. Nechemumoyo ndaingozvibvunza kuti pane chakaipa chirikuonekwa nasekuru here.\\n\"Varikumhepo dai vapindira nekuti hazvina kumira mushe. Hongu ndingashandisa unyanzvi hwangu nemiti yangu kurapa asi zvinobvawo nevari kumhepo kuti murwere achapona here kana kuti kwete.\" Mashoko aya akauya achindirova pamoyo chaipo. Zvakanga zvataurwa nasekuru izvi ndakazvidzeya ndikaona kuti mambo vakanga vari pakati pehupenyu nerufu. Rufu ndirwo rwakanga rwuri pedyo pedyo kudarika hupenyu.\\nRimwe jinda rangu rakazotumwa kuti riende kunoshevedza Mushoriwa sezvo sekuru Godobori vakanga vachida kumbotaura naye. Sekuru Godobori vakasara vachimbobata bata miti yavo apo vaitaura mashoko ataisanzwa. Nenguva isipi ndakaona wavakushanda basa ravo pana mambo. Ivo mambo vakanga vachingogomera nemarwadzo emiseve yakanga yavapfura.\\nJinda riya rakanga ratumwa harina kutora nguva rakanga radzoka naMushoriwa. Ndakashaya kuti rakanga rafambasei nekuti kwaigara Mushoriwa kwaiva kure nekwataiva.\\nMushoriwa ndiye akazotiudza kuti akanga asangana nejinda iri ari munzira kuuya kuzoona mambo. Varikumhepo vakanga vatomuudza kare kuti kumuzinda kwaipa uye mambo vakanga vari parumananzombe. Akazoraira machinda andakanga ndauya navo kuti vambobuda.\\nKazhinji ndaiziva kuti ukanzwa Mushoriwa achidzinga vanhu anenge aine mashoko akadzama. Ndiwo mashoko andakanga ndamirira kuti ndinzwe. Nenguva isipi ndakanzwa sekuru Godobori wava kutaurirana naMushoriwa asi mashoko acho ndaisamanzwa. Pava paya Mushoriwa akazotarira kwandiri achibva ashamisa muromo vake.\\n\"Iwe Marwei ndiwe vakanga uchimira nesimba pakuchengetedza mambo, mambo vaivimba newe uyezve varikumhepo vakanga vachifara newe. Zvakadaro mashoko andinawo ndinoda kumataura uripo nekuti neni ndinovimba newe.\" Ndakaramba ndakateya nzeve kuti ndinzwe mashoko aida kutaurwa.\\n\"Varikumhepo varikunditaurira kuti mazuva amambo averengwa akaonekwa aringana. Ndizvo hazvo kuti varwiswa nemuvengi vakakurirwa asi ndiyo nzira yavo yavakanga vachifanirwa kuenda nayo.\" Panguva iyi Mushoriwa akambotarisa paiva parere mambo achibva adzungudza musoro.\\n\"Iwe Godobori chimbobata basa rako nemazvo imwe nguva tinogona kuzotenderwa kunzi vadzoswe pakati pedu.\\nNeniwo ndichamboedza kuvapira nyaya iyi vatisvitsirewo kuna musikavanhu zvimwe mambo vangararama.\" Akadaro Mushoriwa achiraira sekuru Godobori.\\nMachinda angu akazonzi adzoke sezvo Mushoriwa akanga apedza nyaya yake. Yakanga yava nguva yekuti vaonekewo sezvo vaida kunobatsira kurwa hondo. Ndakazosarudza kusara naChidhigo uyo wandaizotuma zvinenge zvichidiwa kana zviri zvekure. Ndakabva ndasarudza mumwe wavo aishevedzwa nezita rekuti Chamunorwa kuti agovatungamirira.\\nNdiye aizotamba chidanho changu sezvo ndakanga ndisipo. Machinda akabuda achibva aenda. Mushoriwa akazoonekawo achibva araira sekuru kuti vambobata basa sekuziva kwavo. Ini ndakanga ndachitarisana namambo wangu ndapererwa. Mambo wangu vakanga vaine rudo uye hapana akanga aine chigumbu navo.\\nHazvaizombofadza kunzwa kuti mambo vaonekana nenyika. Zvisinei zvakanga zvavakuda varikumhepo kuti vambotisvitsirawo kuna Musikavanhu. Paneimwe nguva musikavanhu vaigona kunzwa kuchema kwedu mambo vakapihwa mumwe mukana wekurarama. Godobori akabva atanga kuita basa rake raakanga anzi aite.\\nMazuva akaramba achifamba ndakarindira ndiriko kubako raGodobori. Hope chaidzo ndaitodzishaya ndichifunga kuti ramangwana raizovei kana mambo vachinge vatorwa nenyika. Imwe pfungwa yaindidya ndeyehondo yandakanga ndasiya iri mumusha.\\nNdaisaziva kuti yakanga yavapapi panguva iyi uye kuti varwi vangu vakanga vasina kupera here. Mapindiro akanga aita muvengi mumuzinda akanga aine huchenjeri zvekuti kana varwi vangu vaizoita zvekutamba vaipera wese. Pfungwa idzi dzaindidya zuva nezuva sezvo ndaisava nemukana wekuenda ikoko.\\nHandaizombomhanya kuenda kuhondo ndichisiya mambo vari wega. Ndaifanirwa kurindira kusvika zuva ravaizobuda mubako umu. Zvinhu zvaitongozivikanwa kuti vacha buda asi paiva nezvinhu zviviri. Vaigona kubuda nerugare kana kubuda ari mariro.\\nMazuva akaramba achifamba apo mambo vakanga wavakunzwa zvirinani. Dzimwe nguva takanga tava kutombowana mukana wekukurukura navo. Kana iniwo moyo vangu vakanga vasununguka ndavakuziva kuti mambo vangu vakanga wava kuzomuka panhovo nekukasika. Ndakanga ndava netarisiro yekuti mamwe makore akanga ava kuzowedzerwa pamusoro peavakanga vararama.\\nMumwe musi takanga tichikurukura hedu nasekuru Godobori tichitaura dzakasiyana siyana. Ndipo pavakaerekana vatarira mudenga vachibva vatanga kunyemwerera. Vakabva vatarira kwandiri vachibva vatarira kunamambo zvekare. Vairatidza kuti vane nyaya inofadza yavakanga vachida kutaura.\\n\"Mambo wangu ndirikuona vanhu vari kupemberera kukunda muvengi, manje manje muchaona zvichaitika.\" Sekuru vachipedza kutaura mashoko aya hapana kumbotora nguva Chamunorwa achibva asvika. Airatidza kuti chiso chake chakanga chakafara. Handina kuda kupedza nguva ndakabva ndabvunza kuti kwaiva sei kwaakanga abva.\\n\"Ishe wangu hondo yakanga isina kumira mushe asi takaedza nepatinogona kurwisa muvengi. Madzimai mazhinji nepfuma zvakanga zvatapwa asi hatina kudzora tsvimbo.\" Akadaro Chamunorwa achibva ambozorora achifema. Ndipo pandakabva ndati rega ndimubate ndinzwe zvizere.\\n\"Saka zvakafamba sei chikomana, makazosvika kupi nayo hondo iyi uye zvakanga zvapambwa zvakazofamba sei.\" Ndakabvunza ndichida kuziva zvizhinji pamusoro pezvakazoitika kumberi.\\n\"Mambo wangu varwi wenyu vakarwa vamire. Takasvika pakutevera hondo yamambo Mupedzachose kunopinda mumuzinda mavo. Zvese zvavakanga vapamba vakadzi nepfuma takazvidzosa takasiya tavapisira dzimba dzavo. Kutaura kuno ndasiya musha vakanaka uye mune runyararo.\" Akadaro Chamunorwa izvo zvakandisiya ndakasununguka.\\nPakarepo mambo Pfupajena vakabva wavana simba ravakanga vasina apo vakabva vaita zvekugara zvavaisaita mazuva ese. Zvaiitaa kunge mashoko aya ndiwo akanga avaponesa kubva muhurwere hwakanga huri pavari. Vakapa kutenda kuvarwi wese vakanga vamira nesimba kuti tisapinde muhutapwa.\\nNdakazotora mukana kubvunza mhuri dzese idzo dzainzi dzakanga dzakachengeteka. Chaingosuwisa ndechekuti pamauto edu pakanga pauraiwa varume makumi maviri. Zvairwadza moyo nekuti dzimwe mhuri dzakanga dzasara dzisina vanotarira. Mambo vakazoraira kuti tipote tichitarira mhuri dzevakanga vauraiwa pahondo.\\nChamunorwa akazorairwa kunzi aende kunoshevedza Tongai. Mambo vaiti vakanga vaine mashoko avaida kutaura naye. Hapana akapikisana nazvo Chamunorwa akabva atobuda sekurairwa kwaakanga aitwa.\\nHondo yakarwiwa pasina akanga akatarisira. Hondo yamambo Mupedzachose yakanga yashandisa huchenjeri hwatakanga tisina kumbofungidzira. Chakanga chondibata pamoyo kupfurwa kwakanga kwaitwa baba vangu nemiseve. Zvese izvi zvakaitika meso angu achiona.\\nHondo yakazotanga pfuma ikapambwa yese kuenda kwamambo Mupedzachose. Izvi hazvina kumisa mauto ababa vangu kuenda ikoko apo vakazosiya vapisa musha wese. Hongu hondo takanga takunda asi pamoyo pangu pakanga pachine chinhu chimwechete.\\nBaba vangu vakanga varipi? Ndiwo mubvunzo vandakanga ndichizvibvunza ndega hangu ndisati ndawana mhinduro. Kuti vakanga vari vapenyu here kana kuti vakanga vatomedzwa nenyika. Paya ndakapedzisira kuvaona vachitakurwa nemachinda naMarwei.\\nKubva musi iwoyo Marwei ndakanga ndisati ndamuona kudzoka kwake. Mamwe machinda ndiwo andaiona asi hapana aida kutaura kuti zvakanga zvafamba sei. Wese vaingotaura kuti tanzi irwai hondo.\\nNdakazongozviudza kuti zuva rekuziva chokwadi raizosvika. Kana vakanga variko ndaizongozviziva uye kana vakanga vaoneka nyika ndaizongozviziva zvekare. Mushure mekukunda hondo ndakatanga kurangarira hope dzaigarotaurwa nababa vangu.\\nZvakabva zvangoenderana nekuti ndiwo vakasvika vachirwiswa. Mauto ababa vangu akazouya zvavo asi yakanga yatodeuka. NaGarikai takanga tava makara asionani ndaishaya kuti ruvengo rwake rwakanga rwabvepi. Ini ndaimufarira asi iye akanga asisade kana nekundiona.\\nPataisangana pese kwaingova kupopotedzana chete. Ndaimboedza nepese pandinogona kutaura naye zvakanaka asi akanga asingade. Ndakazongozviudza kuti ndaizoona kunowira tsvimbo nedohwe. Sekuona kwandaiita akanga ava kuzviziva chete kuti ndini ndaizogara chigaro chamambo chero nguva.\\nKana zvaiva izvozvo aisafanirwa kurwadziwa nazvo nekuti ndakanga ndazvishandira. Rwendo rwandakafamba rwaisava nyore kana varikumhepo vaisazofara kuona mumwe munhu achipihwa humambo ndiripo. Mumwe musi ndakanga ndakagara panzvimbo yangu yemazuva ese ndakatarisa divi rekudare. Ndipo pakabva pauya ndangariro dzezuva riya takagara tichikurukura nababa vangu pamwe naMarwei.\\nNdiro zuva randakasuva ndichiona baba vangu vachirwiswa nemuvengi wavaisaona. Ndakazongozviudza kuti varikumhepo vachaita kuda kwavo. Ndipo pandakaona Garikai achifamba achiuya kwandakanga ndiri. Nenguva isipi akanga atosvika achibva amira pamberi pangu.\\nAkandidhumha asina chaataura achibva apfuurira achienda mberi.\\n\"Ko nhai mukoma, chii chandakatadza chinoita kuti mubva mandiita kunge mutorwa kudaro. Kana chiripo chandakatadza dzokai tigadzirisane tiwirirane sevana wemunhu mumwe.\" Ndakataura mashoko aya ndichida kuti andiudze chokwadi. Akabva atendeuka pakarepo achibva adzoka.\\n\"Ndoda kukuudza chinhu chimwechete Tongai, handisi mukoma vako nekuti mai vangu naamai vako vatorwa vakasangana mumuzinda wamambo. Nyaya huru iripo ndeyekuti iwe unoda kutora zvisina zera newe ini ndiripo, uchenjere kuisa hupenyu hwako panjodzi.\" Akataura Garikai achindijunga junga kumeso.\\n\"Hongu vana amai vatorwa asi baba wedu vamwechete, kana yava nyaya yekuti ndinoda kutora zvisina zera neni iyi handichainzwisisa. Nyatsotaurai zvinonzwika mukoma.\" Ndakataura mashoko aya ndichida kuti Garikai anyatsotaura paiva nenyaya yake.'"
      ]
     },
     "execution_count": 4,
     "metadata": {},
     "output_type": "execute_result"
    }
   ],
   "source": [
    "#doc"
   ]
  },
  {
   "cell_type": "markdown",
   "id": "61364753",
   "metadata": {},
   "source": [
    "# data cleaning"
   ]
  },
  {
   "cell_type": "code",
   "execution_count": 5,
   "id": "292e18d2",
   "metadata": {},
   "outputs": [
    {
     "name": "stdout",
     "output_type": "stream",
     "text": [
      "\"Mwana wangu zvandakudana kudai ndine nyaya yandinoda kutaura newe. Ungazvinetsa hako kuti sei ndakumutsa kuseni kuno asi zvine chirevo.\" Vakadaro baba vangu vaPfupajena. Ndakaramba ndakanyarara ndich\n"
     ]
    }
   ],
   "source": [
    "import re\n",
    "\n",
    "\n",
    "# Function to clean text and remove numbers\n",
    "def clean_text(text):\n",
    "    # Remove numbers using regular expression\n",
    "    text = re.sub(r'\\d+', '', text)\n",
    "\n",
    "    # Remove extra whitespaces and newline characters\n",
    "    text = ' '.join(text.split())\n",
    "\n",
    "    return text\n",
    "\n",
    "# Clean the text\n",
    "cleaned_text = clean_text(doc)\n",
    "\n",
    "# Print the cleaned text\n",
    "print(cleaned_text[:200])"
   ]
  },
  {
   "cell_type": "markdown",
   "id": "672922e7",
   "metadata": {},
   "source": [
    "# tokenizing and vocabulary_size"
   ]
  },
  {
   "cell_type": "code",
   "execution_count": 6,
   "id": "d21c3bff",
   "metadata": {},
   "outputs": [],
   "source": [
    "from keras.preprocessing.text import Tokenizer\n",
    "\n",
    "# Tokenize and preprocess\n",
    "tokenizer = Tokenizer()\n",
    "tokenizer.fit_on_texts([cleaned_text])\n",
    "# saving the tokenizer for predict function.\n",
    "pickle.dump(tokenizer, open('tokenizer1.pkl', 'wb'))\n",
    "total_words = len(tokenizer.word_index) + 1\n"
   ]
  },
  {
   "cell_type": "code",
   "execution_count": 7,
   "id": "972ccb4f",
   "metadata": {},
   "outputs": [
    {
     "data": {
      "text/plain": [
       "[62, 15, 1175, 231, 312, 18, 703, 68, 196, 1176, 313, 1, 48, 1177, 314]"
      ]
     },
     "execution_count": 7,
     "metadata": {},
     "output_type": "execute_result"
    }
   ],
   "source": [
    "sequence_data = tokenizer.texts_to_sequences([doc])[0]\n",
    "sequence_data[:15]"
   ]
  },
  {
   "cell_type": "markdown",
   "id": "f7b81d72",
   "metadata": {},
   "source": [
    "# word_embedding"
   ]
  },
  {
   "cell_type": "code",
   "execution_count": 8,
   "id": "04db286b",
   "metadata": {},
   "outputs": [],
   "source": [
    "from gensim.models import Word2Vec\n",
    "\n",
    "# Train word2vec model with gensim\n",
    "sentences = [sentence.split() for sentence in cleaned_text.split('.')]\n",
    "model_gensim = Word2Vec(sentences, vector_size=100, window=5, min_count=1, workers=4)\n",
    "model_gensim.save(\"word2vec.model\")\n"
   ]
  },
  {
   "cell_type": "markdown",
   "id": "56624760",
   "metadata": {},
   "source": [
    "# building the first_model_as_model1"
   ]
  },
  {
   "cell_type": "code",
   "execution_count": 9,
   "id": "fe771af2",
   "metadata": {},
   "outputs": [],
   "source": [
    "from keras.models import Sequential\n",
    "from keras.layers import Embedding, LSTM, Dense, Dropout, Bidirectional\n",
    "\n",
    "model1 = Sequential()\n",
    "model1.add(Embedding(total_words, 100, input_length=5))\n",
    "model1.add(Bidirectional(LSTM(150, return_sequences=True)))\n",
    "model1.add(Dropout(0.2))\n",
    "model1.add(LSTM(100))\n",
    "model1.add(Dense(total_words, activation='softmax'))\n",
    "\n",
    "model1.compile(optimizer='adam', loss='categorical_crossentropy', metrics=['accuracy'])"
   ]
  },
  {
   "cell_type": "code",
   "execution_count": 10,
   "id": "2e2751ad",
   "metadata": {},
   "outputs": [
    {
     "name": "stdout",
     "output_type": "stream",
     "text": [
      "Model: \"sequential\"\n",
      "_________________________________________________________________\n",
      " Layer (type)                Output Shape              Param #   \n",
      "=================================================================\n",
      " embedding (Embedding)       (None, 5, 100)            366100    \n",
      "                                                                 \n",
      " bidirectional (Bidirection  (None, 5, 300)            301200    \n",
      " al)                                                             \n",
      "                                                                 \n",
      " dropout (Dropout)           (None, 5, 300)            0         \n",
      "                                                                 \n",
      " lstm_1 (LSTM)               (None, 100)               160400    \n",
      "                                                                 \n",
      " dense (Dense)               (None, 3661)              369761    \n",
      "                                                                 \n",
      "=================================================================\n",
      "Total params: 1197461 (4.57 MB)\n",
      "Trainable params: 1197461 (4.57 MB)\n",
      "Non-trainable params: 0 (0.00 Byte)\n",
      "_________________________________________________________________\n"
     ]
    }
   ],
   "source": [
    "model1.summary()"
   ]
  },
  {
   "cell_type": "markdown",
   "id": "461f4e55",
   "metadata": {},
   "source": [
    "# the_second_model_as_model2"
   ]
  },
  {
   "cell_type": "code",
   "execution_count": 11,
   "id": "2ea4fe80",
   "metadata": {},
   "outputs": [],
   "source": [
    "# Load the word2vec model\n",
    "import numpy as np\n",
    "model_gensim = Word2Vec.load(\"word2vec.model\")\n",
    "embedding_matrix = np.zeros((total_words, 100))\n",
    "for word, i in tokenizer.word_index.items():\n",
    "    try:\n",
    "        embedding_vector = model_gensim.wv[word]\n",
    "        if embedding_vector is not None:\n",
    "            embedding_matrix[i] = embedding_vector\n",
    "    except KeyError:\n",
    "        # Word not present in gensim model, a zero embedding will be used for this word\n",
    "        pass\n",
    "\n",
    "\n",
    "model2 = Sequential()\n",
    "model2.add(Embedding(total_words, 100, weights=[embedding_matrix], input_length=5, trainable=False))\n",
    "model2.add(Bidirectional(LSTM(150, return_sequences=True)))\n",
    "model2.add(Dropout(0.2))\n",
    "model2.add(LSTM(100))\n",
    "model2.add(Dense(total_words, activation='softmax'))\n",
    "\n",
    "model2.compile(optimizer='adam', loss='categorical_crossentropy', metrics=['accuracy'])"
   ]
  },
  {
   "cell_type": "code",
   "execution_count": 12,
   "id": "47bca8e4",
   "metadata": {},
   "outputs": [
    {
     "name": "stdout",
     "output_type": "stream",
     "text": [
      "Model: \"sequential_1\"\n",
      "_________________________________________________________________\n",
      " Layer (type)                Output Shape              Param #   \n",
      "=================================================================\n",
      " embedding_1 (Embedding)     (None, 5, 100)            366100    \n",
      "                                                                 \n",
      " bidirectional_1 (Bidirecti  (None, 5, 300)            301200    \n",
      " onal)                                                           \n",
      "                                                                 \n",
      " dropout_1 (Dropout)         (None, 5, 300)            0         \n",
      "                                                                 \n",
      " lstm_3 (LSTM)               (None, 100)               160400    \n",
      "                                                                 \n",
      " dense_1 (Dense)             (None, 3661)              369761    \n",
      "                                                                 \n",
      "=================================================================\n",
      "Total params: 1197461 (4.57 MB)\n",
      "Trainable params: 831361 (3.17 MB)\n",
      "Non-trainable params: 366100 (1.40 MB)\n",
      "_________________________________________________________________\n"
     ]
    }
   ],
   "source": [
    "model2.summary()"
   ]
  },
  {
   "cell_type": "code",
   "execution_count": 13,
   "id": "3c7d8938",
   "metadata": {},
   "outputs": [],
   "source": [
    "import keras\n",
    "from tensorflow.keras.preprocessing.sequence import pad_sequences\n",
    "from sklearn.model_selection import train_test_split\n",
    "\n",
    "input_sequences = []\n",
    "for line in doc.split('.'):\n",
    "    token_list = tokenizer.texts_to_sequences([line])[0]\n",
    "    for i in range(1, len(token_list)):\n",
    "        n_gram_sequence = token_list[:i+1]\n",
    "        input_sequences.append(n_gram_sequence)\n",
    "\n",
    "input_sequences = np.array(pad_sequences(input_sequences, maxlen=6, padding='pre'))\n",
    "X, y = input_sequences[:, :-1], input_sequences[:, -1]\n",
    "y = keras.utils.to_categorical(y, num_classes=total_words)\n",
    "\n",
    "\n",
    "\n"
   ]
  },
  {
   "cell_type": "markdown",
   "id": "7ee3086d",
   "metadata": {},
   "source": [
    "# training_the_models"
   ]
  },
  {
   "cell_type": "code",
   "execution_count": 14,
   "id": "6366c86a",
   "metadata": {},
   "outputs": [],
   "source": [
    "# Split the dataset into training and validation sets\n",
    "X_train, X_val, y_train, y_val = train_test_split(X, y, test_size=0.4, random_state=42)"
   ]
  },
  {
   "cell_type": "code",
   "execution_count": 15,
   "id": "2eb9e6e7",
   "metadata": {},
   "outputs": [
    {
     "name": "stdout",
     "output_type": "stream",
     "text": [
      "Epoch 1/100\n",
      "164/164 [==============================] - 120s 359ms/step - loss: 7.8776 - accuracy: 0.0334 - val_loss: 7.8325 - val_accuracy: 0.0347\n",
      "Epoch 2/100\n",
      "164/164 [==============================] - 46s 277ms/step - loss: 7.2805 - accuracy: 0.0344 - val_loss: 8.0210 - val_accuracy: 0.0347\n",
      "Epoch 3/100\n",
      "164/164 [==============================] - 48s 292ms/step - loss: 7.0440 - accuracy: 0.0344 - val_loss: 8.2202 - val_accuracy: 0.0306\n",
      "Epoch 4/100\n",
      "164/164 [==============================] - 52s 316ms/step - loss: 6.8507 - accuracy: 0.0353 - val_loss: 8.4490 - val_accuracy: 0.0301\n",
      "Epoch 5/100\n",
      "164/164 [==============================] - 54s 330ms/step - loss: 6.6620 - accuracy: 0.0357 - val_loss: 8.7256 - val_accuracy: 0.0275\n",
      "Epoch 6/100\n",
      "164/164 [==============================] - 54s 332ms/step - loss: 6.4409 - accuracy: 0.0374 - val_loss: 8.9528 - val_accuracy: 0.0241\n",
      "Epoch 7/100\n",
      "164/164 [==============================] - 57s 345ms/step - loss: 6.2101 - accuracy: 0.0409 - val_loss: 9.2463 - val_accuracy: 0.0238\n",
      "Epoch 8/100\n",
      "164/164 [==============================] - 57s 350ms/step - loss: 5.9570 - accuracy: 0.0449 - val_loss: 9.4253 - val_accuracy: 0.0238\n",
      "Epoch 9/100\n",
      "164/164 [==============================] - 58s 355ms/step - loss: 5.6951 - accuracy: 0.0504 - val_loss: 9.5043 - val_accuracy: 0.0215\n",
      "Epoch 10/100\n",
      "164/164 [==============================] - 58s 356ms/step - loss: 5.4440 - accuracy: 0.0607 - val_loss: 9.8472 - val_accuracy: 0.0258\n",
      "Epoch 11/100\n",
      "164/164 [==============================] - 60s 364ms/step - loss: 5.1963 - accuracy: 0.0729 - val_loss: 9.9510 - val_accuracy: 0.0249\n",
      "Epoch 12/100\n",
      "164/164 [==============================] - 60s 364ms/step - loss: 4.9586 - accuracy: 0.0851 - val_loss: 9.9737 - val_accuracy: 0.0292\n",
      "Epoch 13/100\n",
      "164/164 [==============================] - 62s 377ms/step - loss: 4.7384 - accuracy: 0.0958 - val_loss: 10.0045 - val_accuracy: 0.0321\n",
      "Epoch 14/100\n",
      "164/164 [==============================] - 66s 404ms/step - loss: 4.4956 - accuracy: 0.1172 - val_loss: 10.1804 - val_accuracy: 0.0329\n",
      "Epoch 15/100\n",
      "164/164 [==============================] - 63s 385ms/step - loss: 4.2818 - accuracy: 0.1397 - val_loss: 10.2668 - val_accuracy: 0.0352\n",
      "Epoch 16/100\n",
      "164/164 [==============================] - 63s 386ms/step - loss: 4.0906 - accuracy: 0.1619 - val_loss: 10.4672 - val_accuracy: 0.0355\n",
      "Epoch 17/100\n",
      "164/164 [==============================] - 65s 394ms/step - loss: 3.8867 - accuracy: 0.1989 - val_loss: 10.4211 - val_accuracy: 0.0381\n",
      "Epoch 18/100\n",
      "164/164 [==============================] - 66s 403ms/step - loss: 3.6961 - accuracy: 0.2281 - val_loss: 10.5171 - val_accuracy: 0.0341\n",
      "Epoch 19/100\n",
      "164/164 [==============================] - 65s 396ms/step - loss: 3.5018 - accuracy: 0.2629 - val_loss: 10.6246 - val_accuracy: 0.0404\n",
      "Epoch 20/100\n",
      "164/164 [==============================] - 66s 402ms/step - loss: 3.3243 - accuracy: 0.3041 - val_loss: 10.7349 - val_accuracy: 0.0381\n",
      "Epoch 21/100\n",
      "164/164 [==============================] - 66s 403ms/step - loss: 3.1570 - accuracy: 0.3337 - val_loss: 10.8340 - val_accuracy: 0.0412\n",
      "Epoch 22/100\n",
      "164/164 [==============================] - 66s 402ms/step - loss: 2.9916 - accuracy: 0.3771 - val_loss: 10.9224 - val_accuracy: 0.0464\n",
      "Epoch 23/100\n",
      "164/164 [==============================] - 66s 403ms/step - loss: 2.8374 - accuracy: 0.4057 - val_loss: 10.9936 - val_accuracy: 0.0412\n",
      "Epoch 24/100\n",
      "164/164 [==============================] - 65s 395ms/step - loss: 2.6953 - accuracy: 0.4460 - val_loss: 11.0934 - val_accuracy: 0.0467\n",
      "Epoch 25/100\n",
      "164/164 [==============================] - 63s 387ms/step - loss: 2.5487 - accuracy: 0.4859 - val_loss: 11.1374 - val_accuracy: 0.0478\n",
      "Epoch 26/100\n",
      "164/164 [==============================] - 66s 402ms/step - loss: 2.4050 - accuracy: 0.5231 - val_loss: 11.2913 - val_accuracy: 0.0415\n",
      "Epoch 27/100\n",
      "164/164 [==============================] - 63s 386ms/step - loss: 2.2637 - accuracy: 0.5517 - val_loss: 11.3409 - val_accuracy: 0.0484\n",
      "Epoch 28/100\n",
      "164/164 [==============================] - 63s 383ms/step - loss: 2.1315 - accuracy: 0.5966 - val_loss: 11.4242 - val_accuracy: 0.0498\n",
      "Epoch 29/100\n",
      "164/164 [==============================] - 62s 379ms/step - loss: 2.0239 - accuracy: 0.6205 - val_loss: 11.5296 - val_accuracy: 0.0501\n",
      "Epoch 30/100\n",
      "164/164 [==============================] - 63s 386ms/step - loss: 1.8972 - accuracy: 0.6436 - val_loss: 11.6011 - val_accuracy: 0.0513\n",
      "Epoch 31/100\n",
      "164/164 [==============================] - 63s 386ms/step - loss: 1.7907 - accuracy: 0.6733 - val_loss: 11.6746 - val_accuracy: 0.0518\n",
      "Epoch 32/100\n",
      "164/164 [==============================] - 58s 356ms/step - loss: 1.6912 - accuracy: 0.6905 - val_loss: 11.7225 - val_accuracy: 0.0536\n",
      "Epoch 33/100\n",
      "164/164 [==============================] - 57s 350ms/step - loss: 1.5751 - accuracy: 0.7258 - val_loss: 11.8072 - val_accuracy: 0.0510\n",
      "Epoch 34/100\n",
      "164/164 [==============================] - 57s 350ms/step - loss: 1.4789 - accuracy: 0.7499 - val_loss: 11.8433 - val_accuracy: 0.0541\n",
      "Epoch 35/100\n",
      "164/164 [==============================] - 56s 340ms/step - loss: 1.4155 - accuracy: 0.7490 - val_loss: 12.0123 - val_accuracy: 0.0536\n",
      "Epoch 36/100\n",
      "164/164 [==============================] - 61s 374ms/step - loss: 1.3376 - accuracy: 0.7646 - val_loss: 12.0296 - val_accuracy: 0.0541\n",
      "Epoch 37/100\n",
      "164/164 [==============================] - 60s 367ms/step - loss: 1.2563 - accuracy: 0.7854 - val_loss: 12.1369 - val_accuracy: 0.0544\n",
      "Epoch 38/100\n",
      "164/164 [==============================] - 62s 378ms/step - loss: 1.1791 - accuracy: 0.7940 - val_loss: 12.2086 - val_accuracy: 0.0553\n",
      "Epoch 39/100\n",
      "164/164 [==============================] - 62s 379ms/step - loss: 1.1094 - accuracy: 0.8125 - val_loss: 12.2789 - val_accuracy: 0.0527\n",
      "Epoch 40/100\n",
      "164/164 [==============================] - 63s 382ms/step - loss: 1.0623 - accuracy: 0.8112 - val_loss: 12.3049 - val_accuracy: 0.0567\n",
      "Epoch 41/100\n",
      "164/164 [==============================] - 63s 385ms/step - loss: 0.9928 - accuracy: 0.8268 - val_loss: 12.4120 - val_accuracy: 0.0576\n",
      "Epoch 42/100\n",
      "164/164 [==============================] - 64s 393ms/step - loss: 0.9415 - accuracy: 0.8328 - val_loss: 12.4819 - val_accuracy: 0.0556\n",
      "Epoch 43/100\n",
      "164/164 [==============================] - 65s 397ms/step - loss: 0.8976 - accuracy: 0.8421 - val_loss: 12.5233 - val_accuracy: 0.0556\n",
      "Epoch 44/100\n",
      "164/164 [==============================] - 64s 388ms/step - loss: 0.8484 - accuracy: 0.8459 - val_loss: 12.5752 - val_accuracy: 0.0593\n",
      "Epoch 45/100\n",
      "164/164 [==============================] - 65s 394ms/step - loss: 0.8140 - accuracy: 0.8551 - val_loss: 12.6517 - val_accuracy: 0.0581\n",
      "Epoch 46/100\n",
      "164/164 [==============================] - 65s 399ms/step - loss: 0.7725 - accuracy: 0.8635 - val_loss: 12.7030 - val_accuracy: 0.0590\n",
      "Epoch 47/100\n",
      "164/164 [==============================] - 65s 398ms/step - loss: 0.7462 - accuracy: 0.8620 - val_loss: 12.6980 - val_accuracy: 0.0561\n",
      "Epoch 48/100\n",
      "164/164 [==============================] - 67s 408ms/step - loss: 0.6955 - accuracy: 0.8738 - val_loss: 12.8142 - val_accuracy: 0.0570\n",
      "Epoch 49/100\n",
      "164/164 [==============================] - 60s 367ms/step - loss: 0.6571 - accuracy: 0.8799 - val_loss: 12.8964 - val_accuracy: 0.0587\n",
      "Epoch 50/100\n",
      "164/164 [==============================] - 58s 352ms/step - loss: 0.6234 - accuracy: 0.8832 - val_loss: 12.9047 - val_accuracy: 0.0587\n",
      "Epoch 51/100\n",
      "164/164 [==============================] - 58s 352ms/step - loss: 0.5971 - accuracy: 0.8881 - val_loss: 12.9712 - val_accuracy: 0.0613\n",
      "Epoch 52/100\n",
      "164/164 [==============================] - 68s 413ms/step - loss: 0.5877 - accuracy: 0.8845 - val_loss: 13.0518 - val_accuracy: 0.0596\n",
      "Epoch 53/100\n",
      "164/164 [==============================] - 63s 381ms/step - loss: 0.5553 - accuracy: 0.8906 - val_loss: 13.0758 - val_accuracy: 0.0604\n",
      "Epoch 54/100\n",
      "164/164 [==============================] - 63s 387ms/step - loss: 0.5109 - accuracy: 0.8979 - val_loss: 13.1340 - val_accuracy: 0.0621\n",
      "Epoch 55/100\n",
      "164/164 [==============================] - 64s 392ms/step - loss: 0.4915 - accuracy: 0.9000 - val_loss: 13.1784 - val_accuracy: 0.0590\n",
      "Epoch 56/100\n"
     ]
    },
    {
     "name": "stdout",
     "output_type": "stream",
     "text": [
      "164/164 [==============================] - 63s 385ms/step - loss: 0.4703 - accuracy: 0.9074 - val_loss: 13.2317 - val_accuracy: 0.0587\n",
      "Epoch 57/100\n",
      "164/164 [==============================] - 63s 383ms/step - loss: 0.4548 - accuracy: 0.9036 - val_loss: 13.3165 - val_accuracy: 0.0576\n",
      "Epoch 58/100\n",
      "164/164 [==============================] - 63s 384ms/step - loss: 0.4398 - accuracy: 0.9057 - val_loss: 13.3405 - val_accuracy: 0.0619\n",
      "Epoch 59/100\n",
      "164/164 [==============================] - 62s 378ms/step - loss: 0.4386 - accuracy: 0.9057 - val_loss: 13.4135 - val_accuracy: 0.0584\n",
      "Epoch 60/100\n",
      "164/164 [==============================] - 62s 379ms/step - loss: 0.4181 - accuracy: 0.9080 - val_loss: 13.4635 - val_accuracy: 0.0610\n",
      "Epoch 61/100\n",
      "164/164 [==============================] - 63s 386ms/step - loss: 0.4072 - accuracy: 0.9095 - val_loss: 13.5172 - val_accuracy: 0.0616\n",
      "Epoch 62/100\n",
      "164/164 [==============================] - 62s 376ms/step - loss: 0.3943 - accuracy: 0.9110 - val_loss: 13.5421 - val_accuracy: 0.0613\n",
      "Epoch 63/100\n",
      "164/164 [==============================] - 61s 375ms/step - loss: 0.3814 - accuracy: 0.9065 - val_loss: 13.5851 - val_accuracy: 0.0610\n",
      "Epoch 64/100\n",
      "164/164 [==============================] - 59s 361ms/step - loss: 0.3691 - accuracy: 0.9128 - val_loss: 13.6251 - val_accuracy: 0.0593\n",
      "Epoch 65/100\n",
      "164/164 [==============================] - 64s 391ms/step - loss: 0.3641 - accuracy: 0.9133 - val_loss: 13.6840 - val_accuracy: 0.0590\n",
      "Epoch 66/100\n",
      "164/164 [==============================] - 64s 388ms/step - loss: 0.3466 - accuracy: 0.9170 - val_loss: 13.7212 - val_accuracy: 0.0619\n",
      "Epoch 67/100\n",
      "164/164 [==============================] - 64s 390ms/step - loss: 0.3374 - accuracy: 0.9183 - val_loss: 13.7567 - val_accuracy: 0.0601\n",
      "Epoch 68/100\n",
      "164/164 [==============================] - 63s 385ms/step - loss: 0.3218 - accuracy: 0.9183 - val_loss: 13.8169 - val_accuracy: 0.0564\n",
      "Epoch 69/100\n",
      "164/164 [==============================] - 62s 382ms/step - loss: 0.3048 - accuracy: 0.9231 - val_loss: 13.8768 - val_accuracy: 0.0587\n",
      "Epoch 70/100\n",
      "164/164 [==============================] - 64s 391ms/step - loss: 0.3011 - accuracy: 0.9179 - val_loss: 13.9398 - val_accuracy: 0.0613\n",
      "Epoch 71/100\n",
      "164/164 [==============================] - 63s 386ms/step - loss: 0.3015 - accuracy: 0.9198 - val_loss: 13.9626 - val_accuracy: 0.0596\n",
      "Epoch 72/100\n",
      "164/164 [==============================] - 64s 388ms/step - loss: 0.2917 - accuracy: 0.9181 - val_loss: 13.9996 - val_accuracy: 0.0619\n",
      "Epoch 73/100\n",
      "164/164 [==============================] - 64s 388ms/step - loss: 0.2973 - accuracy: 0.9160 - val_loss: 13.9849 - val_accuracy: 0.0581\n",
      "Epoch 74/100\n",
      "164/164 [==============================] - 64s 388ms/step - loss: 0.2929 - accuracy: 0.9192 - val_loss: 14.0935 - val_accuracy: 0.0584\n",
      "Epoch 75/100\n",
      "164/164 [==============================] - 65s 397ms/step - loss: 0.2919 - accuracy: 0.9189 - val_loss: 14.1037 - val_accuracy: 0.0587\n",
      "Epoch 76/100\n",
      "164/164 [==============================] - 64s 388ms/step - loss: 0.2664 - accuracy: 0.9229 - val_loss: 14.1612 - val_accuracy: 0.0607\n",
      "Epoch 77/100\n",
      "164/164 [==============================] - 63s 384ms/step - loss: 0.2637 - accuracy: 0.9208 - val_loss: 14.1783 - val_accuracy: 0.0624\n",
      "Epoch 78/100\n",
      "164/164 [==============================] - 63s 383ms/step - loss: 0.2570 - accuracy: 0.9231 - val_loss: 14.2961 - val_accuracy: 0.0624\n",
      "Epoch 79/100\n",
      "164/164 [==============================] - 63s 384ms/step - loss: 0.2661 - accuracy: 0.9204 - val_loss: 14.2187 - val_accuracy: 0.0616\n",
      "Epoch 80/100\n",
      "164/164 [==============================] - 64s 393ms/step - loss: 0.2668 - accuracy: 0.9210 - val_loss: 14.2740 - val_accuracy: 0.0619\n",
      "Epoch 81/100\n",
      "164/164 [==============================] - 63s 386ms/step - loss: 0.2614 - accuracy: 0.9213 - val_loss: 14.3271 - val_accuracy: 0.0610\n",
      "Epoch 82/100\n",
      "164/164 [==============================] - 63s 383ms/step - loss: 0.2654 - accuracy: 0.9171 - val_loss: 14.2820 - val_accuracy: 0.0604\n",
      "Epoch 83/100\n",
      "164/164 [==============================] - 64s 389ms/step - loss: 0.2561 - accuracy: 0.9221 - val_loss: 14.3848 - val_accuracy: 0.0641\n",
      "Epoch 84/100\n",
      "164/164 [==============================] - 64s 393ms/step - loss: 0.2526 - accuracy: 0.9204 - val_loss: 14.4412 - val_accuracy: 0.0616\n",
      "Epoch 85/100\n",
      "164/164 [==============================] - 64s 392ms/step - loss: 0.2448 - accuracy: 0.9206 - val_loss: 14.4738 - val_accuracy: 0.0581\n",
      "Epoch 86/100\n",
      "164/164 [==============================] - 62s 381ms/step - loss: 0.2620 - accuracy: 0.9185 - val_loss: 14.4609 - val_accuracy: 0.0593\n",
      "Epoch 87/100\n",
      "164/164 [==============================] - 62s 381ms/step - loss: 0.2531 - accuracy: 0.9217 - val_loss: 14.5328 - val_accuracy: 0.0604\n",
      "Epoch 88/100\n",
      "164/164 [==============================] - 64s 389ms/step - loss: 0.2413 - accuracy: 0.9179 - val_loss: 14.5409 - val_accuracy: 0.0616\n",
      "Epoch 89/100\n",
      "164/164 [==============================] - 62s 376ms/step - loss: 0.2359 - accuracy: 0.9213 - val_loss: 14.5419 - val_accuracy: 0.0607\n",
      "Epoch 90/100\n",
      "164/164 [==============================] - 62s 380ms/step - loss: 0.2233 - accuracy: 0.9217 - val_loss: 14.5732 - val_accuracy: 0.0590\n",
      "Epoch 91/100\n",
      "164/164 [==============================] - 62s 379ms/step - loss: 0.2196 - accuracy: 0.9246 - val_loss: 14.6239 - val_accuracy: 0.0619\n",
      "Epoch 92/100\n",
      "164/164 [==============================] - 62s 375ms/step - loss: 0.2215 - accuracy: 0.9215 - val_loss: 14.6663 - val_accuracy: 0.0630\n",
      "Epoch 93/100\n",
      "164/164 [==============================] - 62s 376ms/step - loss: 0.2242 - accuracy: 0.9229 - val_loss: 14.5865 - val_accuracy: 0.0596\n",
      "Epoch 94/100\n",
      "164/164 [==============================] - 63s 384ms/step - loss: 0.2310 - accuracy: 0.9198 - val_loss: 14.6399 - val_accuracy: 0.0607\n",
      "Epoch 95/100\n",
      "164/164 [==============================] - 62s 381ms/step - loss: 0.2314 - accuracy: 0.9194 - val_loss: 14.7057 - val_accuracy: 0.0599\n",
      "Epoch 96/100\n",
      "164/164 [==============================] - 61s 372ms/step - loss: 0.2221 - accuracy: 0.9208 - val_loss: 14.7270 - val_accuracy: 0.0601\n",
      "Epoch 97/100\n",
      "164/164 [==============================] - 62s 378ms/step - loss: 0.2143 - accuracy: 0.9225 - val_loss: 14.7612 - val_accuracy: 0.0647\n",
      "Epoch 98/100\n",
      "164/164 [==============================] - 62s 376ms/step - loss: 0.2120 - accuracy: 0.9223 - val_loss: 14.7567 - val_accuracy: 0.0641\n",
      "Epoch 99/100\n",
      "164/164 [==============================] - 66s 405ms/step - loss: 0.2196 - accuracy: 0.9217 - val_loss: 14.8356 - val_accuracy: 0.0630\n",
      "Epoch 100/100\n",
      "164/164 [==============================] - 69s 421ms/step - loss: 0.2188 - accuracy: 0.9194 - val_loss: 14.8276 - val_accuracy: 0.0584\n"
     ]
    }
   ],
   "source": [
    "# Training Model 1\n",
    "history1 = model1.fit(X_train, y_train, validation_data=(X_val, y_val), epochs=100, verbose=1)"
   ]
  },
  {
   "cell_type": "code",
   "execution_count": 23,
   "id": "9b6ba969",
   "metadata": {},
   "outputs": [],
   "source": []
  },
  {
   "cell_type": "code",
   "execution_count": 16,
   "id": "d49c2864",
   "metadata": {},
   "outputs": [
    {
     "name": "stdout",
     "output_type": "stream",
     "text": [
      "Epoch 1/100\n",
      "164/164 [==============================] - 225s 441ms/step - loss: 7.8773 - accuracy: 0.0332 - val_loss: 7.8318 - val_accuracy: 0.0347\n",
      "Epoch 2/100\n",
      "164/164 [==============================] - 46s 281ms/step - loss: 7.3369 - accuracy: 0.0344 - val_loss: 8.0590 - val_accuracy: 0.0347\n",
      "Epoch 3/100\n",
      "164/164 [==============================] - 47s 285ms/step - loss: 7.2524 - accuracy: 0.0344 - val_loss: 8.2459 - val_accuracy: 0.0347\n",
      "Epoch 4/100\n",
      "164/164 [==============================] - 48s 293ms/step - loss: 7.2264 - accuracy: 0.0344 - val_loss: 8.3456 - val_accuracy: 0.0347\n",
      "Epoch 5/100\n",
      "164/164 [==============================] - 48s 294ms/step - loss: 7.2145 - accuracy: 0.0344 - val_loss: 8.4655 - val_accuracy: 0.0347\n",
      "Epoch 6/100\n",
      "164/164 [==============================] - 48s 296ms/step - loss: 7.2044 - accuracy: 0.0344 - val_loss: 8.5445 - val_accuracy: 0.0347\n",
      "Epoch 7/100\n",
      "164/164 [==============================] - 50s 308ms/step - loss: 7.1991 - accuracy: 0.0344 - val_loss: 8.5946 - val_accuracy: 0.0347\n",
      "Epoch 8/100\n",
      "164/164 [==============================] - 51s 309ms/step - loss: 7.1927 - accuracy: 0.0344 - val_loss: 8.5756 - val_accuracy: 0.0347\n",
      "Epoch 9/100\n",
      "164/164 [==============================] - 51s 309ms/step - loss: 7.1826 - accuracy: 0.0344 - val_loss: 8.7325 - val_accuracy: 0.0347\n",
      "Epoch 10/100\n",
      "164/164 [==============================] - 52s 316ms/step - loss: 7.1714 - accuracy: 0.0344 - val_loss: 8.7281 - val_accuracy: 0.0347\n",
      "Epoch 11/100\n",
      "164/164 [==============================] - 49s 297ms/step - loss: 7.1233 - accuracy: 0.0342 - val_loss: 8.8112 - val_accuracy: 0.0326\n",
      "Epoch 12/100\n",
      "164/164 [==============================] - 47s 289ms/step - loss: 7.0362 - accuracy: 0.0355 - val_loss: 8.8611 - val_accuracy: 0.0321\n",
      "Epoch 13/100\n",
      "164/164 [==============================] - 49s 298ms/step - loss: 6.9733 - accuracy: 0.0355 - val_loss: 9.0567 - val_accuracy: 0.0321\n",
      "Epoch 14/100\n",
      "164/164 [==============================] - 51s 314ms/step - loss: 6.9092 - accuracy: 0.0347 - val_loss: 9.0179 - val_accuracy: 0.0324\n",
      "Epoch 15/100\n",
      "164/164 [==============================] - 53s 321ms/step - loss: 6.8215 - accuracy: 0.0361 - val_loss: 9.1600 - val_accuracy: 0.0321\n",
      "Epoch 16/100\n",
      "164/164 [==============================] - 53s 322ms/step - loss: 6.7501 - accuracy: 0.0344 - val_loss: 9.2219 - val_accuracy: 0.0315\n",
      "Epoch 17/100\n",
      "164/164 [==============================] - 51s 313ms/step - loss: 6.6651 - accuracy: 0.0347 - val_loss: 9.2726 - val_accuracy: 0.0301\n",
      "Epoch 18/100\n",
      "164/164 [==============================] - 53s 325ms/step - loss: 6.5923 - accuracy: 0.0346 - val_loss: 9.3773 - val_accuracy: 0.0309\n",
      "Epoch 19/100\n",
      "164/164 [==============================] - 54s 327ms/step - loss: 6.4974 - accuracy: 0.0351 - val_loss: 9.3931 - val_accuracy: 0.0298\n",
      "Epoch 20/100\n",
      "164/164 [==============================] - 54s 327ms/step - loss: 6.3858 - accuracy: 0.0361 - val_loss: 9.4864 - val_accuracy: 0.0295\n",
      "Epoch 21/100\n",
      "164/164 [==============================] - 53s 325ms/step - loss: 6.2819 - accuracy: 0.0386 - val_loss: 9.5502 - val_accuracy: 0.0306\n",
      "Epoch 22/100\n",
      "164/164 [==============================] - 54s 327ms/step - loss: 6.1699 - accuracy: 0.0382 - val_loss: 9.6298 - val_accuracy: 0.0292\n",
      "Epoch 23/100\n",
      "164/164 [==============================] - 54s 332ms/step - loss: 6.0722 - accuracy: 0.0384 - val_loss: 9.7321 - val_accuracy: 0.0309\n",
      "Epoch 24/100\n",
      "164/164 [==============================] - 55s 335ms/step - loss: 5.9683 - accuracy: 0.0376 - val_loss: 9.8220 - val_accuracy: 0.0309\n",
      "Epoch 25/100\n",
      "164/164 [==============================] - 55s 336ms/step - loss: 5.8934 - accuracy: 0.0395 - val_loss: 9.9200 - val_accuracy: 0.0298\n",
      "Epoch 26/100\n",
      "164/164 [==============================] - 55s 337ms/step - loss: 5.7964 - accuracy: 0.0407 - val_loss: 9.9619 - val_accuracy: 0.0321\n",
      "Epoch 27/100\n",
      "164/164 [==============================] - 54s 330ms/step - loss: 5.7110 - accuracy: 0.0439 - val_loss: 9.9977 - val_accuracy: 0.0304\n",
      "Epoch 28/100\n",
      "164/164 [==============================] - 56s 340ms/step - loss: 5.6428 - accuracy: 0.0426 - val_loss: 10.1011 - val_accuracy: 0.0298\n",
      "Epoch 29/100\n",
      "164/164 [==============================] - 55s 337ms/step - loss: 5.5713 - accuracy: 0.0437 - val_loss: 10.1355 - val_accuracy: 0.0321\n",
      "Epoch 30/100\n",
      "164/164 [==============================] - 55s 336ms/step - loss: 5.4892 - accuracy: 0.0464 - val_loss: 10.1897 - val_accuracy: 0.0309\n",
      "Epoch 31/100\n",
      "164/164 [==============================] - 56s 342ms/step - loss: 5.4110 - accuracy: 0.0472 - val_loss: 10.2241 - val_accuracy: 0.0315\n",
      "Epoch 32/100\n",
      "164/164 [==============================] - 56s 344ms/step - loss: 5.3408 - accuracy: 0.0491 - val_loss: 10.2687 - val_accuracy: 0.0295\n",
      "Epoch 33/100\n",
      "164/164 [==============================] - 56s 341ms/step - loss: 5.2963 - accuracy: 0.0489 - val_loss: 10.3174 - val_accuracy: 0.0284\n",
      "Epoch 34/100\n",
      "164/164 [==============================] - 56s 342ms/step - loss: 5.2161 - accuracy: 0.0483 - val_loss: 10.3663 - val_accuracy: 0.0298\n",
      "Epoch 35/100\n",
      "164/164 [==============================] - 57s 348ms/step - loss: 5.1596 - accuracy: 0.0508 - val_loss: 10.4324 - val_accuracy: 0.0329\n",
      "Epoch 36/100\n",
      "164/164 [==============================] - 57s 345ms/step - loss: 5.0991 - accuracy: 0.0517 - val_loss: 10.5046 - val_accuracy: 0.0315\n",
      "Epoch 37/100\n",
      "164/164 [==============================] - 57s 347ms/step - loss: 5.0416 - accuracy: 0.0525 - val_loss: 10.5612 - val_accuracy: 0.0341\n",
      "Epoch 38/100\n",
      "164/164 [==============================] - 56s 341ms/step - loss: 4.9705 - accuracy: 0.0556 - val_loss: 10.5391 - val_accuracy: 0.0298\n",
      "Epoch 39/100\n",
      "164/164 [==============================] - 56s 339ms/step - loss: 4.9265 - accuracy: 0.0554 - val_loss: 10.6574 - val_accuracy: 0.0284\n",
      "Epoch 40/100\n",
      "164/164 [==============================] - 56s 341ms/step - loss: 4.8706 - accuracy: 0.0590 - val_loss: 10.6173 - val_accuracy: 0.0315\n",
      "Epoch 41/100\n",
      "164/164 [==============================] - 57s 351ms/step - loss: 4.8003 - accuracy: 0.0628 - val_loss: 10.7442 - val_accuracy: 0.0326\n",
      "Epoch 42/100\n",
      "164/164 [==============================] - 56s 345ms/step - loss: 4.7785 - accuracy: 0.0638 - val_loss: 10.7344 - val_accuracy: 0.0318\n",
      "Epoch 43/100\n",
      "164/164 [==============================] - 56s 341ms/step - loss: 4.6951 - accuracy: 0.0678 - val_loss: 10.7214 - val_accuracy: 0.0321\n",
      "Epoch 44/100\n",
      "164/164 [==============================] - 57s 351ms/step - loss: 4.6585 - accuracy: 0.0693 - val_loss: 10.8243 - val_accuracy: 0.0309\n",
      "Epoch 45/100\n",
      "164/164 [==============================] - 55s 339ms/step - loss: 4.6000 - accuracy: 0.0695 - val_loss: 10.9036 - val_accuracy: 0.0318\n",
      "Epoch 46/100\n",
      "164/164 [==============================] - 56s 344ms/step - loss: 4.5488 - accuracy: 0.0760 - val_loss: 10.8413 - val_accuracy: 0.0286\n",
      "Epoch 47/100\n",
      "164/164 [==============================] - 56s 344ms/step - loss: 4.4957 - accuracy: 0.0781 - val_loss: 10.9604 - val_accuracy: 0.0318\n",
      "Epoch 48/100\n",
      "164/164 [==============================] - 56s 339ms/step - loss: 4.4490 - accuracy: 0.0802 - val_loss: 10.9732 - val_accuracy: 0.0295\n",
      "Epoch 49/100\n",
      "164/164 [==============================] - 55s 336ms/step - loss: 4.4078 - accuracy: 0.0869 - val_loss: 10.9975 - val_accuracy: 0.0309\n",
      "Epoch 50/100\n",
      "164/164 [==============================] - 55s 336ms/step - loss: 4.3336 - accuracy: 0.0951 - val_loss: 10.9638 - val_accuracy: 0.0315\n",
      "Epoch 51/100\n",
      "164/164 [==============================] - 50s 306ms/step - loss: 4.2866 - accuracy: 0.1000 - val_loss: 11.1218 - val_accuracy: 0.0315\n",
      "Epoch 52/100\n",
      "164/164 [==============================] - 56s 342ms/step - loss: 4.2208 - accuracy: 0.1050 - val_loss: 11.1970 - val_accuracy: 0.0321\n",
      "Epoch 53/100\n",
      "164/164 [==============================] - 54s 332ms/step - loss: 4.1779 - accuracy: 0.1166 - val_loss: 11.2905 - val_accuracy: 0.0309\n",
      "Epoch 54/100\n",
      "164/164 [==============================] - 54s 331ms/step - loss: 4.1254 - accuracy: 0.1231 - val_loss: 11.2922 - val_accuracy: 0.0315\n",
      "Epoch 55/100\n",
      "164/164 [==============================] - 55s 334ms/step - loss: 4.0669 - accuracy: 0.1256 - val_loss: 11.3113 - val_accuracy: 0.0309\n",
      "Epoch 56/100\n"
     ]
    },
    {
     "name": "stdout",
     "output_type": "stream",
     "text": [
      "164/164 [==============================] - 52s 320ms/step - loss: 4.0486 - accuracy: 0.1350 - val_loss: 11.4419 - val_accuracy: 0.0312\n",
      "Epoch 57/100\n",
      "164/164 [==============================] - 55s 335ms/step - loss: 3.9940 - accuracy: 0.1491 - val_loss: 11.4261 - val_accuracy: 0.0284\n",
      "Epoch 58/100\n",
      "164/164 [==============================] - 52s 319ms/step - loss: 3.9242 - accuracy: 0.1523 - val_loss: 11.5208 - val_accuracy: 0.0309\n",
      "Epoch 59/100\n",
      "164/164 [==============================] - 52s 320ms/step - loss: 3.8918 - accuracy: 0.1552 - val_loss: 11.4652 - val_accuracy: 0.0301\n",
      "Epoch 60/100\n",
      "164/164 [==============================] - 53s 324ms/step - loss: 3.8310 - accuracy: 0.1701 - val_loss: 11.5486 - val_accuracy: 0.0292\n",
      "Epoch 61/100\n",
      "164/164 [==============================] - 52s 319ms/step - loss: 3.7908 - accuracy: 0.1781 - val_loss: 11.5884 - val_accuracy: 0.0304\n",
      "Epoch 62/100\n",
      "164/164 [==============================] - 53s 322ms/step - loss: 3.7341 - accuracy: 0.1856 - val_loss: 11.6180 - val_accuracy: 0.0312\n",
      "Epoch 63/100\n",
      "164/164 [==============================] - 56s 339ms/step - loss: 3.6978 - accuracy: 0.1982 - val_loss: 11.7130 - val_accuracy: 0.0318\n",
      "Epoch 64/100\n",
      "164/164 [==============================] - 53s 323ms/step - loss: 3.6588 - accuracy: 0.2039 - val_loss: 11.7781 - val_accuracy: 0.0318\n",
      "Epoch 65/100\n",
      "164/164 [==============================] - 53s 324ms/step - loss: 3.5922 - accuracy: 0.2226 - val_loss: 11.8099 - val_accuracy: 0.0284\n",
      "Epoch 66/100\n",
      "164/164 [==============================] - 53s 322ms/step - loss: 3.5440 - accuracy: 0.2308 - val_loss: 11.8465 - val_accuracy: 0.0315\n",
      "Epoch 67/100\n",
      "164/164 [==============================] - 54s 327ms/step - loss: 3.5200 - accuracy: 0.2333 - val_loss: 11.9050 - val_accuracy: 0.0329\n",
      "Epoch 68/100\n",
      "164/164 [==============================] - 54s 329ms/step - loss: 3.4796 - accuracy: 0.2430 - val_loss: 11.9601 - val_accuracy: 0.0306\n",
      "Epoch 69/100\n",
      "164/164 [==============================] - 54s 329ms/step - loss: 3.4261 - accuracy: 0.2497 - val_loss: 11.9895 - val_accuracy: 0.0329\n",
      "Epoch 70/100\n",
      "164/164 [==============================] - 54s 327ms/step - loss: 3.3942 - accuracy: 0.2616 - val_loss: 12.0435 - val_accuracy: 0.0352\n",
      "Epoch 71/100\n",
      "164/164 [==============================] - 55s 335ms/step - loss: 3.3319 - accuracy: 0.2755 - val_loss: 12.1149 - val_accuracy: 0.0335\n",
      "Epoch 72/100\n",
      "164/164 [==============================] - 53s 324ms/step - loss: 3.2958 - accuracy: 0.2793 - val_loss: 12.1593 - val_accuracy: 0.0304\n",
      "Epoch 73/100\n",
      "164/164 [==============================] - 53s 326ms/step - loss: 3.2856 - accuracy: 0.2795 - val_loss: 12.1821 - val_accuracy: 0.0347\n",
      "Epoch 74/100\n",
      "164/164 [==============================] - 54s 331ms/step - loss: 3.2353 - accuracy: 0.2911 - val_loss: 12.2389 - val_accuracy: 0.0338\n",
      "Epoch 75/100\n",
      "164/164 [==============================] - 54s 327ms/step - loss: 3.1680 - accuracy: 0.3106 - val_loss: 12.3282 - val_accuracy: 0.0355\n",
      "Epoch 76/100\n",
      "164/164 [==============================] - 52s 315ms/step - loss: 3.1310 - accuracy: 0.3173 - val_loss: 12.2379 - val_accuracy: 0.0344\n",
      "Epoch 77/100\n",
      "164/164 [==============================] - 54s 326ms/step - loss: 3.1071 - accuracy: 0.3230 - val_loss: 12.3802 - val_accuracy: 0.0352\n",
      "Epoch 78/100\n",
      "164/164 [==============================] - 53s 322ms/step - loss: 3.0641 - accuracy: 0.3295 - val_loss: 12.4862 - val_accuracy: 0.0326\n",
      "Epoch 79/100\n",
      "164/164 [==============================] - 54s 329ms/step - loss: 3.0308 - accuracy: 0.3370 - val_loss: 12.4462 - val_accuracy: 0.0329\n",
      "Epoch 80/100\n",
      "164/164 [==============================] - 54s 329ms/step - loss: 2.9896 - accuracy: 0.3507 - val_loss: 12.4974 - val_accuracy: 0.0352\n",
      "Epoch 81/100\n",
      "164/164 [==============================] - 54s 330ms/step - loss: 2.9344 - accuracy: 0.3591 - val_loss: 12.5645 - val_accuracy: 0.0326\n",
      "Epoch 82/100\n",
      "164/164 [==============================] - 54s 332ms/step - loss: 2.9416 - accuracy: 0.3570 - val_loss: 12.6227 - val_accuracy: 0.0338\n",
      "Epoch 83/100\n",
      "164/164 [==============================] - 54s 332ms/step - loss: 2.8871 - accuracy: 0.3687 - val_loss: 12.7383 - val_accuracy: 0.0341\n",
      "Epoch 84/100\n",
      "164/164 [==============================] - 54s 332ms/step - loss: 2.8323 - accuracy: 0.3826 - val_loss: 12.6465 - val_accuracy: 0.0306\n",
      "Epoch 85/100\n",
      "164/164 [==============================] - 55s 335ms/step - loss: 2.8179 - accuracy: 0.3809 - val_loss: 12.7433 - val_accuracy: 0.0361\n",
      "Epoch 86/100\n",
      "164/164 [==============================] - 53s 326ms/step - loss: 2.8029 - accuracy: 0.3782 - val_loss: 12.8485 - val_accuracy: 0.0332\n",
      "Epoch 87/100\n",
      "164/164 [==============================] - 55s 334ms/step - loss: 2.7573 - accuracy: 0.3927 - val_loss: 12.8617 - val_accuracy: 0.0347\n",
      "Epoch 88/100\n",
      "164/164 [==============================] - 54s 333ms/step - loss: 2.6925 - accuracy: 0.4076 - val_loss: 12.8602 - val_accuracy: 0.0369\n",
      "Epoch 89/100\n",
      "164/164 [==============================] - 54s 329ms/step - loss: 2.7047 - accuracy: 0.4070 - val_loss: 12.8989 - val_accuracy: 0.0347\n",
      "Epoch 90/100\n",
      "164/164 [==============================] - 59s 363ms/step - loss: 2.6342 - accuracy: 0.4192 - val_loss: 12.9246 - val_accuracy: 0.0341\n",
      "Epoch 91/100\n",
      "164/164 [==============================] - 67s 409ms/step - loss: 2.6182 - accuracy: 0.4212 - val_loss: 13.0295 - val_accuracy: 0.0278\n",
      "Epoch 92/100\n",
      "164/164 [==============================] - 58s 353ms/step - loss: 2.5883 - accuracy: 0.4317 - val_loss: 13.0270 - val_accuracy: 0.0344\n",
      "Epoch 93/100\n",
      "164/164 [==============================] - 56s 340ms/step - loss: 2.5438 - accuracy: 0.4423 - val_loss: 13.1123 - val_accuracy: 0.0329\n",
      "Epoch 94/100\n",
      "164/164 [==============================] - 56s 342ms/step - loss: 2.5883 - accuracy: 0.4219 - val_loss: 13.0573 - val_accuracy: 0.0338\n",
      "Epoch 95/100\n",
      "164/164 [==============================] - 56s 341ms/step - loss: 2.4970 - accuracy: 0.4414 - val_loss: 13.0848 - val_accuracy: 0.0338\n",
      "Epoch 96/100\n",
      "164/164 [==============================] - 56s 342ms/step - loss: 2.4708 - accuracy: 0.4528 - val_loss: 13.2609 - val_accuracy: 0.0367\n",
      "Epoch 97/100\n",
      "164/164 [==============================] - 55s 338ms/step - loss: 2.4211 - accuracy: 0.4645 - val_loss: 13.2137 - val_accuracy: 0.0349\n",
      "Epoch 98/100\n",
      "164/164 [==============================] - 54s 330ms/step - loss: 2.4225 - accuracy: 0.4645 - val_loss: 13.3025 - val_accuracy: 0.0355\n",
      "Epoch 99/100\n",
      "164/164 [==============================] - 54s 331ms/step - loss: 2.4072 - accuracy: 0.4639 - val_loss: 13.3023 - val_accuracy: 0.0364\n",
      "Epoch 100/100\n",
      "164/164 [==============================] - 54s 332ms/step - loss: 2.3607 - accuracy: 0.4767 - val_loss: 13.3138 - val_accuracy: 0.0344\n"
     ]
    }
   ],
   "source": [
    "# Training Model 2\n",
    "history2 = model2.fit(X_train, y_train, validation_data=(X_val, y_val), epochs=100, verbose=1)"
   ]
  },
  {
   "cell_type": "code",
   "execution_count": 17,
   "id": "6f9d30e7",
   "metadata": {},
   "outputs": [
    {
     "name": "stdout",
     "output_type": "stream",
     "text": [
      "Validation Loss for Model 1: 14.827579498291016\n",
      "Validation Loss for Model 2: 13.31383991241455\n"
     ]
    }
   ],
   "source": [
    "val_loss_model1 = history1.history['val_loss'][-1]\n",
    "val_loss_model2 = history2.history['val_loss'][-1]\n",
    "\n",
    "print(f\"Validation Loss for Model 1: {val_loss_model1}\")\n",
    "print(f\"Validation Loss for Model 2: {val_loss_model2}\")"
   ]
  },
  {
   "cell_type": "code",
   "execution_count": 18,
   "id": "5d198026",
   "metadata": {},
   "outputs": [
    {
     "name": "stderr",
     "output_type": "stream",
     "text": [
      "C:\\Users\\PC\\anaconda3\\Lib\\site-packages\\keras\\src\\engine\\training.py:3000: UserWarning: You are saving your model as an HDF5 file via `model.save()`. This file format is considered legacy. We recommend using instead the native Keras format, e.g. `model.save('my_model.keras')`.\n",
      "  saving_api.save_model(\n"
     ]
    },
    {
     "name": "stdout",
     "output_type": "stream",
     "text": [
      "Saved the best model as best_model2.h5\n"
     ]
    }
   ],
   "source": [
    "if val_loss_model1 < val_loss_model2:\n",
    "    best_model = model1\n",
    "    best_model_name = \"best_model1.h5\"\n",
    "else:\n",
    "    best_model = model2\n",
    "    best_model_name = \"best_model2.h5\"\n",
    "\n",
    "best_model.save(best_model_name)\n",
    "print(f\"Saved the best model as {best_model_name}\")"
   ]
  },
  {
   "cell_type": "code",
   "execution_count": 19,
   "id": "27f29258",
   "metadata": {},
   "outputs": [
    {
     "name": "stdout",
     "output_type": "stream",
     "text": [
      "Model 1 has 1197461 parameters.\n",
      "Model 2 has 1197461 parameters.\n"
     ]
    }
   ],
   "source": [
    "params_model1 = model1.count_params()\n",
    "params_model2 = model2.count_params()\n",
    "\n",
    "print(f\"Model 1 has {params_model1} parameters.\")\n",
    "print(f\"Model 2 has {params_model2} parameters.\")"
   ]
  },
  {
   "cell_type": "code",
   "execution_count": 25,
   "id": "a252f0c8",
   "metadata": {},
   "outputs": [
    {
     "name": "stdout",
     "output_type": "stream",
     "text": [
      "Please type five words in Shona: mangwana ndikamuka ndirikuda kuenda newe\n",
      "The next words might be: nguva ataurwa kwaisangotenderwa\n"
     ]
    }
   ],
   "source": [
    "from keras.models import load_model\n",
    "from tensorflow.keras.preprocessing.sequence import pad_sequences\n",
    "\n",
    "# Load the previously saved model\n",
    "model = load_model('best_model2.h5')\n",
    "\n",
    "def predict_next_words(model, tokenizer, text, num_words=1):\n",
    "    \"\"\"\n",
    "    Predict the next set of words using the trained model.\n",
    "\n",
    "    Args:\n",
    "    - model (keras.Model): The trained model.\n",
    "    - tokenizer (Tokenizer): The tokenizer object used for preprocessing.\n",
    "    - text (str): The input text.\n",
    "    - num_words (int): The number of words to predict.\n",
    "\n",
    "    Returns:\n",
    "    - str: The predicted words.\n",
    "    \"\"\"\n",
    "    for _ in range(num_words):\n",
    "        # Tokenize and pad the text\n",
    "        sequence = tokenizer.texts_to_sequences([text])[0]\n",
    "        sequence = pad_sequences([sequence], maxlen=5, padding='pre')\n",
    "\n",
    "        # Predict the next word\n",
    "        predicted_probs = model.predict(sequence, verbose=0)\n",
    "        predicted = np.argmax(predicted_probs, axis=-1)\n",
    "\n",
    "        # Convert the predicted word index to a word\n",
    "        output_word = \"\"\n",
    "        for word, index in tokenizer.word_index.items():\n",
    "            if index == predicted:\n",
    "                output_word = word\n",
    "                break\n",
    "\n",
    "        # Append the predicted word to the text\n",
    "        text += \" \" + output_word\n",
    "\n",
    "    return ' '.join(text.split(' ')[-num_words:])\n",
    "\n",
    "\n",
    "# Prompt the user for input\n",
    "user_input = input(\"Please type five words in Shona: \")\n",
    "\n",
    "# Predict the next words\n",
    "predicted_words = predict_next_words(model, tokenizer, user_input, num_words=3)\n",
    "print(f\"The next words might be: {predicted_words}\")"
   ]
  },
  {
   "cell_type": "code",
   "execution_count": null,
   "id": "9582c3bd",
   "metadata": {},
   "outputs": [],
   "source": []
  }
 ],
 "metadata": {
  "kernelspec": {
   "display_name": "Python 3 (ipykernel)",
   "language": "python",
   "name": "python3"
  },
  "language_info": {
   "codemirror_mode": {
    "name": "ipython",
    "version": 3
   },
   "file_extension": ".py",
   "mimetype": "text/x-python",
   "name": "python",
   "nbconvert_exporter": "python",
   "pygments_lexer": "ipython3",
   "version": "3.11.4"
  }
 },
 "nbformat": 4,
 "nbformat_minor": 5
}
